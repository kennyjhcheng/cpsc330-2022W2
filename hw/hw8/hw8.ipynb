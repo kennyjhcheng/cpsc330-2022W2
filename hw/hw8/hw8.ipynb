{
 "cells": [
  {
   "cell_type": "markdown",
   "id": "e33c5b0c-d0f1-40c0-b794-3b3471ac73d2",
   "metadata": {},
   "source": [
    "# CPSC 330 - Applied Machine Learning \n",
    "\n",
    "## Homework 8: Word embeddings, time series, and communication\n",
    "### Associated lectures: Lectures 17, 19, 20, and ML communication \n",
    "\n",
    "**Due date: April 12, 2022 at 11:59pm**"
   ]
  },
  {
   "cell_type": "markdown",
   "id": "e851ce52-f981-4c4e-9e9e-a740edd12e41",
   "metadata": {},
   "source": [
    "## Table of Contents\n",
    "\n",
    "- [Submission instructions](#sg) (4%)\n",
    "- [Exercise 1 - Exploring pre-trained word embeddings](#1) (24%)\n",
    "- [Exercise 2 - Exploring time series data](#2) (16%)\n",
    "- [Exercise 3 - Short answer questions](#4) (10%)\n",
    "- [Exercise 4 - Communication](#4) (46%)\n",
    "- (Optional)[Exercise 5 - Course take away](#5)"
   ]
  },
  {
   "cell_type": "code",
   "execution_count": 1,
   "id": "a4651888-484b-42a0-95e1-d273e5069205",
   "metadata": {
    "slideshow": {
     "slide_type": "skip"
    }
   },
   "outputs": [],
   "source": [
    "import os\n",
    "\n",
    "%matplotlib inline\n",
    "import matplotlib.pyplot as plt\n",
    "import numpy as np\n",
    "import pandas as pd\n",
    "import seaborn as sns\n",
    "from sklearn.cluster import DBSCAN, KMeans\n",
    "from sklearn.compose import ColumnTransformer, make_column_transformer\n",
    "from sklearn.feature_extraction.text import CountVectorizer\n",
    "from sklearn.impute import SimpleImputer\n",
    "from sklearn.linear_model import LogisticRegression\n",
    "from sklearn.metrics import r2_score\n",
    "from sklearn.model_selection import (\n",
    "    GridSearchCV,\n",
    "    RandomizedSearchCV,\n",
    "    cross_validate,\n",
    "    train_test_split,\n",
    ")\n",
    "from sklearn.pipeline import Pipeline, make_pipeline\n",
    "from sklearn.preprocessing import OneHotEncoder, OrdinalEncoder, StandardScaler\n",
    "\n",
    "pd.set_option(\"display.max_colwidth\", 0)"
   ]
  },
  {
   "cell_type": "markdown",
   "id": "086914c2-5de1-414a-8770-23bef9f312d0",
   "metadata": {},
   "source": [
    "<br><br><br><br>"
   ]
  },
  {
   "cell_type": "markdown",
   "id": "afe22cb5-f825-4dba-b5e3-3538f4afe703",
   "metadata": {},
   "source": [
    "## Instructions \n",
    "<hr>\n",
    "rubric={points:4}\n",
    "\n",
    "Follow the [homework submission instructions](https://github.com/UBC-CS/cpsc330/blob/master/docs/homework_instructions.md). \n",
    "\n",
    "**You may work on this homework in a group and submit your assignment as a group.** Below are some instructions on working as a group.  \n",
    "- The maximum group size is 2. \n",
    "- Use group work as an opportunity to collaborate and learn new things from each other. \n",
    "- Be respectful to each other and make sure you understand all the concepts in the assignment well. \n",
    "- It's your responsibility to make sure that the assignment is submitted by one of the group members before the deadline. \n",
    "- You can find the instructions on how to do group submission on Gradescope [here](https://help.gradescope.com/article/m5qz2xsnjy-student-add-group-members)."
   ]
  },
  {
   "cell_type": "markdown",
   "id": "69be5b2d-1854-4c63-bcc6-9b6258b7293a",
   "metadata": {},
   "source": [
    "<br><br><br><br>"
   ]
  },
  {
   "cell_type": "markdown",
   "id": "859b3f00-a3e5-45d8-b504-22a84ace38cd",
   "metadata": {},
   "source": [
    "## Exercise 1:  Exploring pre-trained word embeddings <a name=\"1\"></a>\n",
    "<hr>\n",
    "\n",
    "In lecture 17, we talked about natural language processing (NLP). Using pre-trained word embeddings is very common in NLP. It has been shown that pre-trained word embeddings [work well on a variety of text classification tasks](http://www.lrec-conf.org/proceedings/lrec2018/pdf/721.pdf). These embeddings are created by training a model like Word2Vec on a huge corpus of text such as a dump of Wikipedia or a dump of the web crawl. \n",
    "\n",
    "A number of pre-trained word embeddings are available out there. Some popular ones are: \n",
    "\n",
    "- [GloVe](https://nlp.stanford.edu/projects/glove/)\n",
    "    * trained using [the GloVe algorithm](https://nlp.stanford.edu/pubs/glove.pdf) \n",
    "    * published by Stanford University \n",
    "- [fastText pre-trained embeddings for 294 languages](https://fasttext.cc/docs/en/pretrained-vectors.html) \n",
    "    * trained using the fastText algorithm\n",
    "    * published by Facebook\n",
    "    \n",
    "In this exercise, you will be exploring GloVe Wikipedia pre-trained embeddings. The code below loads the word vectors trained on Wikipedia using an algorithm called Glove. You'll need `gensim` package for that in your cpsc330 conda environment. \n",
    "\n",
    "```\n",
    "> conda activate cpsc330\n",
    "> conda install -c anaconda gensim\n",
    "```"
   ]
  },
  {
   "cell_type": "code",
   "execution_count": 2,
   "id": "b4823523-ca44-48a3-94bb-f6e453d27f1c",
   "metadata": {},
   "outputs": [
    {
     "name": "stdout",
     "output_type": "stream",
     "text": [
      "['fasttext-wiki-news-subwords-300', 'conceptnet-numberbatch-17-06-300', 'word2vec-ruscorpora-300', 'word2vec-google-news-300', 'glove-wiki-gigaword-50', 'glove-wiki-gigaword-100', 'glove-wiki-gigaword-200', 'glove-wiki-gigaword-300', 'glove-twitter-25', 'glove-twitter-50', 'glove-twitter-100', 'glove-twitter-200', '__testing_word2vec-matrix-synopsis']\n"
     ]
    }
   ],
   "source": [
    "import gensim\n",
    "import gensim.downloader\n",
    "\n",
    "print(list(gensim.downloader.info()[\"models\"].keys()))"
   ]
  },
  {
   "cell_type": "code",
   "execution_count": 3,
   "id": "83e4717e-215b-4c1b-b08a-9f5adbb52467",
   "metadata": {},
   "outputs": [],
   "source": [
    "# This will take a while to run when you run it for the first time.\n",
    "import gensim.downloader as api\n",
    "\n",
    "glove_wiki_vectors = api.load(\"glove-wiki-gigaword-100\")"
   ]
  },
  {
   "cell_type": "code",
   "execution_count": 4,
   "id": "76ec38c4-ce89-4372-b015-035f4d682132",
   "metadata": {},
   "outputs": [
    {
     "data": {
      "text/plain": [
       "400000"
      ]
     },
     "execution_count": 4,
     "metadata": {},
     "output_type": "execute_result"
    }
   ],
   "source": [
    "len(glove_wiki_vectors)"
   ]
  },
  {
   "cell_type": "markdown",
   "id": "8c78dafb-f712-447a-b870-1fac6c249e5f",
   "metadata": {},
   "source": [
    "There are 400,000 word vectors in these pre-trained model. "
   ]
  },
  {
   "cell_type": "markdown",
   "id": "ce2a75ac-fd18-4a53-89d3-26f1051c4ef3",
   "metadata": {},
   "source": [
    "<br><br>"
   ]
  },
  {
   "cell_type": "markdown",
   "id": "8119fb78-d2be-4ccf-8c8d-31026563e072",
   "metadata": {},
   "source": [
    "### 1.1 Word similarity using pre-trained embeddings\n",
    "rubric={points:4}\n",
    "\n",
    "Now that we have GloVe Wiki vectors (`glove_wiki_vectors`) loaded, let's explore the embeddings. \n",
    "\n",
    "**Your tasks:**\n",
    "\n",
    "1. Calculate the cosine similarity for the following word pairs (`word_pairs`) using the [`similarity`](https://radimrehurek.com/gensim/models/keyedvectors.html?highlight=similarity#gensim.models.keyedvectors.KeyedVectors.similarity) method of the model.\n",
    "2. Do the similarities make sense? "
   ]
  },
  {
   "cell_type": "code",
   "execution_count": 5,
   "id": "aadd1aa6-6bb8-48d7-a959-691e19d411ec",
   "metadata": {},
   "outputs": [],
   "source": [
    "word_pairs = [\n",
    "    (\"coast\", \"shore\"),\n",
    "    (\"clothes\", \"closet\"),\n",
    "    (\"old\", \"new\"),\n",
    "    (\"smart\", \"intelligent\"),\n",
    "    (\"dog\", \"cat\"),\n",
    "    (\"tree\", \"lawyer\"),\n",
    "]"
   ]
  },
  {
   "attachments": {},
   "cell_type": "markdown",
   "id": "af9d7017",
   "metadata": {},
   "source": [
    "#### Question 1"
   ]
  },
  {
   "cell_type": "code",
   "execution_count": 6,
   "id": "42c9deac",
   "metadata": {},
   "outputs": [
    {
     "data": {
      "text/html": [
       "<div>\n",
       "<style scoped>\n",
       "    .dataframe tbody tr th:only-of-type {\n",
       "        vertical-align: middle;\n",
       "    }\n",
       "\n",
       "    .dataframe tbody tr th {\n",
       "        vertical-align: top;\n",
       "    }\n",
       "\n",
       "    .dataframe thead th {\n",
       "        text-align: right;\n",
       "    }\n",
       "</style>\n",
       "<table border=\"1\" class=\"dataframe\">\n",
       "  <thead>\n",
       "    <tr style=\"text-align: right;\">\n",
       "      <th></th>\n",
       "      <th>word0</th>\n",
       "      <th>word1</th>\n",
       "      <th>similarity</th>\n",
       "    </tr>\n",
       "  </thead>\n",
       "  <tbody>\n",
       "    <tr>\n",
       "      <th>4</th>\n",
       "      <td>dog</td>\n",
       "      <td>cat</td>\n",
       "      <td>0.879807</td>\n",
       "    </tr>\n",
       "    <tr>\n",
       "      <th>3</th>\n",
       "      <td>smart</td>\n",
       "      <td>intelligent</td>\n",
       "      <td>0.755273</td>\n",
       "    </tr>\n",
       "    <tr>\n",
       "      <th>0</th>\n",
       "      <td>coast</td>\n",
       "      <td>shore</td>\n",
       "      <td>0.700027</td>\n",
       "    </tr>\n",
       "    <tr>\n",
       "      <th>2</th>\n",
       "      <td>old</td>\n",
       "      <td>new</td>\n",
       "      <td>0.643249</td>\n",
       "    </tr>\n",
       "    <tr>\n",
       "      <th>1</th>\n",
       "      <td>clothes</td>\n",
       "      <td>closet</td>\n",
       "      <td>0.546276</td>\n",
       "    </tr>\n",
       "    <tr>\n",
       "      <th>5</th>\n",
       "      <td>tree</td>\n",
       "      <td>lawyer</td>\n",
       "      <td>0.076719</td>\n",
       "    </tr>\n",
       "  </tbody>\n",
       "</table>\n",
       "</div>"
      ],
      "text/plain": [
       "     word0        word1  similarity\n",
       "4  dog      cat          0.879807  \n",
       "3  smart    intelligent  0.755273  \n",
       "0  coast    shore        0.700027  \n",
       "2  old      new          0.643249  \n",
       "1  clothes  closet       0.546276  \n",
       "5  tree     lawyer       0.076719  "
      ]
     },
     "execution_count": 6,
     "metadata": {},
     "output_type": "execute_result"
    }
   ],
   "source": [
    "similarities = {\n",
    "    \"word0\": [],\n",
    "    \"word1\": [],\n",
    "    \"similarity\": []\n",
    "}\n",
    "for pair in word_pairs:\n",
    "    similarities[\"word0\"].append(pair[0])\n",
    "    similarities[\"word1\"].append(pair[1])\n",
    "    similarities[\"similarity\"].append(glove_wiki_vectors.similarity(pair[0], pair[1]))\n",
    "\n",
    "pd.DataFrame(similarities).sort_values(\"similarity\", ascending=False)"
   ]
  },
  {
   "attachments": {},
   "cell_type": "markdown",
   "id": "d1c129d2",
   "metadata": {},
   "source": [
    "#### Question 2\n",
    "\n",
    "The similarities make sense to an extent. \n",
    "- Dog and cat are both common domestic animals\n",
    "- Smart and intelligent can be synonyms\n",
    "- Coast and shore both refer to land near water\n",
    "- old and new are antonyms\n",
    "- clothes are stored in closets\n",
    "- tree and lawyer are not similar at all, corresponding to the extremely low score"
   ]
  },
  {
   "cell_type": "markdown",
   "id": "b0331ffe-bf58-4198-bd1e-3b62a5d34319",
   "metadata": {},
   "source": [
    "<br><br>"
   ]
  },
  {
   "cell_type": "markdown",
   "id": "4d528120-c1ff-4203-82b8-404b62ba6bb0",
   "metadata": {},
   "source": [
    "### 1.2 Bias in embeddings\n",
    "rubric={points:10}\n",
    "\n",
    "**Your tasks:**\n",
    "1. In Lecture 17 we saw that our pre-trained word embedding model output an analogy that reinforced a gender stereotype. Give an example of how using such a model could cause harm in the real world.\n",
    "2. Here we are using pre-trained embeddings which are built using a dump of Wikipedia data. Explore whether there are any worrisome biases present in these embeddings or not by trying out some examples. You can use the following two methods or other methods of your choice to explore what kind of stereotypes and biases are encoded in these embeddings. \n",
    "    - You can use the `analogy` function below which gives words analogies. \n",
    "    - You can also use [similarity](https://radimrehurek.com/gensim/models/keyedvectors.html?highlight=similarity#gensim.models.keyedvectors.KeyedVectors.similarity) or [distance](https://radimrehurek.com/gensim/models/keyedvectors.html?highlight=distance#gensim.models.keyedvectors.KeyedVectors.distances) methods. (An example is shown below.)   \n",
    "3. Discuss your observations. Do you observe the gender stereotype we observed in class with GloVe Wikipedia embeddings?\n",
    "\n",
    "> Note that most of the recent embeddings are de-biased. But you might still observe some biases in the embeddings. Also, not all stereotypes present in pre-trained embeddings are necessarily bad. But you should be aware of them when you use embeddings in your models. "
   ]
  },
  {
   "cell_type": "code",
   "execution_count": 7,
   "id": "59f7ef2b-d6b4-4338-a153-77fd4fc9847e",
   "metadata": {},
   "outputs": [],
   "source": [
    "def analogy(word1, word2, word3, model=glove_wiki_vectors):\n",
    "    \"\"\"\n",
    "    Returns analogy word using the given model.\n",
    "\n",
    "    Parameters\n",
    "    --------------\n",
    "    word1 : (str)\n",
    "        word1 in the analogy relation\n",
    "    word2 : (str)\n",
    "        word2 in the analogy relation\n",
    "    word3 : (str)\n",
    "        word3 in the analogy relation\n",
    "    model :\n",
    "        word embedding model\n",
    "\n",
    "    Returns\n",
    "    ---------------\n",
    "        pd.dataframe\n",
    "    \"\"\"\n",
    "    print(\"%s : %s :: %s : ?\" % (word1, word2, word3))\n",
    "    sim_words = model.most_similar(positive=[word3, word2], negative=[word1])\n",
    "    return pd.DataFrame(sim_words, columns=[\"Analogy word\", \"Score\"])"
   ]
  },
  {
   "cell_type": "markdown",
   "id": "a0d900c0-3027-4b9f-a750-bca946cf7bdb",
   "metadata": {},
   "source": [
    "An example of using similarity between words to explore biases and stereotypes.  "
   ]
  },
  {
   "cell_type": "code",
   "execution_count": 8,
   "id": "13f0bacc-ba70-43e3-a7be-07c263f48048",
   "metadata": {},
   "outputs": [
    {
     "data": {
      "text/plain": [
       "0.4472359"
      ]
     },
     "execution_count": 8,
     "metadata": {},
     "output_type": "execute_result"
    }
   ],
   "source": [
    "glove_wiki_vectors.similarity(\"white\", \"rich\")"
   ]
  },
  {
   "cell_type": "code",
   "execution_count": 9,
   "id": "2d2e6671-c6db-4cc9-9652-faba038e8e50",
   "metadata": {},
   "outputs": [
    {
     "data": {
      "text/plain": [
       "0.51745194"
      ]
     },
     "execution_count": 9,
     "metadata": {},
     "output_type": "execute_result"
    }
   ],
   "source": [
    "glove_wiki_vectors.similarity(\"black\", \"rich\")"
   ]
  },
  {
   "cell_type": "code",
   "execution_count": 10,
   "id": "23d854da",
   "metadata": {},
   "outputs": [
    {
     "name": "stdout",
     "output_type": "stream",
     "text": [
      "man : programmer :: woman : ?\n"
     ]
    },
    {
     "data": {
      "text/html": [
       "<div>\n",
       "<style scoped>\n",
       "    .dataframe tbody tr th:only-of-type {\n",
       "        vertical-align: middle;\n",
       "    }\n",
       "\n",
       "    .dataframe tbody tr th {\n",
       "        vertical-align: top;\n",
       "    }\n",
       "\n",
       "    .dataframe thead th {\n",
       "        text-align: right;\n",
       "    }\n",
       "</style>\n",
       "<table border=\"1\" class=\"dataframe\">\n",
       "  <thead>\n",
       "    <tr style=\"text-align: right;\">\n",
       "      <th></th>\n",
       "      <th>Analogy word</th>\n",
       "      <th>Score</th>\n",
       "    </tr>\n",
       "  </thead>\n",
       "  <tbody>\n",
       "    <tr>\n",
       "      <th>0</th>\n",
       "      <td>educator</td>\n",
       "      <td>0.585333</td>\n",
       "    </tr>\n",
       "    <tr>\n",
       "      <th>1</th>\n",
       "      <td>programmers</td>\n",
       "      <td>0.573053</td>\n",
       "    </tr>\n",
       "    <tr>\n",
       "      <th>2</th>\n",
       "      <td>linguist</td>\n",
       "      <td>0.543201</td>\n",
       "    </tr>\n",
       "    <tr>\n",
       "      <th>3</th>\n",
       "      <td>technician</td>\n",
       "      <td>0.537336</td>\n",
       "    </tr>\n",
       "    <tr>\n",
       "      <th>4</th>\n",
       "      <td>freelance</td>\n",
       "      <td>0.536212</td>\n",
       "    </tr>\n",
       "    <tr>\n",
       "      <th>5</th>\n",
       "      <td>animator</td>\n",
       "      <td>0.533937</td>\n",
       "    </tr>\n",
       "    <tr>\n",
       "      <th>6</th>\n",
       "      <td>translator</td>\n",
       "      <td>0.533419</td>\n",
       "    </tr>\n",
       "    <tr>\n",
       "      <th>7</th>\n",
       "      <td>software</td>\n",
       "      <td>0.496662</td>\n",
       "    </tr>\n",
       "    <tr>\n",
       "      <th>8</th>\n",
       "      <td>psychotherapist</td>\n",
       "      <td>0.495662</td>\n",
       "    </tr>\n",
       "    <tr>\n",
       "      <th>9</th>\n",
       "      <td>technologist</td>\n",
       "      <td>0.488051</td>\n",
       "    </tr>\n",
       "  </tbody>\n",
       "</table>\n",
       "</div>"
      ],
      "text/plain": [
       "      Analogy word     Score\n",
       "0  educator         0.585333\n",
       "1  programmers      0.573053\n",
       "2  linguist         0.543201\n",
       "3  technician       0.537336\n",
       "4  freelance        0.536212\n",
       "5  animator         0.533937\n",
       "6  translator       0.533419\n",
       "7  software         0.496662\n",
       "8  psychotherapist  0.495662\n",
       "9  technologist     0.488051"
      ]
     },
     "execution_count": 10,
     "metadata": {},
     "output_type": "execute_result"
    }
   ],
   "source": [
    "analogy(\"man\", \"programmer\", \"woman\")"
   ]
  },
  {
   "cell_type": "code",
   "execution_count": 11,
   "id": "71ab561f",
   "metadata": {},
   "outputs": [
    {
     "name": "stdout",
     "output_type": "stream",
     "text": [
      "men : work :: women : ?\n"
     ]
    },
    {
     "data": {
      "text/html": [
       "<div>\n",
       "<style scoped>\n",
       "    .dataframe tbody tr th:only-of-type {\n",
       "        vertical-align: middle;\n",
       "    }\n",
       "\n",
       "    .dataframe tbody tr th {\n",
       "        vertical-align: top;\n",
       "    }\n",
       "\n",
       "    .dataframe thead th {\n",
       "        text-align: right;\n",
       "    }\n",
       "</style>\n",
       "<table border=\"1\" class=\"dataframe\">\n",
       "  <thead>\n",
       "    <tr style=\"text-align: right;\">\n",
       "      <th></th>\n",
       "      <th>Analogy word</th>\n",
       "      <th>Score</th>\n",
       "    </tr>\n",
       "  </thead>\n",
       "  <tbody>\n",
       "    <tr>\n",
       "      <th>0</th>\n",
       "      <td>works</td>\n",
       "      <td>0.766605</td>\n",
       "    </tr>\n",
       "    <tr>\n",
       "      <th>1</th>\n",
       "      <td>working</td>\n",
       "      <td>0.760297</td>\n",
       "    </tr>\n",
       "    <tr>\n",
       "      <th>2</th>\n",
       "      <td>well</td>\n",
       "      <td>0.706947</td>\n",
       "    </tr>\n",
       "    <tr>\n",
       "      <th>3</th>\n",
       "      <td>done</td>\n",
       "      <td>0.702823</td>\n",
       "    </tr>\n",
       "    <tr>\n",
       "      <th>4</th>\n",
       "      <td>study</td>\n",
       "      <td>0.694778</td>\n",
       "    </tr>\n",
       "    <tr>\n",
       "      <th>5</th>\n",
       "      <td>care</td>\n",
       "      <td>0.681411</td>\n",
       "    </tr>\n",
       "    <tr>\n",
       "      <th>6</th>\n",
       "      <td>writing</td>\n",
       "      <td>0.677440</td>\n",
       "    </tr>\n",
       "    <tr>\n",
       "      <th>7</th>\n",
       "      <td>social</td>\n",
       "      <td>0.676755</td>\n",
       "    </tr>\n",
       "    <tr>\n",
       "      <th>8</th>\n",
       "      <td>education</td>\n",
       "      <td>0.675622</td>\n",
       "    </tr>\n",
       "    <tr>\n",
       "      <th>9</th>\n",
       "      <td>worked</td>\n",
       "      <td>0.674624</td>\n",
       "    </tr>\n",
       "  </tbody>\n",
       "</table>\n",
       "</div>"
      ],
      "text/plain": [
       "  Analogy word     Score\n",
       "0  works        0.766605\n",
       "1  working      0.760297\n",
       "2  well         0.706947\n",
       "3  done         0.702823\n",
       "4  study        0.694778\n",
       "5  care         0.681411\n",
       "6  writing      0.677440\n",
       "7  social       0.676755\n",
       "8  education    0.675622\n",
       "9  worked       0.674624"
      ]
     },
     "execution_count": 11,
     "metadata": {},
     "output_type": "execute_result"
    }
   ],
   "source": [
    "analogy(\"men\", \"work\", \"women\")"
   ]
  },
  {
   "cell_type": "code",
   "execution_count": 12,
   "id": "802d9750",
   "metadata": {},
   "outputs": [
    {
     "name": "stdout",
     "output_type": "stream",
     "text": [
      "woman : housewife :: man : ?\n"
     ]
    },
    {
     "data": {
      "text/html": [
       "<div>\n",
       "<style scoped>\n",
       "    .dataframe tbody tr th:only-of-type {\n",
       "        vertical-align: middle;\n",
       "    }\n",
       "\n",
       "    .dataframe tbody tr th {\n",
       "        vertical-align: top;\n",
       "    }\n",
       "\n",
       "    .dataframe thead th {\n",
       "        text-align: right;\n",
       "    }\n",
       "</style>\n",
       "<table border=\"1\" class=\"dataframe\">\n",
       "  <thead>\n",
       "    <tr style=\"text-align: right;\">\n",
       "      <th></th>\n",
       "      <th>Analogy word</th>\n",
       "      <th>Score</th>\n",
       "    </tr>\n",
       "  </thead>\n",
       "  <tbody>\n",
       "    <tr>\n",
       "      <th>0</th>\n",
       "      <td>homemaker</td>\n",
       "      <td>0.618261</td>\n",
       "    </tr>\n",
       "    <tr>\n",
       "      <th>1</th>\n",
       "      <td>loner</td>\n",
       "      <td>0.581096</td>\n",
       "    </tr>\n",
       "    <tr>\n",
       "      <th>2</th>\n",
       "      <td>schoolteacher</td>\n",
       "      <td>0.579345</td>\n",
       "    </tr>\n",
       "    <tr>\n",
       "      <th>3</th>\n",
       "      <td>slacker</td>\n",
       "      <td>0.566048</td>\n",
       "    </tr>\n",
       "    <tr>\n",
       "      <th>4</th>\n",
       "      <td>dad</td>\n",
       "      <td>0.550712</td>\n",
       "    </tr>\n",
       "    <tr>\n",
       "      <th>5</th>\n",
       "      <td>thug</td>\n",
       "      <td>0.535593</td>\n",
       "    </tr>\n",
       "    <tr>\n",
       "      <th>6</th>\n",
       "      <td>shopkeeper</td>\n",
       "      <td>0.526345</td>\n",
       "    </tr>\n",
       "    <tr>\n",
       "      <th>7</th>\n",
       "      <td>workaholic</td>\n",
       "      <td>0.524418</td>\n",
       "    </tr>\n",
       "    <tr>\n",
       "      <th>8</th>\n",
       "      <td>mom</td>\n",
       "      <td>0.523698</td>\n",
       "    </tr>\n",
       "    <tr>\n",
       "      <th>9</th>\n",
       "      <td>old</td>\n",
       "      <td>0.518858</td>\n",
       "    </tr>\n",
       "  </tbody>\n",
       "</table>\n",
       "</div>"
      ],
      "text/plain": [
       "    Analogy word     Score\n",
       "0  homemaker      0.618261\n",
       "1  loner          0.581096\n",
       "2  schoolteacher  0.579345\n",
       "3  slacker        0.566048\n",
       "4  dad            0.550712\n",
       "5  thug           0.535593\n",
       "6  shopkeeper     0.526345\n",
       "7  workaholic     0.524418\n",
       "8  mom            0.523698\n",
       "9  old            0.518858"
      ]
     },
     "execution_count": 12,
     "metadata": {},
     "output_type": "execute_result"
    }
   ],
   "source": [
    "analogy(\"woman\", \"housewife\", \"man\")"
   ]
  },
  {
   "cell_type": "code",
   "execution_count": 13,
   "id": "9dc6bfc4",
   "metadata": {},
   "outputs": [
    {
     "name": "stdout",
     "output_type": "stream",
     "text": [
      "heterosexual : good :: lgbt : ?\n"
     ]
    },
    {
     "data": {
      "text/html": [
       "<div>\n",
       "<style scoped>\n",
       "    .dataframe tbody tr th:only-of-type {\n",
       "        vertical-align: middle;\n",
       "    }\n",
       "\n",
       "    .dataframe tbody tr th {\n",
       "        vertical-align: top;\n",
       "    }\n",
       "\n",
       "    .dataframe thead th {\n",
       "        text-align: right;\n",
       "    }\n",
       "</style>\n",
       "<table border=\"1\" class=\"dataframe\">\n",
       "  <thead>\n",
       "    <tr style=\"text-align: right;\">\n",
       "      <th></th>\n",
       "      <th>Analogy word</th>\n",
       "      <th>Score</th>\n",
       "    </tr>\n",
       "  </thead>\n",
       "  <tbody>\n",
       "    <tr>\n",
       "      <th>0</th>\n",
       "      <td>best</td>\n",
       "      <td>0.673102</td>\n",
       "    </tr>\n",
       "    <tr>\n",
       "      <th>1</th>\n",
       "      <td>well</td>\n",
       "      <td>0.614877</td>\n",
       "    </tr>\n",
       "    <tr>\n",
       "      <th>2</th>\n",
       "      <td>for</td>\n",
       "      <td>0.608162</td>\n",
       "    </tr>\n",
       "    <tr>\n",
       "      <th>3</th>\n",
       "      <td>critical</td>\n",
       "      <td>0.602974</td>\n",
       "    </tr>\n",
       "    <tr>\n",
       "      <th>4</th>\n",
       "      <td>award</td>\n",
       "      <td>0.597305</td>\n",
       "    </tr>\n",
       "    <tr>\n",
       "      <th>5</th>\n",
       "      <td>important</td>\n",
       "      <td>0.594038</td>\n",
       "    </tr>\n",
       "    <tr>\n",
       "      <th>6</th>\n",
       "      <td>community</td>\n",
       "      <td>0.592838</td>\n",
       "    </tr>\n",
       "    <tr>\n",
       "      <th>7</th>\n",
       "      <td>pride</td>\n",
       "      <td>0.590586</td>\n",
       "    </tr>\n",
       "    <tr>\n",
       "      <th>8</th>\n",
       "      <td>attention</td>\n",
       "      <td>0.589083</td>\n",
       "    </tr>\n",
       "    <tr>\n",
       "      <th>9</th>\n",
       "      <td>great</td>\n",
       "      <td>0.588720</td>\n",
       "    </tr>\n",
       "  </tbody>\n",
       "</table>\n",
       "</div>"
      ],
      "text/plain": [
       "  Analogy word     Score\n",
       "0  best         0.673102\n",
       "1  well         0.614877\n",
       "2  for          0.608162\n",
       "3  critical     0.602974\n",
       "4  award        0.597305\n",
       "5  important    0.594038\n",
       "6  community    0.592838\n",
       "7  pride        0.590586\n",
       "8  attention    0.589083\n",
       "9  great        0.588720"
      ]
     },
     "execution_count": 13,
     "metadata": {},
     "output_type": "execute_result"
    }
   ],
   "source": [
    "analogy(\"heterosexual\", \"good\", \"lgbt\")"
   ]
  },
  {
   "cell_type": "code",
   "execution_count": 14,
   "id": "bebfa794",
   "metadata": {},
   "outputs": [
    {
     "name": "stdout",
     "output_type": "stream",
     "text": [
      "male : vote :: female : ?\n"
     ]
    },
    {
     "data": {
      "text/html": [
       "<div>\n",
       "<style scoped>\n",
       "    .dataframe tbody tr th:only-of-type {\n",
       "        vertical-align: middle;\n",
       "    }\n",
       "\n",
       "    .dataframe tbody tr th {\n",
       "        vertical-align: top;\n",
       "    }\n",
       "\n",
       "    .dataframe thead th {\n",
       "        text-align: right;\n",
       "    }\n",
       "</style>\n",
       "<table border=\"1\" class=\"dataframe\">\n",
       "  <thead>\n",
       "    <tr style=\"text-align: right;\">\n",
       "      <th></th>\n",
       "      <th>Analogy word</th>\n",
       "      <th>Score</th>\n",
       "    </tr>\n",
       "  </thead>\n",
       "  <tbody>\n",
       "    <tr>\n",
       "      <th>0</th>\n",
       "      <td>election</td>\n",
       "      <td>0.846487</td>\n",
       "    </tr>\n",
       "    <tr>\n",
       "      <th>1</th>\n",
       "      <td>votes</td>\n",
       "      <td>0.835162</td>\n",
       "    </tr>\n",
       "    <tr>\n",
       "      <th>2</th>\n",
       "      <td>elections</td>\n",
       "      <td>0.822575</td>\n",
       "    </tr>\n",
       "    <tr>\n",
       "      <th>3</th>\n",
       "      <td>voting</td>\n",
       "      <td>0.789490</td>\n",
       "    </tr>\n",
       "    <tr>\n",
       "      <th>4</th>\n",
       "      <td>voters</td>\n",
       "      <td>0.787616</td>\n",
       "    </tr>\n",
       "    <tr>\n",
       "      <th>5</th>\n",
       "      <td>voted</td>\n",
       "      <td>0.783951</td>\n",
       "    </tr>\n",
       "    <tr>\n",
       "      <th>6</th>\n",
       "      <td>polls</td>\n",
       "      <td>0.777235</td>\n",
       "    </tr>\n",
       "    <tr>\n",
       "      <th>7</th>\n",
       "      <td>democrats</td>\n",
       "      <td>0.770872</td>\n",
       "    </tr>\n",
       "    <tr>\n",
       "      <th>8</th>\n",
       "      <td>parliamentary</td>\n",
       "      <td>0.752749</td>\n",
       "    </tr>\n",
       "    <tr>\n",
       "      <th>9</th>\n",
       "      <td>ballot</td>\n",
       "      <td>0.749028</td>\n",
       "    </tr>\n",
       "  </tbody>\n",
       "</table>\n",
       "</div>"
      ],
      "text/plain": [
       "    Analogy word     Score\n",
       "0  election       0.846487\n",
       "1  votes          0.835162\n",
       "2  elections      0.822575\n",
       "3  voting         0.789490\n",
       "4  voters         0.787616\n",
       "5  voted          0.783951\n",
       "6  polls          0.777235\n",
       "7  democrats      0.770872\n",
       "8  parliamentary  0.752749\n",
       "9  ballot         0.749028"
      ]
     },
     "execution_count": 14,
     "metadata": {},
     "output_type": "execute_result"
    }
   ],
   "source": [
    "analogy(\"male\", \"vote\", \"female\")"
   ]
  },
  {
   "attachments": {},
   "cell_type": "markdown",
   "id": "226fe5a9",
   "metadata": {},
   "source": [
    "#### ANSWERS\n",
    "\n",
    "1. Using models in the real world can be harmful because users of applications that integrate racially or otherwise bias'd models could have severe implications on stereotypes that may be discriminatory and prejudiced. Additionally, the influence of bias'd models can spread extremely fast without users even realizing the implications of information they may be unconditionally accepting.\n",
    "\n",
    "2. (exploration above)\n",
    "\n",
    "3. I used various analogy queries to see if the model had similar biases to the ones identified in class, and additional biases. It seems that the GloVe Wikipedia embeddings do not exhibit the biases that the Google News embeddings had regarding gender stereotypes. Additionally, the GloVe Wikipedia embedding does not seem to exhibit sexual orientation biases either."
   ]
  },
  {
   "cell_type": "markdown",
   "id": "19f04b87-5fa0-4eb4-bb50-cb21aa7ffd1c",
   "metadata": {},
   "source": [
    "<br><br>"
   ]
  },
  {
   "cell_type": "markdown",
   "id": "9e6ccd3e-25c1-413d-b079-043fb2949090",
   "metadata": {},
   "source": [
    "### 1.3 Representation of all words in English\n",
    "rubric={reasoning:2}\n",
    "\n",
    "**Your tasks:**\n",
    "1. The vocabulary size of Wikipedia embeddings is quite large. Do you think it contains **all** words in English language? What would happen if you try to get a word vector that's not in the vocabulary (e.g., \"cpsc330\"). "
   ]
  },
  {
   "attachments": {},
   "cell_type": "markdown",
   "id": "190f8dc7",
   "metadata": {},
   "source": [
    "#### Answer\n",
    "\n",
    "1. The Wikipedia embedding definitely doesn't contain all words in the english language because language is extremely complicated with many unusual such as compound words, words created in fiction, or words that arose from slang trends. Trying to get a word vector not in the vocabulary will cause the model to throw an error."
   ]
  },
  {
   "cell_type": "code",
   "execution_count": 15,
   "id": "43f9ab50",
   "metadata": {},
   "outputs": [],
   "source": [
    "# glove_wiki_vectors.similar_by_key(\"Draconian\", \"Fantasy\")"
   ]
  },
  {
   "cell_type": "code",
   "execution_count": 16,
   "id": "40c4a428",
   "metadata": {},
   "outputs": [],
   "source": [
    "# glove_wiki_vectors.similarity(\"cpsc330\", \"fun\")"
   ]
  },
  {
   "cell_type": "markdown",
   "id": "464a0fbf-3a9c-42b3-b9cc-5dc474bc2804",
   "metadata": {},
   "source": [
    "<br><br>"
   ]
  },
  {
   "cell_type": "markdown",
   "id": "f1d3cd04-30c9-43f4-9b07-6443ab4ecd7d",
   "metadata": {},
   "source": [
    "### 1.4 Classification with pre-trained embeddings\n",
    "rubric={points:8}\n",
    "\n",
    "In lecture 16, we saw that you can conveniently get word vectors with `spaCy` with `en_core_web_md` model. In this exercise, you'll use word embeddings in multi-class text classification task. We will use [HappyDB](https://www.kaggle.com/ritresearch/happydb) corpus which contains about 100,000 happy moments classified into 7 categories: *affection, exercise, bonding, nature, leisure, achievement, enjoy_the_moment*. The data was crowd-sourced via [Amazon Mechanical Turk](https://www.mturk.com/). The ground truth label is not available for all examples, and in this lab, we'll only use the examples where ground truth is available (~15,000 examples). \n",
    "\n",
    "- Download the data from [here](https://www.kaggle.com/ritresearch/happydb).\n",
    "- Unzip the file and copy it in the lab directory.\n",
    "\n",
    "The code below reads the data CSV (assuming that it's present in the current directory as *cleaned_hm.csv*),  cleans it up a bit, and splits it into train and test splits. \n",
    "\n",
    "**Your tasks:**\n",
    "\n",
    "1. Train a logistic regression with bag-of-words features and show the classification report on the test set. \n",
    "2. Train logistic regression with average embedding representation extracted using spaCy and classification report on the test set. (You can refer to lecture 17 notes for this. Hint: you may want to consider using different [solvers](https://scikit-learn.org/stable/modules/generated/sklearn.linear_model.LogisticRegression.html) if you see convergence issues).  \n",
    "3. Discuss your results. Which model would be more interpretable?  \n",
    "4. Are you observing any benefits of transfer learning here? Briefly discuss. "
   ]
  },
  {
   "cell_type": "code",
   "execution_count": 17,
   "id": "b7b35845-7976-4cda-b798-0c0700868fea",
   "metadata": {},
   "outputs": [
    {
     "data": {
      "text/html": [
       "<div>\n",
       "<style scoped>\n",
       "    .dataframe tbody tr th:only-of-type {\n",
       "        vertical-align: middle;\n",
       "    }\n",
       "\n",
       "    .dataframe tbody tr th {\n",
       "        vertical-align: top;\n",
       "    }\n",
       "\n",
       "    .dataframe thead th {\n",
       "        text-align: right;\n",
       "    }\n",
       "</style>\n",
       "<table border=\"1\" class=\"dataframe\">\n",
       "  <thead>\n",
       "    <tr style=\"text-align: right;\">\n",
       "      <th></th>\n",
       "      <th>wid</th>\n",
       "      <th>reflection_period</th>\n",
       "      <th>original_hm</th>\n",
       "      <th>cleaned_hm</th>\n",
       "      <th>modified</th>\n",
       "      <th>num_sentence</th>\n",
       "      <th>ground_truth_category</th>\n",
       "      <th>predicted_category</th>\n",
       "    </tr>\n",
       "    <tr>\n",
       "      <th>hmid</th>\n",
       "      <th></th>\n",
       "      <th></th>\n",
       "      <th></th>\n",
       "      <th></th>\n",
       "      <th></th>\n",
       "      <th></th>\n",
       "      <th></th>\n",
       "      <th></th>\n",
       "    </tr>\n",
       "  </thead>\n",
       "  <tbody>\n",
       "    <tr>\n",
       "      <th>27676</th>\n",
       "      <td>206</td>\n",
       "      <td>24h</td>\n",
       "      <td>We had a serious talk with some friends of ours who have been flaky lately. They understood and we had a good evening hanging out.</td>\n",
       "      <td>We had a serious talk with some friends of ours who have been flaky lately. They understood and we had a good evening hanging out.</td>\n",
       "      <td>True</td>\n",
       "      <td>2</td>\n",
       "      <td>bonding</td>\n",
       "      <td>bonding</td>\n",
       "    </tr>\n",
       "    <tr>\n",
       "      <th>27678</th>\n",
       "      <td>45</td>\n",
       "      <td>24h</td>\n",
       "      <td>I meditated last night.</td>\n",
       "      <td>I meditated last night.</td>\n",
       "      <td>True</td>\n",
       "      <td>1</td>\n",
       "      <td>leisure</td>\n",
       "      <td>leisure</td>\n",
       "    </tr>\n",
       "    <tr>\n",
       "      <th>27697</th>\n",
       "      <td>498</td>\n",
       "      <td>24h</td>\n",
       "      <td>My grandmother start to walk from the bed after a long time.</td>\n",
       "      <td>My grandmother start to walk from the bed after a long time.</td>\n",
       "      <td>True</td>\n",
       "      <td>1</td>\n",
       "      <td>affection</td>\n",
       "      <td>affection</td>\n",
       "    </tr>\n",
       "    <tr>\n",
       "      <th>27705</th>\n",
       "      <td>5732</td>\n",
       "      <td>24h</td>\n",
       "      <td>I picked my daughter up from the airport and we have a fun and good conversation on the way home.</td>\n",
       "      <td>I picked my daughter up from the airport and we have a fun and good conversation on the way home.</td>\n",
       "      <td>True</td>\n",
       "      <td>1</td>\n",
       "      <td>bonding</td>\n",
       "      <td>affection</td>\n",
       "    </tr>\n",
       "    <tr>\n",
       "      <th>27715</th>\n",
       "      <td>2272</td>\n",
       "      <td>24h</td>\n",
       "      <td>when i received flowers from my best friend</td>\n",
       "      <td>when i received flowers from my best friend</td>\n",
       "      <td>True</td>\n",
       "      <td>1</td>\n",
       "      <td>bonding</td>\n",
       "      <td>bonding</td>\n",
       "    </tr>\n",
       "  </tbody>\n",
       "</table>\n",
       "</div>"
      ],
      "text/plain": [
       "        wid reflection_period  \\\n",
       "hmid                            \n",
       "27676  206   24h                \n",
       "27678  45    24h                \n",
       "27697  498   24h                \n",
       "27705  5732  24h                \n",
       "27715  2272  24h                \n",
       "\n",
       "                                                                                                                              original_hm  \\\n",
       "hmid                                                                                                                                        \n",
       "27676  We had a serious talk with some friends of ours who have been flaky lately. They understood and we had a good evening hanging out.   \n",
       "27678  I meditated last night.                                                                                                              \n",
       "27697  My grandmother start to walk from the bed after a long time.                                                                         \n",
       "27705  I picked my daughter up from the airport and we have a fun and good conversation on the way home.                                    \n",
       "27715  when i received flowers from my best friend                                                                                          \n",
       "\n",
       "                                                                                                                               cleaned_hm  \\\n",
       "hmid                                                                                                                                        \n",
       "27676  We had a serious talk with some friends of ours who have been flaky lately. They understood and we had a good evening hanging out.   \n",
       "27678  I meditated last night.                                                                                                              \n",
       "27697  My grandmother start to walk from the bed after a long time.                                                                         \n",
       "27705  I picked my daughter up from the airport and we have a fun and good conversation on the way home.                                    \n",
       "27715  when i received flowers from my best friend                                                                                          \n",
       "\n",
       "       modified  num_sentence ground_truth_category predicted_category  \n",
       "hmid                                                                    \n",
       "27676  True      2             bonding               bonding            \n",
       "27678  True      1             leisure               leisure            \n",
       "27697  True      1             affection             affection          \n",
       "27705  True      1             bonding               affection          \n",
       "27715  True      1             bonding               bonding            "
      ]
     },
     "execution_count": 17,
     "metadata": {},
     "output_type": "execute_result"
    }
   ],
   "source": [
    "df = pd.read_csv(\"cleaned_hm.csv\", index_col=0)\n",
    "sample_df = df.dropna()\n",
    "sample_df.head()"
   ]
  },
  {
   "cell_type": "code",
   "execution_count": 18,
   "id": "384fa13b-83a5-4e23-9280-c4e529937143",
   "metadata": {
    "colab": {
     "base_uri": "https://localhost:8080/"
    },
    "id": "yXKa7qfQXYPD",
    "outputId": "8bbf5eeb-0151-4853-a49c-3876279bbeb7"
   },
   "outputs": [],
   "source": [
    "sample_df = sample_df.rename(\n",
    "    columns={\"cleaned_hm\": \"moment\", \"ground_truth_category\": \"target\"}\n",
    ")"
   ]
  },
  {
   "cell_type": "code",
   "execution_count": 19,
   "id": "de04d594-7174-409d-a9fa-c2fd738e2208",
   "metadata": {},
   "outputs": [],
   "source": [
    "train_df, test_df = train_test_split(sample_df, test_size=0.3, random_state=123)\n",
    "X_train, y_train = train_df[\"moment\"], train_df[\"target\"]\n",
    "X_test, y_test = test_df[\"moment\"], test_df[\"target\"]"
   ]
  },
  {
   "cell_type": "code",
   "execution_count": 20,
   "id": "73f63a73-0d13-4276-9e79-7ad60575a198",
   "metadata": {},
   "outputs": [],
   "source": [
    "import spacy\n",
    "\n",
    "nlp = spacy.load(\"en_core_web_md\")"
   ]
  },
  {
   "attachments": {},
   "cell_type": "markdown",
   "id": "d13650b2",
   "metadata": {},
   "source": [
    "#### Question 1 LogisticRegression with CountVectorizer"
   ]
  },
  {
   "cell_type": "code",
   "execution_count": 21,
   "id": "f006e642",
   "metadata": {},
   "outputs": [],
   "source": [
    "from sklearn.metrics import classification_report"
   ]
  },
  {
   "cell_type": "code",
   "execution_count": 22,
   "id": "0f93d852",
   "metadata": {},
   "outputs": [
    {
     "data": {
      "text/html": [
       "<style>#sk-container-id-1 {color: black;background-color: white;}#sk-container-id-1 pre{padding: 0;}#sk-container-id-1 div.sk-toggleable {background-color: white;}#sk-container-id-1 label.sk-toggleable__label {cursor: pointer;display: block;width: 100%;margin-bottom: 0;padding: 0.3em;box-sizing: border-box;text-align: center;}#sk-container-id-1 label.sk-toggleable__label-arrow:before {content: \"▸\";float: left;margin-right: 0.25em;color: #696969;}#sk-container-id-1 label.sk-toggleable__label-arrow:hover:before {color: black;}#sk-container-id-1 div.sk-estimator:hover label.sk-toggleable__label-arrow:before {color: black;}#sk-container-id-1 div.sk-toggleable__content {max-height: 0;max-width: 0;overflow: hidden;text-align: left;background-color: #f0f8ff;}#sk-container-id-1 div.sk-toggleable__content pre {margin: 0.2em;color: black;border-radius: 0.25em;background-color: #f0f8ff;}#sk-container-id-1 input.sk-toggleable__control:checked~div.sk-toggleable__content {max-height: 200px;max-width: 100%;overflow: auto;}#sk-container-id-1 input.sk-toggleable__control:checked~label.sk-toggleable__label-arrow:before {content: \"▾\";}#sk-container-id-1 div.sk-estimator input.sk-toggleable__control:checked~label.sk-toggleable__label {background-color: #d4ebff;}#sk-container-id-1 div.sk-label input.sk-toggleable__control:checked~label.sk-toggleable__label {background-color: #d4ebff;}#sk-container-id-1 input.sk-hidden--visually {border: 0;clip: rect(1px 1px 1px 1px);clip: rect(1px, 1px, 1px, 1px);height: 1px;margin: -1px;overflow: hidden;padding: 0;position: absolute;width: 1px;}#sk-container-id-1 div.sk-estimator {font-family: monospace;background-color: #f0f8ff;border: 1px dotted black;border-radius: 0.25em;box-sizing: border-box;margin-bottom: 0.5em;}#sk-container-id-1 div.sk-estimator:hover {background-color: #d4ebff;}#sk-container-id-1 div.sk-parallel-item::after {content: \"\";width: 100%;border-bottom: 1px solid gray;flex-grow: 1;}#sk-container-id-1 div.sk-label:hover label.sk-toggleable__label {background-color: #d4ebff;}#sk-container-id-1 div.sk-serial::before {content: \"\";position: absolute;border-left: 1px solid gray;box-sizing: border-box;top: 0;bottom: 0;left: 50%;z-index: 0;}#sk-container-id-1 div.sk-serial {display: flex;flex-direction: column;align-items: center;background-color: white;padding-right: 0.2em;padding-left: 0.2em;position: relative;}#sk-container-id-1 div.sk-item {position: relative;z-index: 1;}#sk-container-id-1 div.sk-parallel {display: flex;align-items: stretch;justify-content: center;background-color: white;position: relative;}#sk-container-id-1 div.sk-item::before, #sk-container-id-1 div.sk-parallel-item::before {content: \"\";position: absolute;border-left: 1px solid gray;box-sizing: border-box;top: 0;bottom: 0;left: 50%;z-index: -1;}#sk-container-id-1 div.sk-parallel-item {display: flex;flex-direction: column;z-index: 1;position: relative;background-color: white;}#sk-container-id-1 div.sk-parallel-item:first-child::after {align-self: flex-end;width: 50%;}#sk-container-id-1 div.sk-parallel-item:last-child::after {align-self: flex-start;width: 50%;}#sk-container-id-1 div.sk-parallel-item:only-child::after {width: 0;}#sk-container-id-1 div.sk-dashed-wrapped {border: 1px dashed gray;margin: 0 0.4em 0.5em 0.4em;box-sizing: border-box;padding-bottom: 0.4em;background-color: white;}#sk-container-id-1 div.sk-label label {font-family: monospace;font-weight: bold;display: inline-block;line-height: 1.2em;}#sk-container-id-1 div.sk-label-container {text-align: center;}#sk-container-id-1 div.sk-container {/* jupyter's `normalize.less` sets `[hidden] { display: none; }` but bootstrap.min.css set `[hidden] { display: none !important; }` so we also need the `!important` here to be able to override the default hidden behavior on the sphinx rendered scikit-learn.org. See: https://github.com/scikit-learn/scikit-learn/issues/21755 */display: inline-block !important;position: relative;}#sk-container-id-1 div.sk-text-repr-fallback {display: none;}</style><div id=\"sk-container-id-1\" class=\"sk-top-container\"><div class=\"sk-text-repr-fallback\"><pre>Pipeline(steps=[(&#x27;countvectorizer&#x27;, CountVectorizer(stop_words=&#x27;english&#x27;)),\n",
       "                (&#x27;logisticregression&#x27;,\n",
       "                 LogisticRegression(max_iter=1000, multi_class=&#x27;ovr&#x27;))])</pre><b>In a Jupyter environment, please rerun this cell to show the HTML representation or trust the notebook. <br />On GitHub, the HTML representation is unable to render, please try loading this page with nbviewer.org.</b></div><div class=\"sk-container\" hidden><div class=\"sk-item sk-dashed-wrapped\"><div class=\"sk-label-container\"><div class=\"sk-label sk-toggleable\"><input class=\"sk-toggleable__control sk-hidden--visually\" id=\"sk-estimator-id-1\" type=\"checkbox\" ><label for=\"sk-estimator-id-1\" class=\"sk-toggleable__label sk-toggleable__label-arrow\">Pipeline</label><div class=\"sk-toggleable__content\"><pre>Pipeline(steps=[(&#x27;countvectorizer&#x27;, CountVectorizer(stop_words=&#x27;english&#x27;)),\n",
       "                (&#x27;logisticregression&#x27;,\n",
       "                 LogisticRegression(max_iter=1000, multi_class=&#x27;ovr&#x27;))])</pre></div></div></div><div class=\"sk-serial\"><div class=\"sk-item\"><div class=\"sk-estimator sk-toggleable\"><input class=\"sk-toggleable__control sk-hidden--visually\" id=\"sk-estimator-id-2\" type=\"checkbox\" ><label for=\"sk-estimator-id-2\" class=\"sk-toggleable__label sk-toggleable__label-arrow\">CountVectorizer</label><div class=\"sk-toggleable__content\"><pre>CountVectorizer(stop_words=&#x27;english&#x27;)</pre></div></div></div><div class=\"sk-item\"><div class=\"sk-estimator sk-toggleable\"><input class=\"sk-toggleable__control sk-hidden--visually\" id=\"sk-estimator-id-3\" type=\"checkbox\" ><label for=\"sk-estimator-id-3\" class=\"sk-toggleable__label sk-toggleable__label-arrow\">LogisticRegression</label><div class=\"sk-toggleable__content\"><pre>LogisticRegression(max_iter=1000, multi_class=&#x27;ovr&#x27;)</pre></div></div></div></div></div></div></div>"
      ],
      "text/plain": [
       "Pipeline(steps=[('countvectorizer', CountVectorizer(stop_words='english')),\n",
       "                ('logisticregression',\n",
       "                 LogisticRegression(max_iter=1000, multi_class='ovr'))])"
      ]
     },
     "execution_count": 22,
     "metadata": {},
     "output_type": "execute_result"
    }
   ],
   "source": [
    "pipe = make_pipeline(\n",
    "    CountVectorizer(stop_words=\"english\"), LogisticRegression(max_iter=1000, multi_class=\"ovr\")\n",
    ")\n",
    "pipe.named_steps[\"countvectorizer\"].fit(X_train)\n",
    "pipe.fit(X_train, y_train)\n"
   ]
  },
  {
   "cell_type": "code",
   "execution_count": 23,
   "id": "d4005464",
   "metadata": {},
   "outputs": [
    {
     "data": {
      "text/html": [
       "<div>\n",
       "<style scoped>\n",
       "    .dataframe tbody tr th:only-of-type {\n",
       "        vertical-align: middle;\n",
       "    }\n",
       "\n",
       "    .dataframe tbody tr th {\n",
       "        vertical-align: top;\n",
       "    }\n",
       "\n",
       "    .dataframe thead th {\n",
       "        text-align: right;\n",
       "    }\n",
       "</style>\n",
       "<table border=\"1\" class=\"dataframe\">\n",
       "  <thead>\n",
       "    <tr style=\"text-align: right;\">\n",
       "      <th></th>\n",
       "      <th>moment</th>\n",
       "      <th>predictions</th>\n",
       "      <th>target</th>\n",
       "    </tr>\n",
       "    <tr>\n",
       "      <th>hmid</th>\n",
       "      <th></th>\n",
       "      <th></th>\n",
       "      <th></th>\n",
       "    </tr>\n",
       "  </thead>\n",
       "  <tbody>\n",
       "    <tr>\n",
       "      <th>62789</th>\n",
       "      <td>Yesterday, my boss decided to upgrade my workstation to a much better one.</td>\n",
       "      <td>achievement</td>\n",
       "      <td>achievement</td>\n",
       "    </tr>\n",
       "    <tr>\n",
       "      <th>81694</th>\n",
       "      <td>The day my daughter was born. She is such a blessing.</td>\n",
       "      <td>affection</td>\n",
       "      <td>affection</td>\n",
       "    </tr>\n",
       "    <tr>\n",
       "      <th>83106</th>\n",
       "      <td>MY BEST FRIEND MARRIAGE PARTY</td>\n",
       "      <td>bonding</td>\n",
       "      <td>bonding</td>\n",
       "    </tr>\n",
       "    <tr>\n",
       "      <th>112096</th>\n",
       "      <td>eat my favourite food idli</td>\n",
       "      <td>enjoy_the_moment</td>\n",
       "      <td>enjoy_the_moment</td>\n",
       "    </tr>\n",
       "    <tr>\n",
       "      <th>75708</th>\n",
       "      <td>I went on a date with a guy that I really liked.</td>\n",
       "      <td>affection</td>\n",
       "      <td>affection</td>\n",
       "    </tr>\n",
       "  </tbody>\n",
       "</table>\n",
       "</div>"
      ],
      "text/plain": [
       "                                                                            moment  \\\n",
       "hmid                                                                                 \n",
       "62789   Yesterday, my boss decided to upgrade my workstation to a much better one.   \n",
       "81694   The day my daughter was born. She is such a blessing.                        \n",
       "83106   MY BEST FRIEND MARRIAGE PARTY                                                \n",
       "112096  eat my favourite food idli                                                   \n",
       "75708   I went on a date with a guy that I really liked.                             \n",
       "\n",
       "             predictions            target  \n",
       "hmid                                        \n",
       "62789   achievement       achievement       \n",
       "81694   affection         affection         \n",
       "83106   bonding           bonding           \n",
       "112096  enjoy_the_moment  enjoy_the_moment  \n",
       "75708   affection         affection         "
      ]
     },
     "execution_count": 23,
     "metadata": {},
     "output_type": "execute_result"
    }
   ],
   "source": [
    "X_test_predicted = pd.DataFrame(X_test)\n",
    "X_test_predicted['predictions'] = pipe.predict(X_test)\n",
    "X_test_predicted['target'] = y_test\n",
    "X_test_predicted.head()"
   ]
  },
  {
   "cell_type": "code",
   "execution_count": 24,
   "id": "67d26e9e",
   "metadata": {},
   "outputs": [
    {
     "name": "stdout",
     "output_type": "stream",
     "text": [
      "                  precision    recall  f1-score   support\n",
      "\n",
      "     achievement       0.79      0.88      0.83      1302\n",
      "       affection       0.89      0.92      0.91      1423\n",
      "         bonding       0.90      0.85      0.87       492\n",
      "enjoy_the_moment       0.62      0.51      0.56       469\n",
      "        exercise       0.91      0.54      0.68        74\n",
      "         leisure       0.73      0.69      0.71       407\n",
      "          nature       0.76      0.44      0.55        71\n",
      "\n",
      "        accuracy                           0.82      4238\n",
      "       macro avg       0.80      0.69      0.73      4238\n",
      "    weighted avg       0.81      0.82      0.81      4238\n",
      "\n"
     ]
    }
   ],
   "source": [
    "print(classification_report(y_test, pipe.predict(X_test)))"
   ]
  },
  {
   "cell_type": "code",
   "execution_count": 25,
   "id": "8bf49187",
   "metadata": {},
   "outputs": [
    {
     "data": {
      "text/plain": [
       "(7, 8060)"
      ]
     },
     "execution_count": 25,
     "metadata": {},
     "output_type": "execute_result"
    }
   ],
   "source": [
    "pipe.named_steps[\"logisticregression\"].coef_.shape"
   ]
  },
  {
   "attachments": {},
   "cell_type": "markdown",
   "id": "bdddb1fe",
   "metadata": {},
   "source": [
    "#### Question 2 Average Embedding"
   ]
  },
  {
   "cell_type": "code",
   "execution_count": 26,
   "id": "0531ba37",
   "metadata": {},
   "outputs": [
    {
     "data": {
      "text/plain": [
       "(9887, 300)"
      ]
     },
     "execution_count": 26,
     "metadata": {},
     "output_type": "execute_result"
    }
   ],
   "source": [
    "X_train_embeddings = pd.DataFrame([text.vector for text in nlp.pipe(X_train)])\n",
    "X_test_embeddings = pd.DataFrame([text.vector for text in nlp.pipe(X_test)])\n",
    "X_train_embeddings.shape\n"
   ]
  },
  {
   "cell_type": "code",
   "execution_count": 27,
   "id": "d50df092",
   "metadata": {},
   "outputs": [
    {
     "data": {
      "text/html": [
       "<style>#sk-container-id-2 {color: black;background-color: white;}#sk-container-id-2 pre{padding: 0;}#sk-container-id-2 div.sk-toggleable {background-color: white;}#sk-container-id-2 label.sk-toggleable__label {cursor: pointer;display: block;width: 100%;margin-bottom: 0;padding: 0.3em;box-sizing: border-box;text-align: center;}#sk-container-id-2 label.sk-toggleable__label-arrow:before {content: \"▸\";float: left;margin-right: 0.25em;color: #696969;}#sk-container-id-2 label.sk-toggleable__label-arrow:hover:before {color: black;}#sk-container-id-2 div.sk-estimator:hover label.sk-toggleable__label-arrow:before {color: black;}#sk-container-id-2 div.sk-toggleable__content {max-height: 0;max-width: 0;overflow: hidden;text-align: left;background-color: #f0f8ff;}#sk-container-id-2 div.sk-toggleable__content pre {margin: 0.2em;color: black;border-radius: 0.25em;background-color: #f0f8ff;}#sk-container-id-2 input.sk-toggleable__control:checked~div.sk-toggleable__content {max-height: 200px;max-width: 100%;overflow: auto;}#sk-container-id-2 input.sk-toggleable__control:checked~label.sk-toggleable__label-arrow:before {content: \"▾\";}#sk-container-id-2 div.sk-estimator input.sk-toggleable__control:checked~label.sk-toggleable__label {background-color: #d4ebff;}#sk-container-id-2 div.sk-label input.sk-toggleable__control:checked~label.sk-toggleable__label {background-color: #d4ebff;}#sk-container-id-2 input.sk-hidden--visually {border: 0;clip: rect(1px 1px 1px 1px);clip: rect(1px, 1px, 1px, 1px);height: 1px;margin: -1px;overflow: hidden;padding: 0;position: absolute;width: 1px;}#sk-container-id-2 div.sk-estimator {font-family: monospace;background-color: #f0f8ff;border: 1px dotted black;border-radius: 0.25em;box-sizing: border-box;margin-bottom: 0.5em;}#sk-container-id-2 div.sk-estimator:hover {background-color: #d4ebff;}#sk-container-id-2 div.sk-parallel-item::after {content: \"\";width: 100%;border-bottom: 1px solid gray;flex-grow: 1;}#sk-container-id-2 div.sk-label:hover label.sk-toggleable__label {background-color: #d4ebff;}#sk-container-id-2 div.sk-serial::before {content: \"\";position: absolute;border-left: 1px solid gray;box-sizing: border-box;top: 0;bottom: 0;left: 50%;z-index: 0;}#sk-container-id-2 div.sk-serial {display: flex;flex-direction: column;align-items: center;background-color: white;padding-right: 0.2em;padding-left: 0.2em;position: relative;}#sk-container-id-2 div.sk-item {position: relative;z-index: 1;}#sk-container-id-2 div.sk-parallel {display: flex;align-items: stretch;justify-content: center;background-color: white;position: relative;}#sk-container-id-2 div.sk-item::before, #sk-container-id-2 div.sk-parallel-item::before {content: \"\";position: absolute;border-left: 1px solid gray;box-sizing: border-box;top: 0;bottom: 0;left: 50%;z-index: -1;}#sk-container-id-2 div.sk-parallel-item {display: flex;flex-direction: column;z-index: 1;position: relative;background-color: white;}#sk-container-id-2 div.sk-parallel-item:first-child::after {align-self: flex-end;width: 50%;}#sk-container-id-2 div.sk-parallel-item:last-child::after {align-self: flex-start;width: 50%;}#sk-container-id-2 div.sk-parallel-item:only-child::after {width: 0;}#sk-container-id-2 div.sk-dashed-wrapped {border: 1px dashed gray;margin: 0 0.4em 0.5em 0.4em;box-sizing: border-box;padding-bottom: 0.4em;background-color: white;}#sk-container-id-2 div.sk-label label {font-family: monospace;font-weight: bold;display: inline-block;line-height: 1.2em;}#sk-container-id-2 div.sk-label-container {text-align: center;}#sk-container-id-2 div.sk-container {/* jupyter's `normalize.less` sets `[hidden] { display: none; }` but bootstrap.min.css set `[hidden] { display: none !important; }` so we also need the `!important` here to be able to override the default hidden behavior on the sphinx rendered scikit-learn.org. See: https://github.com/scikit-learn/scikit-learn/issues/21755 */display: inline-block !important;position: relative;}#sk-container-id-2 div.sk-text-repr-fallback {display: none;}</style><div id=\"sk-container-id-2\" class=\"sk-top-container\"><div class=\"sk-text-repr-fallback\"><pre>LogisticRegression(max_iter=2000, multi_class=&#x27;ovr&#x27;)</pre><b>In a Jupyter environment, please rerun this cell to show the HTML representation or trust the notebook. <br />On GitHub, the HTML representation is unable to render, please try loading this page with nbviewer.org.</b></div><div class=\"sk-container\" hidden><div class=\"sk-item\"><div class=\"sk-estimator sk-toggleable\"><input class=\"sk-toggleable__control sk-hidden--visually\" id=\"sk-estimator-id-4\" type=\"checkbox\" checked><label for=\"sk-estimator-id-4\" class=\"sk-toggleable__label sk-toggleable__label-arrow\">LogisticRegression</label><div class=\"sk-toggleable__content\"><pre>LogisticRegression(max_iter=2000, multi_class=&#x27;ovr&#x27;)</pre></div></div></div></div></div>"
      ],
      "text/plain": [
       "LogisticRegression(max_iter=2000, multi_class='ovr')"
      ]
     },
     "execution_count": 27,
     "metadata": {},
     "output_type": "execute_result"
    }
   ],
   "source": [
    "lgr = LogisticRegression(max_iter=2000, multi_class=\"ovr\")\n",
    "lgr.fit(X_train_embeddings, y_train)"
   ]
  },
  {
   "cell_type": "code",
   "execution_count": 28,
   "id": "516e250e",
   "metadata": {},
   "outputs": [
    {
     "name": "stdout",
     "output_type": "stream",
     "text": [
      "                  precision    recall  f1-score   support\n",
      "\n",
      "     achievement       0.81      0.85      0.83      1302\n",
      "       affection       0.85      0.92      0.89      1423\n",
      "         bonding       0.85      0.78      0.81       492\n",
      "enjoy_the_moment       0.62      0.50      0.55       469\n",
      "        exercise       0.76      0.68      0.71        74\n",
      "         leisure       0.75      0.66      0.70       407\n",
      "          nature       0.70      0.70      0.70        71\n",
      "\n",
      "        accuracy                           0.81      4238\n",
      "       macro avg       0.76      0.73      0.74      4238\n",
      "    weighted avg       0.80      0.81      0.80      4238\n",
      "\n"
     ]
    }
   ],
   "source": [
    "print(classification_report(y_test, lgr.predict(X_test_embeddings)))"
   ]
  },
  {
   "cell_type": "code",
   "execution_count": 29,
   "id": "04b880ad",
   "metadata": {},
   "outputs": [
    {
     "data": {
      "text/plain": [
       "(7, 300)"
      ]
     },
     "execution_count": 29,
     "metadata": {},
     "output_type": "execute_result"
    }
   ],
   "source": [
    "lgr.coef_.shape"
   ]
  },
  {
   "attachments": {},
   "cell_type": "markdown",
   "id": "8e12986f",
   "metadata": {},
   "source": [
    "#### Question 3 + 4\n",
    "\n",
    "3. Both BoW and Average Embedding models have certain targets with better `precision`, `recall`, and `f1-score`, however, the `weighted avg` seems to slightly favor the BoW representation. The BoW model would be more interpretable as it represents text as the frequency of words that occur. This is more interpretable because each feature corresponds to words in the text. One could examine the coefficients of the LogisticRegression model (one set of coefficients for each model trained for each target class) and examine the corresponding word the coefficient represents. The average embedding model would be less interpretable due to these features being created from complex neural networks to capture more semantic meaning. It would be harder to visualize and interpret directly but can still be interpreted using strategies such as feature importance.\n",
    "\n",
    "4. In this example, there doesn't seem to be any noticeable benefit from using transfer learning through average embedding. The performance is quite similar, in fact slightly worse, to the simpler BoW model."
   ]
  },
  {
   "cell_type": "markdown",
   "id": "161a6ab6-62ef-4fdd-ba0d-5e7e920154a3",
   "metadata": {},
   "source": [
    "<br><br><br><br>"
   ]
  },
  {
   "cell_type": "markdown",
   "id": "ec620e19-016a-4476-bb7e-de0c402078d2",
   "metadata": {},
   "source": [
    "## Exercise 2: Exploring time series data <a name=\"2\"></a>\n",
    "<hr>\n",
    "\n",
    "In this exercise we'll be looking at a [dataset of avocado prices](https://www.kaggle.com/neuromusic/avocado-prices). You should start by downloading the dataset. "
   ]
  },
  {
   "cell_type": "code",
   "execution_count": 30,
   "id": "b22471fe-942e-49aa-8fb8-9d4fbf6b00b3",
   "metadata": {},
   "outputs": [
    {
     "data": {
      "text/html": [
       "<div>\n",
       "<style scoped>\n",
       "    .dataframe tbody tr th:only-of-type {\n",
       "        vertical-align: middle;\n",
       "    }\n",
       "\n",
       "    .dataframe tbody tr th {\n",
       "        vertical-align: top;\n",
       "    }\n",
       "\n",
       "    .dataframe thead th {\n",
       "        text-align: right;\n",
       "    }\n",
       "</style>\n",
       "<table border=\"1\" class=\"dataframe\">\n",
       "  <thead>\n",
       "    <tr style=\"text-align: right;\">\n",
       "      <th></th>\n",
       "      <th>Date</th>\n",
       "      <th>AveragePrice</th>\n",
       "      <th>Total Volume</th>\n",
       "      <th>4046</th>\n",
       "      <th>4225</th>\n",
       "      <th>4770</th>\n",
       "      <th>Total Bags</th>\n",
       "      <th>Small Bags</th>\n",
       "      <th>Large Bags</th>\n",
       "      <th>XLarge Bags</th>\n",
       "      <th>type</th>\n",
       "      <th>year</th>\n",
       "      <th>region</th>\n",
       "    </tr>\n",
       "  </thead>\n",
       "  <tbody>\n",
       "    <tr>\n",
       "      <th>0</th>\n",
       "      <td>2015-12-27</td>\n",
       "      <td>1.33</td>\n",
       "      <td>64236.62</td>\n",
       "      <td>1036.74</td>\n",
       "      <td>54454.85</td>\n",
       "      <td>48.16</td>\n",
       "      <td>8696.87</td>\n",
       "      <td>8603.62</td>\n",
       "      <td>93.25</td>\n",
       "      <td>0.0</td>\n",
       "      <td>conventional</td>\n",
       "      <td>2015</td>\n",
       "      <td>Albany</td>\n",
       "    </tr>\n",
       "    <tr>\n",
       "      <th>1</th>\n",
       "      <td>2015-12-20</td>\n",
       "      <td>1.35</td>\n",
       "      <td>54876.98</td>\n",
       "      <td>674.28</td>\n",
       "      <td>44638.81</td>\n",
       "      <td>58.33</td>\n",
       "      <td>9505.56</td>\n",
       "      <td>9408.07</td>\n",
       "      <td>97.49</td>\n",
       "      <td>0.0</td>\n",
       "      <td>conventional</td>\n",
       "      <td>2015</td>\n",
       "      <td>Albany</td>\n",
       "    </tr>\n",
       "    <tr>\n",
       "      <th>2</th>\n",
       "      <td>2015-12-13</td>\n",
       "      <td>0.93</td>\n",
       "      <td>118220.22</td>\n",
       "      <td>794.70</td>\n",
       "      <td>109149.67</td>\n",
       "      <td>130.50</td>\n",
       "      <td>8145.35</td>\n",
       "      <td>8042.21</td>\n",
       "      <td>103.14</td>\n",
       "      <td>0.0</td>\n",
       "      <td>conventional</td>\n",
       "      <td>2015</td>\n",
       "      <td>Albany</td>\n",
       "    </tr>\n",
       "    <tr>\n",
       "      <th>3</th>\n",
       "      <td>2015-12-06</td>\n",
       "      <td>1.08</td>\n",
       "      <td>78992.15</td>\n",
       "      <td>1132.00</td>\n",
       "      <td>71976.41</td>\n",
       "      <td>72.58</td>\n",
       "      <td>5811.16</td>\n",
       "      <td>5677.40</td>\n",
       "      <td>133.76</td>\n",
       "      <td>0.0</td>\n",
       "      <td>conventional</td>\n",
       "      <td>2015</td>\n",
       "      <td>Albany</td>\n",
       "    </tr>\n",
       "    <tr>\n",
       "      <th>4</th>\n",
       "      <td>2015-11-29</td>\n",
       "      <td>1.28</td>\n",
       "      <td>51039.60</td>\n",
       "      <td>941.48</td>\n",
       "      <td>43838.39</td>\n",
       "      <td>75.78</td>\n",
       "      <td>6183.95</td>\n",
       "      <td>5986.26</td>\n",
       "      <td>197.69</td>\n",
       "      <td>0.0</td>\n",
       "      <td>conventional</td>\n",
       "      <td>2015</td>\n",
       "      <td>Albany</td>\n",
       "    </tr>\n",
       "  </tbody>\n",
       "</table>\n",
       "</div>"
      ],
      "text/plain": [
       "        Date  AveragePrice  Total Volume     4046       4225    4770  \\\n",
       "0 2015-12-27  1.33          64236.62      1036.74  54454.85   48.16    \n",
       "1 2015-12-20  1.35          54876.98      674.28   44638.81   58.33    \n",
       "2 2015-12-13  0.93          118220.22     794.70   109149.67  130.50   \n",
       "3 2015-12-06  1.08          78992.15      1132.00  71976.41   72.58    \n",
       "4 2015-11-29  1.28          51039.60      941.48   43838.39   75.78    \n",
       "\n",
       "   Total Bags  Small Bags  Large Bags  XLarge Bags          type  year  region  \n",
       "0  8696.87     8603.62     93.25       0.0          conventional  2015  Albany  \n",
       "1  9505.56     9408.07     97.49       0.0          conventional  2015  Albany  \n",
       "2  8145.35     8042.21     103.14      0.0          conventional  2015  Albany  \n",
       "3  5811.16     5677.40     133.76      0.0          conventional  2015  Albany  \n",
       "4  6183.95     5986.26     197.69      0.0          conventional  2015  Albany  "
      ]
     },
     "execution_count": 30,
     "metadata": {},
     "output_type": "execute_result"
    }
   ],
   "source": [
    "df = pd.read_csv(\"avocado.csv\", parse_dates=[\"Date\"], index_col=0)\n",
    "df.head()"
   ]
  },
  {
   "cell_type": "code",
   "execution_count": 31,
   "id": "3425e59d-9580-4512-8bd2-c8c9b836df8f",
   "metadata": {},
   "outputs": [
    {
     "data": {
      "text/plain": [
       "(18249, 13)"
      ]
     },
     "execution_count": 31,
     "metadata": {},
     "output_type": "execute_result"
    }
   ],
   "source": [
    "df.shape"
   ]
  },
  {
   "cell_type": "code",
   "execution_count": 32,
   "id": "6d0aa8d9-34b6-4401-8b91-77e1342510ab",
   "metadata": {},
   "outputs": [
    {
     "data": {
      "text/plain": [
       "Timestamp('2015-01-04 00:00:00')"
      ]
     },
     "execution_count": 32,
     "metadata": {},
     "output_type": "execute_result"
    }
   ],
   "source": [
    "df[\"Date\"].min()"
   ]
  },
  {
   "cell_type": "code",
   "execution_count": 33,
   "id": "3b64f1d1-9614-44df-b625-52a77c00af9d",
   "metadata": {},
   "outputs": [
    {
     "data": {
      "text/plain": [
       "Timestamp('2018-03-25 00:00:00')"
      ]
     },
     "execution_count": 33,
     "metadata": {},
     "output_type": "execute_result"
    }
   ],
   "source": [
    "df[\"Date\"].max()"
   ]
  },
  {
   "cell_type": "markdown",
   "id": "9dae5238-ac94-4b1b-b368-d972b6582d8a",
   "metadata": {},
   "source": [
    "It looks like the data ranges from the start of 2015 to March 2018 (~5 years ago), for a total of 3.25 years or so. Let's split the data so that we have a 6 months of test data."
   ]
  },
  {
   "cell_type": "code",
   "execution_count": 34,
   "id": "5d4d6fb5-1cbb-47e0-a5c4-34b66d026d1a",
   "metadata": {},
   "outputs": [],
   "source": [
    "split_date = \"20170925\"\n",
    "train_df = df[df[\"Date\"] <= split_date]\n",
    "test_df = df[df[\"Date\"] > split_date]"
   ]
  },
  {
   "cell_type": "code",
   "execution_count": 35,
   "id": "26a3b6ae-1406-48c3-8b5c-e7b65a041852",
   "metadata": {},
   "outputs": [],
   "source": [
    "assert len(train_df) + len(test_df) == len(df)"
   ]
  },
  {
   "cell_type": "markdown",
   "id": "2f5ed401-224b-42d3-a4bd-f67b60c3625b",
   "metadata": {},
   "source": [
    "### 2.1\n",
    "rubric={points:4}\n",
    "\n",
    "In the Rain in Australia dataset from lecture, we had different measurements for each Location. What about this dataset: for which categorical feature(s), if any, do we have separate measurements? Justify your answer by referencing the dataset."
   ]
  },
  {
   "attachments": {},
   "cell_type": "markdown",
   "id": "24977176",
   "metadata": {},
   "source": [
    "**ANSWER:**\n",
    "\n",
    "We have separate measurements for each `region` and `type`. We have `143` unique `Date` measurements so, for example in the `region=Boise`, there are `286` examples which corresponds to exactly $2\\times 143$. This is because there is one set of measurements for each `type=conventional` or `type=organic` for each region."
   ]
  },
  {
   "cell_type": "code",
   "execution_count": 36,
   "id": "b05ca922",
   "metadata": {},
   "outputs": [
    {
     "name": "stdout",
     "output_type": "stream",
     "text": [
      "(15441, 13)\n",
      "(143,)\n",
      "(54,)\n"
     ]
    }
   ],
   "source": [
    "print(train_df.shape)\n",
    "print(train_df['Date'].unique().shape)\n",
    "print(train_df['region'].unique().shape)"
   ]
  },
  {
   "cell_type": "code",
   "execution_count": 37,
   "id": "34bd7ed6",
   "metadata": {},
   "outputs": [
    {
     "data": {
      "text/plain": [
       "(286, 13)"
      ]
     },
     "execution_count": 37,
     "metadata": {},
     "output_type": "execute_result"
    }
   ],
   "source": [
    "train_df.query('region == \"Boise\"').shape"
   ]
  },
  {
   "cell_type": "code",
   "execution_count": 38,
   "id": "897b9194",
   "metadata": {},
   "outputs": [
    {
     "data": {
      "text/html": [
       "<div>\n",
       "<style scoped>\n",
       "    .dataframe tbody tr th:only-of-type {\n",
       "        vertical-align: middle;\n",
       "    }\n",
       "\n",
       "    .dataframe tbody tr th {\n",
       "        vertical-align: top;\n",
       "    }\n",
       "\n",
       "    .dataframe thead th {\n",
       "        text-align: right;\n",
       "    }\n",
       "</style>\n",
       "<table border=\"1\" class=\"dataframe\">\n",
       "  <thead>\n",
       "    <tr style=\"text-align: right;\">\n",
       "      <th></th>\n",
       "      <th>Date</th>\n",
       "      <th>AveragePrice</th>\n",
       "      <th>Total Volume</th>\n",
       "      <th>4046</th>\n",
       "      <th>4225</th>\n",
       "      <th>4770</th>\n",
       "      <th>Total Bags</th>\n",
       "      <th>Small Bags</th>\n",
       "      <th>Large Bags</th>\n",
       "      <th>XLarge Bags</th>\n",
       "      <th>type</th>\n",
       "      <th>year</th>\n",
       "      <th>region</th>\n",
       "    </tr>\n",
       "  </thead>\n",
       "  <tbody>\n",
       "    <tr>\n",
       "      <th>0</th>\n",
       "      <td>2015-12-27</td>\n",
       "      <td>1.33</td>\n",
       "      <td>64236.62</td>\n",
       "      <td>1036.74</td>\n",
       "      <td>54454.85</td>\n",
       "      <td>48.16</td>\n",
       "      <td>8696.87</td>\n",
       "      <td>8603.62</td>\n",
       "      <td>93.25</td>\n",
       "      <td>0.00</td>\n",
       "      <td>conventional</td>\n",
       "      <td>2015</td>\n",
       "      <td>Albany</td>\n",
       "    </tr>\n",
       "    <tr>\n",
       "      <th>0</th>\n",
       "      <td>2015-12-27</td>\n",
       "      <td>0.99</td>\n",
       "      <td>386100.49</td>\n",
       "      <td>292097.36</td>\n",
       "      <td>27350.92</td>\n",
       "      <td>297.90</td>\n",
       "      <td>66354.31</td>\n",
       "      <td>48605.95</td>\n",
       "      <td>17748.36</td>\n",
       "      <td>0.00</td>\n",
       "      <td>conventional</td>\n",
       "      <td>2015</td>\n",
       "      <td>Atlanta</td>\n",
       "    </tr>\n",
       "    <tr>\n",
       "      <th>0</th>\n",
       "      <td>2015-12-27</td>\n",
       "      <td>1.17</td>\n",
       "      <td>596819.40</td>\n",
       "      <td>40450.49</td>\n",
       "      <td>394104.02</td>\n",
       "      <td>17353.79</td>\n",
       "      <td>144911.10</td>\n",
       "      <td>142543.88</td>\n",
       "      <td>2367.22</td>\n",
       "      <td>0.00</td>\n",
       "      <td>conventional</td>\n",
       "      <td>2015</td>\n",
       "      <td>BaltimoreWashington</td>\n",
       "    </tr>\n",
       "    <tr>\n",
       "      <th>0</th>\n",
       "      <td>2015-12-27</td>\n",
       "      <td>0.97</td>\n",
       "      <td>62909.69</td>\n",
       "      <td>30482.25</td>\n",
       "      <td>2971.94</td>\n",
       "      <td>5894.40</td>\n",
       "      <td>23561.10</td>\n",
       "      <td>23520.19</td>\n",
       "      <td>5.69</td>\n",
       "      <td>35.22</td>\n",
       "      <td>conventional</td>\n",
       "      <td>2015</td>\n",
       "      <td>Boise</td>\n",
       "    </tr>\n",
       "    <tr>\n",
       "      <th>0</th>\n",
       "      <td>2015-12-27</td>\n",
       "      <td>1.13</td>\n",
       "      <td>450816.39</td>\n",
       "      <td>3886.27</td>\n",
       "      <td>346964.70</td>\n",
       "      <td>13952.56</td>\n",
       "      <td>86012.86</td>\n",
       "      <td>85913.60</td>\n",
       "      <td>99.26</td>\n",
       "      <td>0.00</td>\n",
       "      <td>conventional</td>\n",
       "      <td>2015</td>\n",
       "      <td>Boston</td>\n",
       "    </tr>\n",
       "    <tr>\n",
       "      <th>...</th>\n",
       "      <td>...</td>\n",
       "      <td>...</td>\n",
       "      <td>...</td>\n",
       "      <td>...</td>\n",
       "      <td>...</td>\n",
       "      <td>...</td>\n",
       "      <td>...</td>\n",
       "      <td>...</td>\n",
       "      <td>...</td>\n",
       "      <td>...</td>\n",
       "      <td>...</td>\n",
       "      <td>...</td>\n",
       "      <td>...</td>\n",
       "    </tr>\n",
       "    <tr>\n",
       "      <th>0</th>\n",
       "      <td>2015-12-27</td>\n",
       "      <td>1.54</td>\n",
       "      <td>1652.19</td>\n",
       "      <td>0.00</td>\n",
       "      <td>73.22</td>\n",
       "      <td>0.00</td>\n",
       "      <td>1578.97</td>\n",
       "      <td>1336.27</td>\n",
       "      <td>242.70</td>\n",
       "      <td>0.00</td>\n",
       "      <td>organic</td>\n",
       "      <td>2015</td>\n",
       "      <td>Syracuse</td>\n",
       "    </tr>\n",
       "    <tr>\n",
       "      <th>0</th>\n",
       "      <td>2015-12-27</td>\n",
       "      <td>1.63</td>\n",
       "      <td>2161.84</td>\n",
       "      <td>874.75</td>\n",
       "      <td>17.54</td>\n",
       "      <td>0.00</td>\n",
       "      <td>1269.55</td>\n",
       "      <td>1216.67</td>\n",
       "      <td>52.88</td>\n",
       "      <td>0.00</td>\n",
       "      <td>organic</td>\n",
       "      <td>2015</td>\n",
       "      <td>Tampa</td>\n",
       "    </tr>\n",
       "    <tr>\n",
       "      <th>0</th>\n",
       "      <td>2015-12-27</td>\n",
       "      <td>1.52</td>\n",
       "      <td>549787.59</td>\n",
       "      <td>89709.92</td>\n",
       "      <td>206198.62</td>\n",
       "      <td>5836.04</td>\n",
       "      <td>248043.01</td>\n",
       "      <td>142262.93</td>\n",
       "      <td>105780.08</td>\n",
       "      <td>0.00</td>\n",
       "      <td>organic</td>\n",
       "      <td>2015</td>\n",
       "      <td>TotalUS</td>\n",
       "    </tr>\n",
       "    <tr>\n",
       "      <th>0</th>\n",
       "      <td>2015-12-27</td>\n",
       "      <td>1.46</td>\n",
       "      <td>142710.36</td>\n",
       "      <td>29880.32</td>\n",
       "      <td>48416.71</td>\n",
       "      <td>38.63</td>\n",
       "      <td>64374.70</td>\n",
       "      <td>17464.54</td>\n",
       "      <td>46910.16</td>\n",
       "      <td>0.00</td>\n",
       "      <td>organic</td>\n",
       "      <td>2015</td>\n",
       "      <td>West</td>\n",
       "    </tr>\n",
       "    <tr>\n",
       "      <th>0</th>\n",
       "      <td>2015-12-27</td>\n",
       "      <td>1.81</td>\n",
       "      <td>7155.63</td>\n",
       "      <td>1478.79</td>\n",
       "      <td>2629.64</td>\n",
       "      <td>14.10</td>\n",
       "      <td>3033.10</td>\n",
       "      <td>2855.55</td>\n",
       "      <td>177.55</td>\n",
       "      <td>0.00</td>\n",
       "      <td>organic</td>\n",
       "      <td>2015</td>\n",
       "      <td>WestTexNewMexico</td>\n",
       "    </tr>\n",
       "  </tbody>\n",
       "</table>\n",
       "<p>108 rows × 13 columns</p>\n",
       "</div>"
      ],
      "text/plain": [
       "         Date  AveragePrice  Total Volume       4046       4225      4770  \\\n",
       "0  2015-12-27  1.33          64236.62      1036.74    54454.85   48.16      \n",
       "0  2015-12-27  0.99          386100.49     292097.36  27350.92   297.90     \n",
       "0  2015-12-27  1.17          596819.40     40450.49   394104.02  17353.79   \n",
       "0  2015-12-27  0.97          62909.69      30482.25   2971.94    5894.40    \n",
       "0  2015-12-27  1.13          450816.39     3886.27    346964.70  13952.56   \n",
       "..        ...   ...                ...         ...          ...       ...   \n",
       "0  2015-12-27  1.54          1652.19       0.00       73.22      0.00       \n",
       "0  2015-12-27  1.63          2161.84       874.75     17.54      0.00       \n",
       "0  2015-12-27  1.52          549787.59     89709.92   206198.62  5836.04    \n",
       "0  2015-12-27  1.46          142710.36     29880.32   48416.71   38.63      \n",
       "0  2015-12-27  1.81          7155.63       1478.79    2629.64    14.10      \n",
       "\n",
       "    Total Bags  Small Bags  Large Bags  XLarge Bags          type  year  \\\n",
       "0   8696.87     8603.62     93.25       0.00         conventional  2015   \n",
       "0   66354.31    48605.95    17748.36    0.00         conventional  2015   \n",
       "0   144911.10   142543.88   2367.22     0.00         conventional  2015   \n",
       "0   23561.10    23520.19    5.69        35.22        conventional  2015   \n",
       "0   86012.86    85913.60    99.26       0.00         conventional  2015   \n",
       "..       ...         ...      ...        ...                  ...   ...   \n",
       "0   1578.97     1336.27     242.70      0.00         organic       2015   \n",
       "0   1269.55     1216.67     52.88       0.00         organic       2015   \n",
       "0   248043.01   142262.93   105780.08   0.00         organic       2015   \n",
       "0   64374.70    17464.54    46910.16    0.00         organic       2015   \n",
       "0   3033.10     2855.55     177.55      0.00         organic       2015   \n",
       "\n",
       "                 region  \n",
       "0   Albany               \n",
       "0   Atlanta              \n",
       "0   BaltimoreWashington  \n",
       "0   Boise                \n",
       "0   Boston               \n",
       "..     ...               \n",
       "0   Syracuse             \n",
       "0   Tampa                \n",
       "0   TotalUS              \n",
       "0   West                 \n",
       "0   WestTexNewMexico     \n",
       "\n",
       "[108 rows x 13 columns]"
      ]
     },
     "execution_count": 38,
     "metadata": {},
     "output_type": "execute_result"
    }
   ],
   "source": [
    "train_df.query('Date == \"2015-12-27\"')"
   ]
  },
  {
   "cell_type": "code",
   "execution_count": 39,
   "id": "231e1cd6",
   "metadata": {},
   "outputs": [
    {
     "name": "stderr",
     "output_type": "stream",
     "text": [
      "/var/folders/7z/3s70y8y14bg5pg8xh_qrpctr0000gn/T/ipykernel_75961/2061968787.py:1: FutureWarning: Treating datetime data as categorical rather than numeric in `.describe` is deprecated and will be removed in a future version of pandas. Specify `datetime_is_numeric=True` to silence this warning and adopt the future behavior now.\n",
      "  train_df.query('Date == \"2015-12-27\"').describe(include=\"all\")\n"
     ]
    },
    {
     "data": {
      "text/html": [
       "<div>\n",
       "<style scoped>\n",
       "    .dataframe tbody tr th:only-of-type {\n",
       "        vertical-align: middle;\n",
       "    }\n",
       "\n",
       "    .dataframe tbody tr th {\n",
       "        vertical-align: top;\n",
       "    }\n",
       "\n",
       "    .dataframe thead th {\n",
       "        text-align: right;\n",
       "    }\n",
       "</style>\n",
       "<table border=\"1\" class=\"dataframe\">\n",
       "  <thead>\n",
       "    <tr style=\"text-align: right;\">\n",
       "      <th></th>\n",
       "      <th>Date</th>\n",
       "      <th>AveragePrice</th>\n",
       "      <th>Total Volume</th>\n",
       "      <th>4046</th>\n",
       "      <th>4225</th>\n",
       "      <th>4770</th>\n",
       "      <th>Total Bags</th>\n",
       "      <th>Small Bags</th>\n",
       "      <th>Large Bags</th>\n",
       "      <th>XLarge Bags</th>\n",
       "      <th>type</th>\n",
       "      <th>year</th>\n",
       "      <th>region</th>\n",
       "    </tr>\n",
       "  </thead>\n",
       "  <tbody>\n",
       "    <tr>\n",
       "      <th>count</th>\n",
       "      <td>108</td>\n",
       "      <td>108.000000</td>\n",
       "      <td>1.080000e+02</td>\n",
       "      <td>1.080000e+02</td>\n",
       "      <td>1.080000e+02</td>\n",
       "      <td>1.080000e+02</td>\n",
       "      <td>1.080000e+02</td>\n",
       "      <td>1.080000e+02</td>\n",
       "      <td>1.080000e+02</td>\n",
       "      <td>108.000000</td>\n",
       "      <td>108</td>\n",
       "      <td>108.0</td>\n",
       "      <td>108</td>\n",
       "    </tr>\n",
       "    <tr>\n",
       "      <th>unique</th>\n",
       "      <td>1</td>\n",
       "      <td>NaN</td>\n",
       "      <td>NaN</td>\n",
       "      <td>NaN</td>\n",
       "      <td>NaN</td>\n",
       "      <td>NaN</td>\n",
       "      <td>NaN</td>\n",
       "      <td>NaN</td>\n",
       "      <td>NaN</td>\n",
       "      <td>NaN</td>\n",
       "      <td>2</td>\n",
       "      <td>NaN</td>\n",
       "      <td>54</td>\n",
       "    </tr>\n",
       "    <tr>\n",
       "      <th>top</th>\n",
       "      <td>2015-12-27 00:00:00</td>\n",
       "      <td>NaN</td>\n",
       "      <td>NaN</td>\n",
       "      <td>NaN</td>\n",
       "      <td>NaN</td>\n",
       "      <td>NaN</td>\n",
       "      <td>NaN</td>\n",
       "      <td>NaN</td>\n",
       "      <td>NaN</td>\n",
       "      <td>NaN</td>\n",
       "      <td>conventional</td>\n",
       "      <td>NaN</td>\n",
       "      <td>Albany</td>\n",
       "    </tr>\n",
       "    <tr>\n",
       "      <th>freq</th>\n",
       "      <td>108</td>\n",
       "      <td>NaN</td>\n",
       "      <td>NaN</td>\n",
       "      <td>NaN</td>\n",
       "      <td>NaN</td>\n",
       "      <td>NaN</td>\n",
       "      <td>NaN</td>\n",
       "      <td>NaN</td>\n",
       "      <td>NaN</td>\n",
       "      <td>NaN</td>\n",
       "      <td>54</td>\n",
       "      <td>NaN</td>\n",
       "      <td>2</td>\n",
       "    </tr>\n",
       "    <tr>\n",
       "      <th>first</th>\n",
       "      <td>2015-12-27 00:00:00</td>\n",
       "      <td>NaN</td>\n",
       "      <td>NaN</td>\n",
       "      <td>NaN</td>\n",
       "      <td>NaN</td>\n",
       "      <td>NaN</td>\n",
       "      <td>NaN</td>\n",
       "      <td>NaN</td>\n",
       "      <td>NaN</td>\n",
       "      <td>NaN</td>\n",
       "      <td>NaN</td>\n",
       "      <td>NaN</td>\n",
       "      <td>NaN</td>\n",
       "    </tr>\n",
       "    <tr>\n",
       "      <th>last</th>\n",
       "      <td>2015-12-27 00:00:00</td>\n",
       "      <td>NaN</td>\n",
       "      <td>NaN</td>\n",
       "      <td>NaN</td>\n",
       "      <td>NaN</td>\n",
       "      <td>NaN</td>\n",
       "      <td>NaN</td>\n",
       "      <td>NaN</td>\n",
       "      <td>NaN</td>\n",
       "      <td>NaN</td>\n",
       "      <td>NaN</td>\n",
       "      <td>NaN</td>\n",
       "      <td>NaN</td>\n",
       "    </tr>\n",
       "    <tr>\n",
       "      <th>mean</th>\n",
       "      <td>NaN</td>\n",
       "      <td>1.298426</td>\n",
       "      <td>6.833982e+05</td>\n",
       "      <td>2.358952e+05</td>\n",
       "      <td>2.566579e+05</td>\n",
       "      <td>2.890027e+04</td>\n",
       "      <td>1.619448e+05</td>\n",
       "      <td>1.242920e+05</td>\n",
       "      <td>3.316659e+04</td>\n",
       "      <td>4486.229444</td>\n",
       "      <td>NaN</td>\n",
       "      <td>2015.0</td>\n",
       "      <td>NaN</td>\n",
       "    </tr>\n",
       "    <tr>\n",
       "      <th>std</th>\n",
       "      <td>NaN</td>\n",
       "      <td>0.347076</td>\n",
       "      <td>2.765265e+06</td>\n",
       "      <td>9.995388e+05</td>\n",
       "      <td>1.039316e+06</td>\n",
       "      <td>1.245359e+05</td>\n",
       "      <td>6.394896e+05</td>\n",
       "      <td>4.938706e+05</td>\n",
       "      <td>1.355372e+05</td>\n",
       "      <td>21097.544106</td>\n",
       "      <td>NaN</td>\n",
       "      <td>0.0</td>\n",
       "      <td>NaN</td>\n",
       "    </tr>\n",
       "    <tr>\n",
       "      <th>min</th>\n",
       "      <td>NaN</td>\n",
       "      <td>0.490000</td>\n",
       "      <td>7.490300e+02</td>\n",
       "      <td>0.000000e+00</td>\n",
       "      <td>5.850000e+00</td>\n",
       "      <td>0.000000e+00</td>\n",
       "      <td>8.097000e+01</td>\n",
       "      <td>1.285000e+01</td>\n",
       "      <td>0.000000e+00</td>\n",
       "      <td>0.000000</td>\n",
       "      <td>NaN</td>\n",
       "      <td>2015.0</td>\n",
       "      <td>NaN</td>\n",
       "    </tr>\n",
       "    <tr>\n",
       "      <th>25%</th>\n",
       "      <td>NaN</td>\n",
       "      <td>0.990000</td>\n",
       "      <td>7.024875e+03</td>\n",
       "      <td>8.272250e+02</td>\n",
       "      <td>2.197718e+03</td>\n",
       "      <td>0.000000e+00</td>\n",
       "      <td>1.822140e+03</td>\n",
       "      <td>1.118762e+03</td>\n",
       "      <td>8.962500e+01</td>\n",
       "      <td>0.000000</td>\n",
       "      <td>NaN</td>\n",
       "      <td>2015.0</td>\n",
       "      <td>NaN</td>\n",
       "    </tr>\n",
       "    <tr>\n",
       "      <th>50%</th>\n",
       "      <td>NaN</td>\n",
       "      <td>1.260000</td>\n",
       "      <td>6.693762e+04</td>\n",
       "      <td>4.722345e+03</td>\n",
       "      <td>2.117886e+04</td>\n",
       "      <td>2.591900e+02</td>\n",
       "      <td>2.431104e+04</td>\n",
       "      <td>1.748835e+04</td>\n",
       "      <td>1.972895e+03</td>\n",
       "      <td>0.000000</td>\n",
       "      <td>NaN</td>\n",
       "      <td>2015.0</td>\n",
       "      <td>NaN</td>\n",
       "    </tr>\n",
       "    <tr>\n",
       "      <th>75%</th>\n",
       "      <td>NaN</td>\n",
       "      <td>1.572500</td>\n",
       "      <td>3.786661e+05</td>\n",
       "      <td>8.823896e+04</td>\n",
       "      <td>1.305568e+05</td>\n",
       "      <td>1.131541e+04</td>\n",
       "      <td>7.443820e+04</td>\n",
       "      <td>5.424071e+04</td>\n",
       "      <td>1.364537e+04</td>\n",
       "      <td>23.135000</td>\n",
       "      <td>NaN</td>\n",
       "      <td>2015.0</td>\n",
       "      <td>NaN</td>\n",
       "    </tr>\n",
       "    <tr>\n",
       "      <th>max</th>\n",
       "      <td>NaN</td>\n",
       "      <td>2.320000</td>\n",
       "      <td>2.729798e+07</td>\n",
       "      <td>9.626901e+06</td>\n",
       "      <td>1.019789e+07</td>\n",
       "      <td>1.184340e+06</td>\n",
       "      <td>6.288852e+06</td>\n",
       "      <td>4.850404e+06</td>\n",
       "      <td>1.252626e+06</td>\n",
       "      <td>185822.040000</td>\n",
       "      <td>NaN</td>\n",
       "      <td>2015.0</td>\n",
       "      <td>NaN</td>\n",
       "    </tr>\n",
       "  </tbody>\n",
       "</table>\n",
       "</div>"
      ],
      "text/plain": [
       "                       Date  AveragePrice  Total Volume          4046  \\\n",
       "count   108                  108.000000    1.080000e+02  1.080000e+02   \n",
       "unique  1                   NaN           NaN           NaN             \n",
       "top     2015-12-27 00:00:00 NaN           NaN           NaN             \n",
       "freq    108                 NaN           NaN           NaN             \n",
       "first   2015-12-27 00:00:00 NaN           NaN           NaN             \n",
       "last    2015-12-27 00:00:00 NaN           NaN           NaN             \n",
       "mean    NaN                  1.298426      6.833982e+05  2.358952e+05   \n",
       "std     NaN                  0.347076      2.765265e+06  9.995388e+05   \n",
       "min     NaN                  0.490000      7.490300e+02  0.000000e+00   \n",
       "25%     NaN                  0.990000      7.024875e+03  8.272250e+02   \n",
       "50%     NaN                  1.260000      6.693762e+04  4.722345e+03   \n",
       "75%     NaN                  1.572500      3.786661e+05  8.823896e+04   \n",
       "max     NaN                  2.320000      2.729798e+07  9.626901e+06   \n",
       "\n",
       "                4225          4770    Total Bags    Small Bags    Large Bags  \\\n",
       "count   1.080000e+02  1.080000e+02  1.080000e+02  1.080000e+02  1.080000e+02   \n",
       "unique NaN           NaN           NaN           NaN           NaN             \n",
       "top    NaN           NaN           NaN           NaN           NaN             \n",
       "freq   NaN           NaN           NaN           NaN           NaN             \n",
       "first  NaN           NaN           NaN           NaN           NaN             \n",
       "last   NaN           NaN           NaN           NaN           NaN             \n",
       "mean    2.566579e+05  2.890027e+04  1.619448e+05  1.242920e+05  3.316659e+04   \n",
       "std     1.039316e+06  1.245359e+05  6.394896e+05  4.938706e+05  1.355372e+05   \n",
       "min     5.850000e+00  0.000000e+00  8.097000e+01  1.285000e+01  0.000000e+00   \n",
       "25%     2.197718e+03  0.000000e+00  1.822140e+03  1.118762e+03  8.962500e+01   \n",
       "50%     2.117886e+04  2.591900e+02  2.431104e+04  1.748835e+04  1.972895e+03   \n",
       "75%     1.305568e+05  1.131541e+04  7.443820e+04  5.424071e+04  1.364537e+04   \n",
       "max     1.019789e+07  1.184340e+06  6.288852e+06  4.850404e+06  1.252626e+06   \n",
       "\n",
       "          XLarge Bags          type    year  region  \n",
       "count   108.000000     108           108.0   108     \n",
       "unique NaN             2            NaN      54      \n",
       "top    NaN             conventional NaN      Albany  \n",
       "freq   NaN             54           NaN      2       \n",
       "first  NaN             NaN          NaN      NaN     \n",
       "last   NaN             NaN          NaN      NaN     \n",
       "mean    4486.229444    NaN           2015.0  NaN     \n",
       "std     21097.544106   NaN           0.0     NaN     \n",
       "min     0.000000       NaN           2015.0  NaN     \n",
       "25%     0.000000       NaN           2015.0  NaN     \n",
       "50%     0.000000       NaN           2015.0  NaN     \n",
       "75%     23.135000      NaN           2015.0  NaN     \n",
       "max     185822.040000  NaN           2015.0  NaN     "
      ]
     },
     "execution_count": 39,
     "metadata": {},
     "output_type": "execute_result"
    }
   ],
   "source": [
    "train_df.query('Date == \"2015-12-27\"').describe(include=\"all\")"
   ]
  },
  {
   "cell_type": "code",
   "execution_count": 40,
   "id": "b91a9d7a",
   "metadata": {},
   "outputs": [
    {
     "name": "stdout",
     "output_type": "stream",
     "text": [
      "(54, 13)\n",
      "(54,)\n"
     ]
    }
   ],
   "source": [
    "print(train_df.query('Date == \"2015-12-27\" & type == \"conventional\"').shape)\n",
    "print(train_df.query('Date == \"2015-12-27\" & type == \"conventional\"')['region'].unique().shape)"
   ]
  },
  {
   "cell_type": "markdown",
   "id": "ac17a187-bf66-4339-b5f4-3f79cb6948cc",
   "metadata": {},
   "source": [
    "<br><br>"
   ]
  },
  {
   "cell_type": "markdown",
   "id": "a2b56b13-e2ff-45d9-b800-fb7006f92653",
   "metadata": {},
   "source": [
    "### 2.2\n",
    "rubric={points:4}\n",
    "\n",
    "In the Rain in Australia dataset, the measurements were generally equally spaced but with some exceptions. How about with this dataset? Justify your answer by referencing the dataset."
   ]
  },
  {
   "attachments": {},
   "cell_type": "markdown",
   "id": "b035d945",
   "metadata": {},
   "source": [
    "**ANSWER:**\n",
    "\n",
    "The measurements in this dataset are equally spaced. This can be determined by taking all the dates measurements were taken (unique `Date`) and ordering them. Then by comparing the difference between each measurement and the previous measurement, we obtain an interval between measurements which was consistently `7 days`. Because this interval was consistent, the measurements are equally spaced."
   ]
  },
  {
   "cell_type": "code",
   "execution_count": 41,
   "id": "df0e00fa",
   "metadata": {},
   "outputs": [
    {
     "data": {
      "text/plain": [
       "(143,)"
      ]
     },
     "execution_count": 41,
     "metadata": {},
     "output_type": "execute_result"
    }
   ],
   "source": [
    "train_df[\"Date\"].unique().shape"
   ]
  },
  {
   "cell_type": "code",
   "execution_count": 42,
   "id": "6674bbd4",
   "metadata": {},
   "outputs": [
    {
     "data": {
      "text/html": [
       "<div>\n",
       "<style scoped>\n",
       "    .dataframe tbody tr th:only-of-type {\n",
       "        vertical-align: middle;\n",
       "    }\n",
       "\n",
       "    .dataframe tbody tr th {\n",
       "        vertical-align: top;\n",
       "    }\n",
       "\n",
       "    .dataframe thead th {\n",
       "        text-align: right;\n",
       "    }\n",
       "</style>\n",
       "<table border=\"1\" class=\"dataframe\">\n",
       "  <thead>\n",
       "    <tr style=\"text-align: right;\">\n",
       "      <th></th>\n",
       "      <th>0</th>\n",
       "    </tr>\n",
       "  </thead>\n",
       "  <tbody>\n",
       "    <tr>\n",
       "      <th>51</th>\n",
       "      <td>NaT</td>\n",
       "    </tr>\n",
       "    <tr>\n",
       "      <th>50</th>\n",
       "      <td>7 days</td>\n",
       "    </tr>\n",
       "    <tr>\n",
       "      <th>49</th>\n",
       "      <td>7 days</td>\n",
       "    </tr>\n",
       "    <tr>\n",
       "      <th>48</th>\n",
       "      <td>7 days</td>\n",
       "    </tr>\n",
       "    <tr>\n",
       "      <th>47</th>\n",
       "      <td>7 days</td>\n",
       "    </tr>\n",
       "    <tr>\n",
       "      <th>...</th>\n",
       "      <td>...</td>\n",
       "    </tr>\n",
       "    <tr>\n",
       "      <th>108</th>\n",
       "      <td>7 days</td>\n",
       "    </tr>\n",
       "    <tr>\n",
       "      <th>107</th>\n",
       "      <td>7 days</td>\n",
       "    </tr>\n",
       "    <tr>\n",
       "      <th>106</th>\n",
       "      <td>7 days</td>\n",
       "    </tr>\n",
       "    <tr>\n",
       "      <th>105</th>\n",
       "      <td>7 days</td>\n",
       "    </tr>\n",
       "    <tr>\n",
       "      <th>104</th>\n",
       "      <td>7 days</td>\n",
       "    </tr>\n",
       "  </tbody>\n",
       "</table>\n",
       "<p>143 rows × 1 columns</p>\n",
       "</div>"
      ],
      "text/plain": [
       "         0\n",
       "51  NaT   \n",
       "50  7 days\n",
       "49  7 days\n",
       "48  7 days\n",
       "47  7 days\n",
       "..     ...\n",
       "108 7 days\n",
       "107 7 days\n",
       "106 7 days\n",
       "105 7 days\n",
       "104 7 days\n",
       "\n",
       "[143 rows x 1 columns]"
      ]
     },
     "execution_count": 42,
     "metadata": {},
     "output_type": "execute_result"
    }
   ],
   "source": [
    "pd.DataFrame(train_df[\"Date\"].unique()).sort_values(by=0).diff()"
   ]
  },
  {
   "cell_type": "code",
   "execution_count": 43,
   "id": "8504e92c",
   "metadata": {},
   "outputs": [
    {
     "data": {
      "text/plain": [
       "array([          'NaT', 604800000000000], dtype='timedelta64[ns]')"
      ]
     },
     "execution_count": 43,
     "metadata": {},
     "output_type": "execute_result"
    }
   ],
   "source": [
    "pd.DataFrame(train_df[\"Date\"].unique()).sort_values(by=0).diff()[0].unique()"
   ]
  },
  {
   "cell_type": "markdown",
   "id": "16dc1348-c2c6-46f6-bbdf-a77810930ac1",
   "metadata": {},
   "source": [
    "<br><br>"
   ]
  },
  {
   "cell_type": "markdown",
   "id": "d3ab120c-6b2b-4dfb-8765-7367a9577482",
   "metadata": {},
   "source": [
    "### 2.3\n",
    "rubric={points:4}\n",
    "\n",
    "In the Rain in Australia dataset, each location was a different place in Australia. For this dataset, look at the names of the regions. Do you think the regions are all distinct, or are there overlapping regions? Justify your answer by referencing the data."
   ]
  },
  {
   "attachments": {},
   "cell_type": "markdown",
   "id": "977e4d41",
   "metadata": {},
   "source": [
    "**ANSWER:**\n",
    "\n",
    "The regions are overlapping, because they can be both cities or \"regions\". Cities such as `Atlanta` overlap with large regions such as `TotalUS`."
   ]
  },
  {
   "cell_type": "code",
   "execution_count": 44,
   "id": "2baab08e",
   "metadata": {},
   "outputs": [
    {
     "data": {
      "text/plain": [
       "array(['Albany', 'Atlanta', 'BaltimoreWashington', 'Boise', 'Boston',\n",
       "       'BuffaloRochester', 'California', 'Charlotte', 'Chicago',\n",
       "       'CincinnatiDayton', 'Columbus', 'DallasFtWorth', 'Denver',\n",
       "       'Detroit', 'GrandRapids', 'GreatLakes', 'HarrisburgScranton',\n",
       "       'HartfordSpringfield', 'Houston', 'Indianapolis', 'Jacksonville',\n",
       "       'LasVegas', 'LosAngeles', 'Louisville', 'MiamiFtLauderdale',\n",
       "       'Midsouth', 'Nashville', 'NewOrleansMobile', 'NewYork',\n",
       "       'Northeast', 'NorthernNewEngland', 'Orlando', 'Philadelphia',\n",
       "       'PhoenixTucson', 'Pittsburgh', 'Plains', 'Portland',\n",
       "       'RaleighGreensboro', 'RichmondNorfolk', 'Roanoke', 'Sacramento',\n",
       "       'SanDiego', 'SanFrancisco', 'Seattle', 'SouthCarolina',\n",
       "       'SouthCentral', 'Southeast', 'Spokane', 'StLouis', 'Syracuse',\n",
       "       'Tampa', 'TotalUS', 'West', 'WestTexNewMexico'], dtype=object)"
      ]
     },
     "execution_count": 44,
     "metadata": {},
     "output_type": "execute_result"
    }
   ],
   "source": [
    "train_df[\"region\"].unique()"
   ]
  },
  {
   "cell_type": "markdown",
   "id": "331ec42a-3093-46c5-b708-ca7716f939dc",
   "metadata": {},
   "source": [
    "<br><br><br><br>"
   ]
  },
  {
   "cell_type": "markdown",
   "id": "49c9e680-d2b3-432b-884f-f05c3ed5e761",
   "metadata": {},
   "source": []
  },
  {
   "cell_type": "markdown",
   "id": "eeb32828-c8f6-4344-90bc-7ec214e448e7",
   "metadata": {},
   "source": [
    "## Preparation for models\n",
    "\n",
    "We will use the entire dataset despite any location-based weirdness uncovered in the previous part.\n",
    "\n",
    "We would like to forecast the avocado price, which is the `AveragePrice` column. The function below is adapted from Lecture 19, with some improvements."
   ]
  },
  {
   "cell_type": "code",
   "execution_count": 45,
   "id": "87ef9e53-9170-4a0c-a249-7cf0715496b8",
   "metadata": {},
   "outputs": [],
   "source": [
    "def create_lag_feature(\n",
    "    df, orig_feature, lag, groupby, new_feature_name=None, clip=False\n",
    "):\n",
    "    \"\"\"\n",
    "    Creates a new feature that's a lagged version of an existing one.\n",
    "\n",
    "    NOTE: assumes df is already sorted by the time columns and has unique indices.\n",
    "\n",
    "    Parameters\n",
    "    ----------\n",
    "    df : pandas.core.frame.DataFrame\n",
    "        The dataset.\n",
    "    orig_feature : str\n",
    "        The column name of the feature we're copying\n",
    "    lag : int\n",
    "        The lag; negative lag means values from the past, positive lag means values from the future\n",
    "    groupby : list\n",
    "        Column(s) to group by in case df contains multiple time series\n",
    "    new_feature_name : str\n",
    "        Override the default name of the newly created column\n",
    "    clip : bool\n",
    "        If True, remove rows with a NaN values for the new feature\n",
    "\n",
    "    Returns\n",
    "    -------\n",
    "    pandas.core.frame.DataFrame\n",
    "        A new dataframe with the additional column added.\n",
    "\n",
    "    TODO: could/should simplify this function by using `df.shift()`\n",
    "    \"\"\"\n",
    "\n",
    "    if new_feature_name is None:\n",
    "        if lag < 0:\n",
    "            new_feature_name = \"%s_lag%d\" % (orig_feature, -lag)\n",
    "        else:\n",
    "            new_feature_name = \"%s_ahead%d\" % (orig_feature, lag)\n",
    "\n",
    "    new_df = df.assign(**{new_feature_name: np.nan})\n",
    "    for name, group in new_df.groupby(groupby):\n",
    "        if lag < 0:  # take values from the past\n",
    "            new_df.loc[group.index[-lag:], new_feature_name] = group.iloc[:lag][\n",
    "                orig_feature\n",
    "            ].values\n",
    "        else:  # take values from the future\n",
    "            new_df.loc[group.index[:-lag], new_feature_name] = group.iloc[lag:][\n",
    "                orig_feature\n",
    "            ].values\n",
    "\n",
    "    if clip:\n",
    "        new_df = new_df.dropna(subset=[new_feature_name])\n",
    "\n",
    "    return new_df"
   ]
  },
  {
   "cell_type": "markdown",
   "id": "89cbe62a-05a6-4bed-8ae9-b1bb7299c16a",
   "metadata": {},
   "source": [
    "We first sort our dataframe properly:"
   ]
  },
  {
   "cell_type": "code",
   "execution_count": 46,
   "id": "c0049d46-d7e2-40a4-9d41-74ce2e875a05",
   "metadata": {},
   "outputs": [
    {
     "data": {
      "text/html": [
       "<div>\n",
       "<style scoped>\n",
       "    .dataframe tbody tr th:only-of-type {\n",
       "        vertical-align: middle;\n",
       "    }\n",
       "\n",
       "    .dataframe tbody tr th {\n",
       "        vertical-align: top;\n",
       "    }\n",
       "\n",
       "    .dataframe thead th {\n",
       "        text-align: right;\n",
       "    }\n",
       "</style>\n",
       "<table border=\"1\" class=\"dataframe\">\n",
       "  <thead>\n",
       "    <tr style=\"text-align: right;\">\n",
       "      <th></th>\n",
       "      <th>Date</th>\n",
       "      <th>AveragePrice</th>\n",
       "      <th>Total Volume</th>\n",
       "      <th>4046</th>\n",
       "      <th>4225</th>\n",
       "      <th>4770</th>\n",
       "      <th>Total Bags</th>\n",
       "      <th>Small Bags</th>\n",
       "      <th>Large Bags</th>\n",
       "      <th>XLarge Bags</th>\n",
       "      <th>type</th>\n",
       "      <th>year</th>\n",
       "      <th>region</th>\n",
       "    </tr>\n",
       "  </thead>\n",
       "  <tbody>\n",
       "    <tr>\n",
       "      <th>0</th>\n",
       "      <td>2015-01-04</td>\n",
       "      <td>1.22</td>\n",
       "      <td>40873.28</td>\n",
       "      <td>2819.50</td>\n",
       "      <td>28287.42</td>\n",
       "      <td>49.90</td>\n",
       "      <td>9716.46</td>\n",
       "      <td>9186.93</td>\n",
       "      <td>529.53</td>\n",
       "      <td>0.0</td>\n",
       "      <td>conventional</td>\n",
       "      <td>2015</td>\n",
       "      <td>Albany</td>\n",
       "    </tr>\n",
       "    <tr>\n",
       "      <th>1</th>\n",
       "      <td>2015-01-11</td>\n",
       "      <td>1.24</td>\n",
       "      <td>41195.08</td>\n",
       "      <td>1002.85</td>\n",
       "      <td>31640.34</td>\n",
       "      <td>127.12</td>\n",
       "      <td>8424.77</td>\n",
       "      <td>8036.04</td>\n",
       "      <td>388.73</td>\n",
       "      <td>0.0</td>\n",
       "      <td>conventional</td>\n",
       "      <td>2015</td>\n",
       "      <td>Albany</td>\n",
       "    </tr>\n",
       "    <tr>\n",
       "      <th>2</th>\n",
       "      <td>2015-01-18</td>\n",
       "      <td>1.17</td>\n",
       "      <td>44511.28</td>\n",
       "      <td>914.14</td>\n",
       "      <td>31540.32</td>\n",
       "      <td>135.77</td>\n",
       "      <td>11921.05</td>\n",
       "      <td>11651.09</td>\n",
       "      <td>269.96</td>\n",
       "      <td>0.0</td>\n",
       "      <td>conventional</td>\n",
       "      <td>2015</td>\n",
       "      <td>Albany</td>\n",
       "    </tr>\n",
       "    <tr>\n",
       "      <th>3</th>\n",
       "      <td>2015-01-25</td>\n",
       "      <td>1.06</td>\n",
       "      <td>45147.50</td>\n",
       "      <td>941.38</td>\n",
       "      <td>33196.16</td>\n",
       "      <td>164.14</td>\n",
       "      <td>10845.82</td>\n",
       "      <td>10103.35</td>\n",
       "      <td>742.47</td>\n",
       "      <td>0.0</td>\n",
       "      <td>conventional</td>\n",
       "      <td>2015</td>\n",
       "      <td>Albany</td>\n",
       "    </tr>\n",
       "    <tr>\n",
       "      <th>4</th>\n",
       "      <td>2015-02-01</td>\n",
       "      <td>0.99</td>\n",
       "      <td>70873.60</td>\n",
       "      <td>1353.90</td>\n",
       "      <td>60017.20</td>\n",
       "      <td>179.32</td>\n",
       "      <td>9323.18</td>\n",
       "      <td>9170.82</td>\n",
       "      <td>152.36</td>\n",
       "      <td>0.0</td>\n",
       "      <td>conventional</td>\n",
       "      <td>2015</td>\n",
       "      <td>Albany</td>\n",
       "    </tr>\n",
       "    <tr>\n",
       "      <th>...</th>\n",
       "      <td>...</td>\n",
       "      <td>...</td>\n",
       "      <td>...</td>\n",
       "      <td>...</td>\n",
       "      <td>...</td>\n",
       "      <td>...</td>\n",
       "      <td>...</td>\n",
       "      <td>...</td>\n",
       "      <td>...</td>\n",
       "      <td>...</td>\n",
       "      <td>...</td>\n",
       "      <td>...</td>\n",
       "      <td>...</td>\n",
       "    </tr>\n",
       "    <tr>\n",
       "      <th>18244</th>\n",
       "      <td>2018-02-25</td>\n",
       "      <td>1.57</td>\n",
       "      <td>18421.24</td>\n",
       "      <td>1974.26</td>\n",
       "      <td>2482.65</td>\n",
       "      <td>0.00</td>\n",
       "      <td>13964.33</td>\n",
       "      <td>13698.27</td>\n",
       "      <td>266.06</td>\n",
       "      <td>0.0</td>\n",
       "      <td>organic</td>\n",
       "      <td>2018</td>\n",
       "      <td>WestTexNewMexico</td>\n",
       "    </tr>\n",
       "    <tr>\n",
       "      <th>18245</th>\n",
       "      <td>2018-03-04</td>\n",
       "      <td>1.54</td>\n",
       "      <td>17393.30</td>\n",
       "      <td>1832.24</td>\n",
       "      <td>1905.57</td>\n",
       "      <td>0.00</td>\n",
       "      <td>13655.49</td>\n",
       "      <td>13401.93</td>\n",
       "      <td>253.56</td>\n",
       "      <td>0.0</td>\n",
       "      <td>organic</td>\n",
       "      <td>2018</td>\n",
       "      <td>WestTexNewMexico</td>\n",
       "    </tr>\n",
       "    <tr>\n",
       "      <th>18246</th>\n",
       "      <td>2018-03-11</td>\n",
       "      <td>1.56</td>\n",
       "      <td>22128.42</td>\n",
       "      <td>2162.67</td>\n",
       "      <td>3194.25</td>\n",
       "      <td>8.93</td>\n",
       "      <td>16762.57</td>\n",
       "      <td>16510.32</td>\n",
       "      <td>252.25</td>\n",
       "      <td>0.0</td>\n",
       "      <td>organic</td>\n",
       "      <td>2018</td>\n",
       "      <td>WestTexNewMexico</td>\n",
       "    </tr>\n",
       "    <tr>\n",
       "      <th>18247</th>\n",
       "      <td>2018-03-18</td>\n",
       "      <td>1.56</td>\n",
       "      <td>15896.38</td>\n",
       "      <td>2055.35</td>\n",
       "      <td>1499.55</td>\n",
       "      <td>0.00</td>\n",
       "      <td>12341.48</td>\n",
       "      <td>12114.81</td>\n",
       "      <td>226.67</td>\n",
       "      <td>0.0</td>\n",
       "      <td>organic</td>\n",
       "      <td>2018</td>\n",
       "      <td>WestTexNewMexico</td>\n",
       "    </tr>\n",
       "    <tr>\n",
       "      <th>18248</th>\n",
       "      <td>2018-03-25</td>\n",
       "      <td>1.62</td>\n",
       "      <td>15303.40</td>\n",
       "      <td>2325.30</td>\n",
       "      <td>2171.66</td>\n",
       "      <td>0.00</td>\n",
       "      <td>10806.44</td>\n",
       "      <td>10569.80</td>\n",
       "      <td>236.64</td>\n",
       "      <td>0.0</td>\n",
       "      <td>organic</td>\n",
       "      <td>2018</td>\n",
       "      <td>WestTexNewMexico</td>\n",
       "    </tr>\n",
       "  </tbody>\n",
       "</table>\n",
       "<p>18249 rows × 13 columns</p>\n",
       "</div>"
      ],
      "text/plain": [
       "            Date  AveragePrice  Total Volume     4046      4225    4770  \\\n",
       "0     2015-01-04  1.22          40873.28      2819.50  28287.42  49.90    \n",
       "1     2015-01-11  1.24          41195.08      1002.85  31640.34  127.12   \n",
       "2     2015-01-18  1.17          44511.28      914.14   31540.32  135.77   \n",
       "3     2015-01-25  1.06          45147.50      941.38   33196.16  164.14   \n",
       "4     2015-02-01  0.99          70873.60      1353.90  60017.20  179.32   \n",
       "...          ...   ...               ...          ...       ...     ...   \n",
       "18244 2018-02-25  1.57          18421.24      1974.26  2482.65   0.00     \n",
       "18245 2018-03-04  1.54          17393.30      1832.24  1905.57   0.00     \n",
       "18246 2018-03-11  1.56          22128.42      2162.67  3194.25   8.93     \n",
       "18247 2018-03-18  1.56          15896.38      2055.35  1499.55   0.00     \n",
       "18248 2018-03-25  1.62          15303.40      2325.30  2171.66   0.00     \n",
       "\n",
       "       Total Bags  Small Bags  Large Bags  XLarge Bags          type  year  \\\n",
       "0      9716.46     9186.93     529.53      0.0          conventional  2015   \n",
       "1      8424.77     8036.04     388.73      0.0          conventional  2015   \n",
       "2      11921.05    11651.09    269.96      0.0          conventional  2015   \n",
       "3      10845.82    10103.35    742.47      0.0          conventional  2015   \n",
       "4      9323.18     9170.82     152.36      0.0          conventional  2015   \n",
       "...        ...         ...        ...      ...                   ...   ...   \n",
       "18244  13964.33    13698.27    266.06      0.0          organic       2018   \n",
       "18245  13655.49    13401.93    253.56      0.0          organic       2018   \n",
       "18246  16762.57    16510.32    252.25      0.0          organic       2018   \n",
       "18247  12341.48    12114.81    226.67      0.0          organic       2018   \n",
       "18248  10806.44    10569.80    236.64      0.0          organic       2018   \n",
       "\n",
       "                 region  \n",
       "0      Albany            \n",
       "1      Albany            \n",
       "2      Albany            \n",
       "3      Albany            \n",
       "4      Albany            \n",
       "...       ...            \n",
       "18244  WestTexNewMexico  \n",
       "18245  WestTexNewMexico  \n",
       "18246  WestTexNewMexico  \n",
       "18247  WestTexNewMexico  \n",
       "18248  WestTexNewMexico  \n",
       "\n",
       "[18249 rows x 13 columns]"
      ]
     },
     "execution_count": 46,
     "metadata": {},
     "output_type": "execute_result"
    }
   ],
   "source": [
    "df_sort = df.sort_values(by=[\"region\", \"type\", \"Date\"]).reset_index(drop=True)\n",
    "df_sort"
   ]
  },
  {
   "cell_type": "markdown",
   "id": "fbaee71e-d45c-48dc-81a3-ebf7195cbea4",
   "metadata": {},
   "source": [
    "We then call `create_lag_feature`. This creates a new column in the dataset `AveragePriceNextWeek`, which is the following week's `AveragePrice`. We have set `clip=True` which means it will remove rows where the target would be missing."
   ]
  },
  {
   "cell_type": "code",
   "execution_count": 47,
   "id": "90736df7-04b7-40d4-a835-e8eb899da7f3",
   "metadata": {},
   "outputs": [
    {
     "data": {
      "text/html": [
       "<div>\n",
       "<style scoped>\n",
       "    .dataframe tbody tr th:only-of-type {\n",
       "        vertical-align: middle;\n",
       "    }\n",
       "\n",
       "    .dataframe tbody tr th {\n",
       "        vertical-align: top;\n",
       "    }\n",
       "\n",
       "    .dataframe thead th {\n",
       "        text-align: right;\n",
       "    }\n",
       "</style>\n",
       "<table border=\"1\" class=\"dataframe\">\n",
       "  <thead>\n",
       "    <tr style=\"text-align: right;\">\n",
       "      <th></th>\n",
       "      <th>Date</th>\n",
       "      <th>AveragePrice</th>\n",
       "      <th>Total Volume</th>\n",
       "      <th>4046</th>\n",
       "      <th>4225</th>\n",
       "      <th>4770</th>\n",
       "      <th>Total Bags</th>\n",
       "      <th>Small Bags</th>\n",
       "      <th>Large Bags</th>\n",
       "      <th>XLarge Bags</th>\n",
       "      <th>type</th>\n",
       "      <th>year</th>\n",
       "      <th>region</th>\n",
       "      <th>AveragePriceNextWeek</th>\n",
       "    </tr>\n",
       "  </thead>\n",
       "  <tbody>\n",
       "    <tr>\n",
       "      <th>0</th>\n",
       "      <td>2015-01-04</td>\n",
       "      <td>1.22</td>\n",
       "      <td>40873.28</td>\n",
       "      <td>2819.50</td>\n",
       "      <td>28287.42</td>\n",
       "      <td>49.90</td>\n",
       "      <td>9716.46</td>\n",
       "      <td>9186.93</td>\n",
       "      <td>529.53</td>\n",
       "      <td>0.0</td>\n",
       "      <td>conventional</td>\n",
       "      <td>2015</td>\n",
       "      <td>Albany</td>\n",
       "      <td>1.24</td>\n",
       "    </tr>\n",
       "    <tr>\n",
       "      <th>1</th>\n",
       "      <td>2015-01-11</td>\n",
       "      <td>1.24</td>\n",
       "      <td>41195.08</td>\n",
       "      <td>1002.85</td>\n",
       "      <td>31640.34</td>\n",
       "      <td>127.12</td>\n",
       "      <td>8424.77</td>\n",
       "      <td>8036.04</td>\n",
       "      <td>388.73</td>\n",
       "      <td>0.0</td>\n",
       "      <td>conventional</td>\n",
       "      <td>2015</td>\n",
       "      <td>Albany</td>\n",
       "      <td>1.17</td>\n",
       "    </tr>\n",
       "    <tr>\n",
       "      <th>2</th>\n",
       "      <td>2015-01-18</td>\n",
       "      <td>1.17</td>\n",
       "      <td>44511.28</td>\n",
       "      <td>914.14</td>\n",
       "      <td>31540.32</td>\n",
       "      <td>135.77</td>\n",
       "      <td>11921.05</td>\n",
       "      <td>11651.09</td>\n",
       "      <td>269.96</td>\n",
       "      <td>0.0</td>\n",
       "      <td>conventional</td>\n",
       "      <td>2015</td>\n",
       "      <td>Albany</td>\n",
       "      <td>1.06</td>\n",
       "    </tr>\n",
       "    <tr>\n",
       "      <th>3</th>\n",
       "      <td>2015-01-25</td>\n",
       "      <td>1.06</td>\n",
       "      <td>45147.50</td>\n",
       "      <td>941.38</td>\n",
       "      <td>33196.16</td>\n",
       "      <td>164.14</td>\n",
       "      <td>10845.82</td>\n",
       "      <td>10103.35</td>\n",
       "      <td>742.47</td>\n",
       "      <td>0.0</td>\n",
       "      <td>conventional</td>\n",
       "      <td>2015</td>\n",
       "      <td>Albany</td>\n",
       "      <td>0.99</td>\n",
       "    </tr>\n",
       "    <tr>\n",
       "      <th>4</th>\n",
       "      <td>2015-02-01</td>\n",
       "      <td>0.99</td>\n",
       "      <td>70873.60</td>\n",
       "      <td>1353.90</td>\n",
       "      <td>60017.20</td>\n",
       "      <td>179.32</td>\n",
       "      <td>9323.18</td>\n",
       "      <td>9170.82</td>\n",
       "      <td>152.36</td>\n",
       "      <td>0.0</td>\n",
       "      <td>conventional</td>\n",
       "      <td>2015</td>\n",
       "      <td>Albany</td>\n",
       "      <td>0.99</td>\n",
       "    </tr>\n",
       "    <tr>\n",
       "      <th>...</th>\n",
       "      <td>...</td>\n",
       "      <td>...</td>\n",
       "      <td>...</td>\n",
       "      <td>...</td>\n",
       "      <td>...</td>\n",
       "      <td>...</td>\n",
       "      <td>...</td>\n",
       "      <td>...</td>\n",
       "      <td>...</td>\n",
       "      <td>...</td>\n",
       "      <td>...</td>\n",
       "      <td>...</td>\n",
       "      <td>...</td>\n",
       "      <td>...</td>\n",
       "    </tr>\n",
       "    <tr>\n",
       "      <th>18243</th>\n",
       "      <td>2018-02-18</td>\n",
       "      <td>1.56</td>\n",
       "      <td>17597.12</td>\n",
       "      <td>1892.05</td>\n",
       "      <td>1928.36</td>\n",
       "      <td>0.00</td>\n",
       "      <td>13776.71</td>\n",
       "      <td>13553.53</td>\n",
       "      <td>223.18</td>\n",
       "      <td>0.0</td>\n",
       "      <td>organic</td>\n",
       "      <td>2018</td>\n",
       "      <td>WestTexNewMexico</td>\n",
       "      <td>1.57</td>\n",
       "    </tr>\n",
       "    <tr>\n",
       "      <th>18244</th>\n",
       "      <td>2018-02-25</td>\n",
       "      <td>1.57</td>\n",
       "      <td>18421.24</td>\n",
       "      <td>1974.26</td>\n",
       "      <td>2482.65</td>\n",
       "      <td>0.00</td>\n",
       "      <td>13964.33</td>\n",
       "      <td>13698.27</td>\n",
       "      <td>266.06</td>\n",
       "      <td>0.0</td>\n",
       "      <td>organic</td>\n",
       "      <td>2018</td>\n",
       "      <td>WestTexNewMexico</td>\n",
       "      <td>1.54</td>\n",
       "    </tr>\n",
       "    <tr>\n",
       "      <th>18245</th>\n",
       "      <td>2018-03-04</td>\n",
       "      <td>1.54</td>\n",
       "      <td>17393.30</td>\n",
       "      <td>1832.24</td>\n",
       "      <td>1905.57</td>\n",
       "      <td>0.00</td>\n",
       "      <td>13655.49</td>\n",
       "      <td>13401.93</td>\n",
       "      <td>253.56</td>\n",
       "      <td>0.0</td>\n",
       "      <td>organic</td>\n",
       "      <td>2018</td>\n",
       "      <td>WestTexNewMexico</td>\n",
       "      <td>1.56</td>\n",
       "    </tr>\n",
       "    <tr>\n",
       "      <th>18246</th>\n",
       "      <td>2018-03-11</td>\n",
       "      <td>1.56</td>\n",
       "      <td>22128.42</td>\n",
       "      <td>2162.67</td>\n",
       "      <td>3194.25</td>\n",
       "      <td>8.93</td>\n",
       "      <td>16762.57</td>\n",
       "      <td>16510.32</td>\n",
       "      <td>252.25</td>\n",
       "      <td>0.0</td>\n",
       "      <td>organic</td>\n",
       "      <td>2018</td>\n",
       "      <td>WestTexNewMexico</td>\n",
       "      <td>1.56</td>\n",
       "    </tr>\n",
       "    <tr>\n",
       "      <th>18247</th>\n",
       "      <td>2018-03-18</td>\n",
       "      <td>1.56</td>\n",
       "      <td>15896.38</td>\n",
       "      <td>2055.35</td>\n",
       "      <td>1499.55</td>\n",
       "      <td>0.00</td>\n",
       "      <td>12341.48</td>\n",
       "      <td>12114.81</td>\n",
       "      <td>226.67</td>\n",
       "      <td>0.0</td>\n",
       "      <td>organic</td>\n",
       "      <td>2018</td>\n",
       "      <td>WestTexNewMexico</td>\n",
       "      <td>1.62</td>\n",
       "    </tr>\n",
       "  </tbody>\n",
       "</table>\n",
       "<p>18141 rows × 14 columns</p>\n",
       "</div>"
      ],
      "text/plain": [
       "            Date  AveragePrice  Total Volume     4046      4225    4770  \\\n",
       "0     2015-01-04  1.22          40873.28      2819.50  28287.42  49.90    \n",
       "1     2015-01-11  1.24          41195.08      1002.85  31640.34  127.12   \n",
       "2     2015-01-18  1.17          44511.28      914.14   31540.32  135.77   \n",
       "3     2015-01-25  1.06          45147.50      941.38   33196.16  164.14   \n",
       "4     2015-02-01  0.99          70873.60      1353.90  60017.20  179.32   \n",
       "...          ...   ...               ...          ...       ...     ...   \n",
       "18243 2018-02-18  1.56          17597.12      1892.05  1928.36   0.00     \n",
       "18244 2018-02-25  1.57          18421.24      1974.26  2482.65   0.00     \n",
       "18245 2018-03-04  1.54          17393.30      1832.24  1905.57   0.00     \n",
       "18246 2018-03-11  1.56          22128.42      2162.67  3194.25   8.93     \n",
       "18247 2018-03-18  1.56          15896.38      2055.35  1499.55   0.00     \n",
       "\n",
       "       Total Bags  Small Bags  Large Bags  XLarge Bags          type  year  \\\n",
       "0      9716.46     9186.93     529.53      0.0          conventional  2015   \n",
       "1      8424.77     8036.04     388.73      0.0          conventional  2015   \n",
       "2      11921.05    11651.09    269.96      0.0          conventional  2015   \n",
       "3      10845.82    10103.35    742.47      0.0          conventional  2015   \n",
       "4      9323.18     9170.82     152.36      0.0          conventional  2015   \n",
       "...        ...         ...        ...      ...                   ...   ...   \n",
       "18243  13776.71    13553.53    223.18      0.0          organic       2018   \n",
       "18244  13964.33    13698.27    266.06      0.0          organic       2018   \n",
       "18245  13655.49    13401.93    253.56      0.0          organic       2018   \n",
       "18246  16762.57    16510.32    252.25      0.0          organic       2018   \n",
       "18247  12341.48    12114.81    226.67      0.0          organic       2018   \n",
       "\n",
       "                 region  AveragePriceNextWeek  \n",
       "0      Albany            1.24                  \n",
       "1      Albany            1.17                  \n",
       "2      Albany            1.06                  \n",
       "3      Albany            0.99                  \n",
       "4      Albany            0.99                  \n",
       "...       ...             ...                  \n",
       "18243  WestTexNewMexico  1.57                  \n",
       "18244  WestTexNewMexico  1.54                  \n",
       "18245  WestTexNewMexico  1.56                  \n",
       "18246  WestTexNewMexico  1.56                  \n",
       "18247  WestTexNewMexico  1.62                  \n",
       "\n",
       "[18141 rows x 14 columns]"
      ]
     },
     "execution_count": 47,
     "metadata": {},
     "output_type": "execute_result"
    }
   ],
   "source": [
    "df_hastarget = create_lag_feature(\n",
    "    df_sort, \"AveragePrice\", +1, [\"region\", \"type\"], \"AveragePriceNextWeek\", clip=True\n",
    ")\n",
    "df_hastarget"
   ]
  },
  {
   "cell_type": "markdown",
   "id": "5dbfa73e-48d7-49be-af1c-dba397d9f946",
   "metadata": {},
   "source": [
    "I will now split the data:"
   ]
  },
  {
   "cell_type": "code",
   "execution_count": 48,
   "id": "8e952769-dbd1-4052-855f-2d2f2b4101d0",
   "metadata": {},
   "outputs": [],
   "source": [
    "train_df = df_hastarget[df_hastarget[\"Date\"] <= split_date]\n",
    "test_df = df_hastarget[df_hastarget[\"Date\"] > split_date]"
   ]
  },
  {
   "cell_type": "markdown",
   "id": "65fb19b2-0a17-4133-bf78-3dea9aa61526",
   "metadata": {},
   "source": [
    "<br><br>"
   ]
  },
  {
   "cell_type": "markdown",
   "id": "848e951f-8dde-4a34-bf4e-b2c3a6270bb0",
   "metadata": {},
   "source": [
    "### 2.4 Baseline\n",
    "rubric={points:4}\n",
    "\n",
    "Let's try a baseline. Previously we used `DummyClassifier` or `DummyRegressor` as a baseline. This time, we'll do something else as a baseline: we'll assume the price stays the same from this week to next week. So, we'll set our prediction of \"AveragePriceNextWeek\" exactly equal to \"AveragePrice\", assuming no change. That is kind of like saying, \"If it's raining today then I'm guessing it will be raining tomorrow\". This simplistic approach will not get a great score but it's a good starting point for reference. If our model does worse than this, it must not be very good. \n",
    "\n",
    "Using this baseline approach, what $R^2$ do you get?"
   ]
  },
  {
   "attachments": {},
   "cell_type": "markdown",
   "id": "c399e012",
   "metadata": {},
   "source": [
    "**ANSWER:**\n",
    "\n",
    "By setting `y_true` as the forecasted `AveragePriceNextWeek` and `y_pred` as the same as this weeks price `AveragePrice`, we get the score\n",
    "$$R^2 = 0.8286$$"
   ]
  },
  {
   "cell_type": "code",
   "execution_count": 49,
   "id": "fa2633c0",
   "metadata": {},
   "outputs": [],
   "source": [
    "from sklearn.metrics import r2_score"
   ]
  },
  {
   "cell_type": "code",
   "execution_count": 50,
   "id": "aa18aec6",
   "metadata": {},
   "outputs": [
    {
     "data": {
      "text/html": [
       "<div>\n",
       "<style scoped>\n",
       "    .dataframe tbody tr th:only-of-type {\n",
       "        vertical-align: middle;\n",
       "    }\n",
       "\n",
       "    .dataframe tbody tr th {\n",
       "        vertical-align: top;\n",
       "    }\n",
       "\n",
       "    .dataframe thead th {\n",
       "        text-align: right;\n",
       "    }\n",
       "</style>\n",
       "<table border=\"1\" class=\"dataframe\">\n",
       "  <thead>\n",
       "    <tr style=\"text-align: right;\">\n",
       "      <th></th>\n",
       "      <th>AveragePrice</th>\n",
       "      <th>AveragePriceNextWeek</th>\n",
       "    </tr>\n",
       "  </thead>\n",
       "  <tbody>\n",
       "    <tr>\n",
       "      <th>4</th>\n",
       "      <td>0.99</td>\n",
       "      <td>0.99</td>\n",
       "    </tr>\n",
       "    <tr>\n",
       "      <th>105</th>\n",
       "      <td>1.55</td>\n",
       "      <td>1.55</td>\n",
       "    </tr>\n",
       "    <tr>\n",
       "      <th>137</th>\n",
       "      <td>1.61</td>\n",
       "      <td>1.61</td>\n",
       "    </tr>\n",
       "    <tr>\n",
       "      <th>178</th>\n",
       "      <td>1.79</td>\n",
       "      <td>1.79</td>\n",
       "    </tr>\n",
       "    <tr>\n",
       "      <th>181</th>\n",
       "      <td>1.93</td>\n",
       "      <td>1.93</td>\n",
       "    </tr>\n",
       "    <tr>\n",
       "      <th>...</th>\n",
       "      <td>...</td>\n",
       "      <td>...</td>\n",
       "    </tr>\n",
       "    <tr>\n",
       "      <th>18056</th>\n",
       "      <td>1.22</td>\n",
       "      <td>1.22</td>\n",
       "    </tr>\n",
       "    <tr>\n",
       "      <th>18108</th>\n",
       "      <td>1.58</td>\n",
       "      <td>1.58</td>\n",
       "    </tr>\n",
       "    <tr>\n",
       "      <th>18149</th>\n",
       "      <td>1.36</td>\n",
       "      <td>1.36</td>\n",
       "    </tr>\n",
       "    <tr>\n",
       "      <th>18197</th>\n",
       "      <td>1.11</td>\n",
       "      <td>1.11</td>\n",
       "    </tr>\n",
       "    <tr>\n",
       "      <th>18212</th>\n",
       "      <td>1.60</td>\n",
       "      <td>1.60</td>\n",
       "    </tr>\n",
       "  </tbody>\n",
       "</table>\n",
       "<p>812 rows × 2 columns</p>\n",
       "</div>"
      ],
      "text/plain": [
       "       AveragePrice  AveragePriceNextWeek\n",
       "4      0.99          0.99                \n",
       "105    1.55          1.55                \n",
       "137    1.61          1.61                \n",
       "178    1.79          1.79                \n",
       "181    1.93          1.93                \n",
       "...     ...           ...                \n",
       "18056  1.22          1.22                \n",
       "18108  1.58          1.58                \n",
       "18149  1.36          1.36                \n",
       "18197  1.11          1.11                \n",
       "18212  1.60          1.60                \n",
       "\n",
       "[812 rows x 2 columns]"
      ]
     },
     "execution_count": 50,
     "metadata": {},
     "output_type": "execute_result"
    }
   ],
   "source": [
    "train_df[['AveragePrice', 'AveragePriceNextWeek']].query('AveragePrice == AveragePriceNextWeek')"
   ]
  },
  {
   "cell_type": "code",
   "execution_count": 51,
   "id": "d6b50f5b",
   "metadata": {},
   "outputs": [
    {
     "data": {
      "text/plain": [
       "0.8285800937261841"
      ]
     },
     "execution_count": 51,
     "metadata": {},
     "output_type": "execute_result"
    }
   ],
   "source": [
    "dummy_train_r2 = r2_score(train_df['AveragePriceNextWeek'], train_df['AveragePrice'])\n",
    "dummy_train_r2"
   ]
  },
  {
   "cell_type": "code",
   "execution_count": 52,
   "id": "4790d2ef",
   "metadata": {},
   "outputs": [
    {
     "data": {
      "text/plain": [
       "0.7631780188583048"
      ]
     },
     "execution_count": 52,
     "metadata": {},
     "output_type": "execute_result"
    }
   ],
   "source": [
    "dummy_test_r2 = r2_score(test_df['AveragePriceNextWeek'], test_df['AveragePrice'])\n",
    "dummy_test_r2"
   ]
  },
  {
   "cell_type": "code",
   "execution_count": 53,
   "id": "a568df15",
   "metadata": {},
   "outputs": [
    {
     "data": {
      "text/html": [
       "<div>\n",
       "<style scoped>\n",
       "    .dataframe tbody tr th:only-of-type {\n",
       "        vertical-align: middle;\n",
       "    }\n",
       "\n",
       "    .dataframe tbody tr th {\n",
       "        vertical-align: top;\n",
       "    }\n",
       "\n",
       "    .dataframe thead th {\n",
       "        text-align: right;\n",
       "    }\n",
       "</style>\n",
       "<table border=\"1\" class=\"dataframe\">\n",
       "  <thead>\n",
       "    <tr style=\"text-align: right;\">\n",
       "      <th></th>\n",
       "      <th>model</th>\n",
       "      <th>test_score</th>\n",
       "      <th>train_score</th>\n",
       "    </tr>\n",
       "  </thead>\n",
       "  <tbody>\n",
       "    <tr>\n",
       "      <th>0</th>\n",
       "      <td>dummy</td>\n",
       "      <td>0.763178</td>\n",
       "      <td>0.82858</td>\n",
       "    </tr>\n",
       "  </tbody>\n",
       "</table>\n",
       "</div>"
      ],
      "text/plain": [
       "   model  test_score  train_score\n",
       "0  dummy  0.763178    0.82858    "
      ]
     },
     "execution_count": 53,
     "metadata": {},
     "output_type": "execute_result"
    }
   ],
   "source": [
    "results = {\n",
    "    \"model\": [\"dummy\"],\n",
    "    \"test_score\": [dummy_test_r2],\n",
    "    \"train_score\": [dummy_train_r2]\n",
    "}\n",
    "pd.DataFrame(results)"
   ]
  },
  {
   "cell_type": "markdown",
   "id": "a0d241cd-4669-46d9-bb21-1fd8006a39e8",
   "metadata": {},
   "source": [
    "<br><br>"
   ]
  },
  {
   "cell_type": "markdown",
   "id": "6d0615dc-63c2-458f-844b-f17d30758ab1",
   "metadata": {},
   "source": [
    "### (Optional) 2.5 Modeling\n",
    "rubric={points:2}\n",
    "\n",
    "Now that the baseline is done, let's build some models to forecast the average avocado price a week later. Experiment with a few approachs for encoding the date. Justify the decisions you make. Which approach worked best? Report your test score and briefly discuss your results.\n",
    "\n",
    "> because we only have 2 splits here, we need to be a bit wary of overfitting on the test set. Try not to test on it a ridiculous number of times. If you are interested in some proper ways of dealing with this, see for example sklearn's [TimeSeriesSplit](https://scikit-learn.org/stable/modules/generated/sklearn.model_selection.TimeSeriesSplit.html), which is like cross-validation for time series data."
   ]
  },
  {
   "attachments": {},
   "cell_type": "markdown",
   "id": "4ab38880",
   "metadata": {},
   "source": [
    "#### EDA"
   ]
  },
  {
   "cell_type": "code",
   "execution_count": 54,
   "id": "d0731441",
   "metadata": {},
   "outputs": [
    {
     "data": {
      "text/html": [
       "<div>\n",
       "<style scoped>\n",
       "    .dataframe tbody tr th:only-of-type {\n",
       "        vertical-align: middle;\n",
       "    }\n",
       "\n",
       "    .dataframe tbody tr th {\n",
       "        vertical-align: top;\n",
       "    }\n",
       "\n",
       "    .dataframe thead th {\n",
       "        text-align: right;\n",
       "    }\n",
       "</style>\n",
       "<table border=\"1\" class=\"dataframe\">\n",
       "  <thead>\n",
       "    <tr style=\"text-align: right;\">\n",
       "      <th></th>\n",
       "      <th>AveragePrice</th>\n",
       "      <th>Total Volume</th>\n",
       "      <th>4046</th>\n",
       "      <th>4225</th>\n",
       "      <th>4770</th>\n",
       "      <th>Total Bags</th>\n",
       "      <th>Small Bags</th>\n",
       "      <th>Large Bags</th>\n",
       "      <th>XLarge Bags</th>\n",
       "      <th>year</th>\n",
       "      <th>AveragePriceNextWeek</th>\n",
       "    </tr>\n",
       "  </thead>\n",
       "  <tbody>\n",
       "    <tr>\n",
       "      <th>count</th>\n",
       "      <td>15441.000000</td>\n",
       "      <td>1.544100e+04</td>\n",
       "      <td>1.544100e+04</td>\n",
       "      <td>1.544100e+04</td>\n",
       "      <td>1.544100e+04</td>\n",
       "      <td>1.544100e+04</td>\n",
       "      <td>1.544100e+04</td>\n",
       "      <td>1.544100e+04</td>\n",
       "      <td>15441.000000</td>\n",
       "      <td>15441.000000</td>\n",
       "      <td>15441.000000</td>\n",
       "    </tr>\n",
       "    <tr>\n",
       "      <th>mean</th>\n",
       "      <td>1.397126</td>\n",
       "      <td>8.415280e+05</td>\n",
       "      <td>2.915050e+05</td>\n",
       "      <td>2.987060e+05</td>\n",
       "      <td>2.438154e+04</td>\n",
       "      <td>2.269345e+05</td>\n",
       "      <td>1.739725e+05</td>\n",
       "      <td>4.997246e+04</td>\n",
       "      <td>2989.486697</td>\n",
       "      <td>2015.909008</td>\n",
       "      <td>1.401113</td>\n",
       "    </tr>\n",
       "    <tr>\n",
       "      <th>std</th>\n",
       "      <td>0.409543</td>\n",
       "      <td>3.413913e+06</td>\n",
       "      <td>1.257911e+06</td>\n",
       "      <td>1.217028e+06</td>\n",
       "      <td>1.131981e+05</td>\n",
       "      <td>9.354825e+05</td>\n",
       "      <td>7.167709e+05</td>\n",
       "      <td>2.215717e+05</td>\n",
       "      <td>17374.897311</td>\n",
       "      <td>0.792499</td>\n",
       "      <td>0.411514</td>\n",
       "    </tr>\n",
       "    <tr>\n",
       "      <th>min</th>\n",
       "      <td>0.440000</td>\n",
       "      <td>8.456000e+01</td>\n",
       "      <td>0.000000e+00</td>\n",
       "      <td>0.000000e+00</td>\n",
       "      <td>0.000000e+00</td>\n",
       "      <td>0.000000e+00</td>\n",
       "      <td>0.000000e+00</td>\n",
       "      <td>0.000000e+00</td>\n",
       "      <td>0.000000</td>\n",
       "      <td>2015.000000</td>\n",
       "      <td>0.440000</td>\n",
       "    </tr>\n",
       "    <tr>\n",
       "      <th>25%</th>\n",
       "      <td>1.080000</td>\n",
       "      <td>1.009291e+04</td>\n",
       "      <td>8.790700e+02</td>\n",
       "      <td>3.114340e+03</td>\n",
       "      <td>0.000000e+00</td>\n",
       "      <td>4.072320e+03</td>\n",
       "      <td>2.087380e+03</td>\n",
       "      <td>1.066700e+02</td>\n",
       "      <td>0.000000</td>\n",
       "      <td>2015.000000</td>\n",
       "      <td>1.090000</td>\n",
       "    </tr>\n",
       "    <tr>\n",
       "      <th>50%</th>\n",
       "      <td>1.360000</td>\n",
       "      <td>1.044206e+05</td>\n",
       "      <td>8.217170e+03</td>\n",
       "      <td>2.983921e+04</td>\n",
       "      <td>1.987000e+02</td>\n",
       "      <td>3.732293e+04</td>\n",
       "      <td>2.419380e+04</td>\n",
       "      <td>2.348730e+03</td>\n",
       "      <td>0.000000</td>\n",
       "      <td>2016.000000</td>\n",
       "      <td>1.360000</td>\n",
       "    </tr>\n",
       "    <tr>\n",
       "      <th>75%</th>\n",
       "      <td>1.660000</td>\n",
       "      <td>4.273913e+05</td>\n",
       "      <td>1.113626e+05</td>\n",
       "      <td>1.518530e+05</td>\n",
       "      <td>7.051080e+03</td>\n",
       "      <td>1.035380e+05</td>\n",
       "      <td>7.913568e+04</td>\n",
       "      <td>1.952399e+04</td>\n",
       "      <td>106.940000</td>\n",
       "      <td>2017.000000</td>\n",
       "      <td>1.660000</td>\n",
       "    </tr>\n",
       "    <tr>\n",
       "      <th>max</th>\n",
       "      <td>3.250000</td>\n",
       "      <td>6.103446e+07</td>\n",
       "      <td>2.274362e+07</td>\n",
       "      <td>2.047057e+07</td>\n",
       "      <td>2.546439e+06</td>\n",
       "      <td>1.629830e+07</td>\n",
       "      <td>1.256716e+07</td>\n",
       "      <td>4.324231e+06</td>\n",
       "      <td>551693.650000</td>\n",
       "      <td>2017.000000</td>\n",
       "      <td>3.250000</td>\n",
       "    </tr>\n",
       "  </tbody>\n",
       "</table>\n",
       "</div>"
      ],
      "text/plain": [
       "       AveragePrice  Total Volume          4046          4225          4770  \\\n",
       "count  15441.000000  1.544100e+04  1.544100e+04  1.544100e+04  1.544100e+04   \n",
       "mean   1.397126      8.415280e+05  2.915050e+05  2.987060e+05  2.438154e+04   \n",
       "std    0.409543      3.413913e+06  1.257911e+06  1.217028e+06  1.131981e+05   \n",
       "min    0.440000      8.456000e+01  0.000000e+00  0.000000e+00  0.000000e+00   \n",
       "25%    1.080000      1.009291e+04  8.790700e+02  3.114340e+03  0.000000e+00   \n",
       "50%    1.360000      1.044206e+05  8.217170e+03  2.983921e+04  1.987000e+02   \n",
       "75%    1.660000      4.273913e+05  1.113626e+05  1.518530e+05  7.051080e+03   \n",
       "max    3.250000      6.103446e+07  2.274362e+07  2.047057e+07  2.546439e+06   \n",
       "\n",
       "         Total Bags    Small Bags    Large Bags    XLarge Bags          year  \\\n",
       "count  1.544100e+04  1.544100e+04  1.544100e+04  15441.000000   15441.000000   \n",
       "mean   2.269345e+05  1.739725e+05  4.997246e+04  2989.486697    2015.909008    \n",
       "std    9.354825e+05  7.167709e+05  2.215717e+05  17374.897311   0.792499       \n",
       "min    0.000000e+00  0.000000e+00  0.000000e+00  0.000000       2015.000000    \n",
       "25%    4.072320e+03  2.087380e+03  1.066700e+02  0.000000       2015.000000    \n",
       "50%    3.732293e+04  2.419380e+04  2.348730e+03  0.000000       2016.000000    \n",
       "75%    1.035380e+05  7.913568e+04  1.952399e+04  106.940000     2017.000000    \n",
       "max    1.629830e+07  1.256716e+07  4.324231e+06  551693.650000  2017.000000    \n",
       "\n",
       "       AveragePriceNextWeek  \n",
       "count  15441.000000          \n",
       "mean   1.401113              \n",
       "std    0.411514              \n",
       "min    0.440000              \n",
       "25%    1.090000              \n",
       "50%    1.360000              \n",
       "75%    1.660000              \n",
       "max    3.250000              "
      ]
     },
     "execution_count": 54,
     "metadata": {},
     "output_type": "execute_result"
    }
   ],
   "source": [
    "train_df.describe()"
   ]
  },
  {
   "cell_type": "code",
   "execution_count": 55,
   "id": "12dee163",
   "metadata": {},
   "outputs": [
    {
     "name": "stdout",
     "output_type": "stream",
     "text": [
      "<class 'pandas.core.frame.DataFrame'>\n",
      "Int64Index: 15441 entries, 0 to 18222\n",
      "Data columns (total 14 columns):\n",
      " #   Column                Non-Null Count  Dtype         \n",
      "---  ------                --------------  -----         \n",
      " 0   Date                  15441 non-null  datetime64[ns]\n",
      " 1   AveragePrice          15441 non-null  float64       \n",
      " 2   Total Volume          15441 non-null  float64       \n",
      " 3   4046                  15441 non-null  float64       \n",
      " 4   4225                  15441 non-null  float64       \n",
      " 5   4770                  15441 non-null  float64       \n",
      " 6   Total Bags            15441 non-null  float64       \n",
      " 7   Small Bags            15441 non-null  float64       \n",
      " 8   Large Bags            15441 non-null  float64       \n",
      " 9   XLarge Bags           15441 non-null  float64       \n",
      " 10  type                  15441 non-null  object        \n",
      " 11  year                  15441 non-null  int64         \n",
      " 12  region                15441 non-null  object        \n",
      " 13  AveragePriceNextWeek  15441 non-null  float64       \n",
      "dtypes: datetime64[ns](1), float64(10), int64(1), object(2)\n",
      "memory usage: 1.8+ MB\n"
     ]
    }
   ],
   "source": [
    "train_df.info()"
   ]
  },
  {
   "cell_type": "code",
   "execution_count": 56,
   "id": "eacd1bff",
   "metadata": {},
   "outputs": [
    {
     "data": {
      "text/plain": [
       "array([2015, 2016, 2017])"
      ]
     },
     "execution_count": 56,
     "metadata": {},
     "output_type": "execute_result"
    }
   ],
   "source": [
    "train_df['year'].unique()"
   ]
  },
  {
   "cell_type": "code",
   "execution_count": 57,
   "id": "fef10db8",
   "metadata": {},
   "outputs": [
    {
     "data": {
      "text/plain": [
       "Index(['Date', 'AveragePrice', 'Total Volume', '4046', '4225', '4770',\n",
       "       'Total Bags', 'Small Bags', 'Large Bags', 'XLarge Bags', 'type', 'year',\n",
       "       'region', 'AveragePriceNextWeek'],\n",
       "      dtype='object')"
      ]
     },
     "execution_count": 57,
     "metadata": {},
     "output_type": "execute_result"
    }
   ],
   "source": [
    "train_df.columns"
   ]
  },
  {
   "attachments": {},
   "cell_type": "markdown",
   "id": "b99955c4",
   "metadata": {},
   "source": [
    "#### Build Preprocessor"
   ]
  },
  {
   "cell_type": "code",
   "execution_count": 58,
   "id": "3e9919b8",
   "metadata": {},
   "outputs": [],
   "source": [
    "\n",
    "numeric_features = [\n",
    "    'AveragePrice', \n",
    "    'Total Volume', \n",
    "    '4046', \n",
    "    '4225', \n",
    "    '4770',\n",
    "    'Total Bags', \n",
    "    'Small Bags', \n",
    "    'Large Bags', \n",
    "    'XLarge Bags', \n",
    "]\n",
    "categorical_features = [\n",
    "    'type',\n",
    "    'year',\n",
    "    'region'\n",
    "]\n",
    "drop_features = [\"Date\"]\n",
    "target = ['AveragePriceNextWeek']"
   ]
  },
  {
   "cell_type": "code",
   "execution_count": 59,
   "id": "78e8dcaf",
   "metadata": {},
   "outputs": [],
   "source": [
    "# FROM: Time Series Lecture CPSC 330\n",
    "def preprocess_features(\n",
    "    train_df,\n",
    "    test_df,\n",
    "    numeric_features,\n",
    "    categorical_features,\n",
    "    drop_features,\n",
    "    target\n",
    "):\n",
    "\n",
    "    all_features = set(numeric_features + categorical_features + drop_features + target)\n",
    "    if set(train_df.columns) != all_features:\n",
    "        print(\"Missing columns\", set(train_df.columns) - all_features)\n",
    "        print(\"Extra columns\", all_features - set(train_df.columns))\n",
    "        raise Exception(\"Columns do not match\")\n",
    "\n",
    "    numeric_transformer = make_pipeline(\n",
    "        StandardScaler()\n",
    "    )\n",
    "    categorical_transformer = make_pipeline(\n",
    "        OneHotEncoder(handle_unknown=\"ignore\", sparse=False),\n",
    "    )\n",
    "\n",
    "    preprocessor = make_column_transformer(\n",
    "        (numeric_transformer, numeric_features),\n",
    "        (categorical_transformer, categorical_features),\n",
    "        (\"drop\", drop_features),\n",
    "    )\n",
    "    preprocessor.fit(train_df)\n",
    "    ohe_feature_names = (\n",
    "        preprocessor.named_transformers_[\"pipeline-2\"]\n",
    "        .named_steps[\"onehotencoder\"]\n",
    "        .get_feature_names_out(categorical_features)\n",
    "        .tolist()\n",
    "    )\n",
    "    new_columns = numeric_features + ohe_feature_names\n",
    "\n",
    "    X_train_enc = pd.DataFrame(\n",
    "        preprocessor.transform(train_df), index=train_df.index, columns=new_columns\n",
    "    )\n",
    "    X_test_enc = pd.DataFrame(\n",
    "        preprocessor.transform(test_df), index=test_df.index, columns=new_columns\n",
    "    )\n",
    "\n",
    "    y_train = train_df[target]\n",
    "    y_test = test_df[target]\n",
    "\n",
    "    return X_train_enc, y_train, X_test_enc, y_test, preprocessor"
   ]
  },
  {
   "cell_type": "code",
   "execution_count": 60,
   "id": "e983e70d",
   "metadata": {},
   "outputs": [],
   "source": [
    "X_train_enc, y_train, X_test_enc, y_test, preprocessor = preprocess_features(\n",
    "    train_df,\n",
    "    test_df,\n",
    "    numeric_features,\n",
    "    categorical_features,\n",
    "    drop_features, target\n",
    ")"
   ]
  },
  {
   "cell_type": "code",
   "execution_count": 61,
   "id": "121ff228",
   "metadata": {},
   "outputs": [
    {
     "name": "stdout",
     "output_type": "stream",
     "text": [
      "(15441, 68)\n",
      "(15441, 14)\n",
      "(15441, 1)\n",
      "(2700, 68)\n",
      "(2700, 14)\n",
      "(2700, 1)\n"
     ]
    }
   ],
   "source": [
    "print(X_train_enc.shape)\n",
    "print(train_df.shape)\n",
    "print(y_train.shape)\n",
    "print(X_test_enc.shape)\n",
    "print(test_df.shape)\n",
    "print(y_test.shape)"
   ]
  },
  {
   "attachments": {},
   "cell_type": "markdown",
   "id": "d105f505",
   "metadata": {},
   "source": [
    "#### Train Ridge Model using given columns"
   ]
  },
  {
   "cell_type": "code",
   "execution_count": 62,
   "id": "e1449a04",
   "metadata": {},
   "outputs": [],
   "source": [
    "from sklearn.linear_model import Ridge"
   ]
  },
  {
   "cell_type": "code",
   "execution_count": 63,
   "id": "6c6d6247",
   "metadata": {},
   "outputs": [],
   "source": [
    "# Ridge model\n",
    "# train lr model on train set\n",
    "# report train + test score\n",
    "# return learned coefficient as df\n",
    "def score_lr_print_coeff(preprocessor, train_df, y_train, test_df, y_test, X_train_enc, results, model_name):\n",
    "    ridge_pipe = make_pipeline(preprocessor, Ridge(max_iter=1000))\n",
    "    ridge_pipe.fit(train_df, y_train)\n",
    "    print(\"Train score: {:.2f}\".format(ridge_pipe.score(train_df, y_train)))\n",
    "    print(\"Test score: {:.2f}\".format(ridge_pipe.score(test_df, y_test)))\n",
    "    results['model'].append(model_name)\n",
    "    results['train_score'].append(ridge_pipe.score(train_df, y_train))\n",
    "    results['test_score'].append(ridge_pipe.score(test_df, y_test))\n",
    "    ridge_coef = pd.DataFrame(\n",
    "        data=ridge_pipe.named_steps[\"ridge\"].coef_.flatten(),\n",
    "        index=X_train_enc.columns,\n",
    "        columns=[\"Coef\"],\n",
    "    )\n",
    "    return ridge_coef.sort_values(by=\"Coef\", ascending=False)"
   ]
  },
  {
   "cell_type": "code",
   "execution_count": 64,
   "id": "428c6a86",
   "metadata": {},
   "outputs": [
    {
     "name": "stdout",
     "output_type": "stream",
     "text": [
      "Train score: 0.85\n",
      "Test score: 0.80\n"
     ]
    },
    {
     "data": {
      "text/html": [
       "<div>\n",
       "<style scoped>\n",
       "    .dataframe tbody tr th:only-of-type {\n",
       "        vertical-align: middle;\n",
       "    }\n",
       "\n",
       "    .dataframe tbody tr th {\n",
       "        vertical-align: top;\n",
       "    }\n",
       "\n",
       "    .dataframe thead th {\n",
       "        text-align: right;\n",
       "    }\n",
       "</style>\n",
       "<table border=\"1\" class=\"dataframe\">\n",
       "  <thead>\n",
       "    <tr style=\"text-align: right;\">\n",
       "      <th></th>\n",
       "      <th>Coef</th>\n",
       "    </tr>\n",
       "  </thead>\n",
       "  <tbody>\n",
       "    <tr>\n",
       "      <th>AveragePrice</th>\n",
       "      <td>0.325180</td>\n",
       "    </tr>\n",
       "    <tr>\n",
       "      <th>region_SanFrancisco</th>\n",
       "      <td>0.091341</td>\n",
       "    </tr>\n",
       "    <tr>\n",
       "      <th>region_HartfordSpringfield</th>\n",
       "      <td>0.088819</td>\n",
       "    </tr>\n",
       "    <tr>\n",
       "      <th>region_NewYork</th>\n",
       "      <td>0.070054</td>\n",
       "    </tr>\n",
       "    <tr>\n",
       "      <th>type_organic</th>\n",
       "      <td>0.051681</td>\n",
       "    </tr>\n",
       "    <tr>\n",
       "      <th>...</th>\n",
       "      <td>...</td>\n",
       "    </tr>\n",
       "    <tr>\n",
       "      <th>region_Denver</th>\n",
       "      <td>-0.047878</td>\n",
       "    </tr>\n",
       "    <tr>\n",
       "      <th>type_conventional</th>\n",
       "      <td>-0.051681</td>\n",
       "    </tr>\n",
       "    <tr>\n",
       "      <th>region_SouthCentral</th>\n",
       "      <td>-0.067115</td>\n",
       "    </tr>\n",
       "    <tr>\n",
       "      <th>region_DallasFtWorth</th>\n",
       "      <td>-0.068354</td>\n",
       "    </tr>\n",
       "    <tr>\n",
       "      <th>region_Houston</th>\n",
       "      <td>-0.078587</td>\n",
       "    </tr>\n",
       "  </tbody>\n",
       "</table>\n",
       "<p>68 rows × 1 columns</p>\n",
       "</div>"
      ],
      "text/plain": [
       "                                Coef\n",
       "AveragePrice                0.325180\n",
       "region_SanFrancisco         0.091341\n",
       "region_HartfordSpringfield  0.088819\n",
       "region_NewYork              0.070054\n",
       "type_organic                0.051681\n",
       "...                              ...\n",
       "region_Denver              -0.047878\n",
       "type_conventional          -0.051681\n",
       "region_SouthCentral        -0.067115\n",
       "region_DallasFtWorth       -0.068354\n",
       "region_Houston             -0.078587\n",
       "\n",
       "[68 rows x 1 columns]"
      ]
     },
     "execution_count": 64,
     "metadata": {},
     "output_type": "execute_result"
    }
   ],
   "source": [
    "score_lr_print_coeff(preprocessor, train_df, y_train, test_df, y_test, X_train_enc, results, \"ridge default columns\")"
   ]
  },
  {
   "attachments": {},
   "cell_type": "markdown",
   "id": "8d055c2b",
   "metadata": {},
   "source": [
    "Ridge using just the given columns without any feature engineering has a slightly better score than the dummy model.\n",
    "\n",
    "Lets try cross-validation with `TimeSeriesSplit`"
   ]
  },
  {
   "attachments": {},
   "cell_type": "markdown",
   "id": "5927628f",
   "metadata": {},
   "source": [
    "#### Cross Validation with Time Series Split"
   ]
  },
  {
   "cell_type": "code",
   "execution_count": 65,
   "id": "50c89d8e",
   "metadata": {},
   "outputs": [],
   "source": [
    "from sklearn.model_selection import TimeSeriesSplit, cross_val_score"
   ]
  },
  {
   "cell_type": "code",
   "execution_count": 66,
   "id": "ba4f2b95",
   "metadata": {},
   "outputs": [
    {
     "data": {
      "text/plain": [
       "0.8034591020878104"
      ]
     },
     "execution_count": 66,
     "metadata": {},
     "output_type": "execute_result"
    }
   ],
   "source": [
    "train_df_ordered = train_df.sort_values(by=[\"Date\"])\n",
    "y_train_ordered = train_df_ordered[\"AveragePriceNextWeek\"]\n",
    "lr_pipe = make_pipeline(preprocessor, Ridge(max_iter=1000))\n",
    "cross_val_score(lr_pipe, train_df_ordered, y_train_ordered, cv=TimeSeriesSplit()).mean()"
   ]
  },
  {
   "attachments": {},
   "cell_type": "markdown",
   "id": "6000d85d",
   "metadata": {},
   "source": [
    "our validation score is worse than dummy"
   ]
  },
  {
   "attachments": {},
   "cell_type": "markdown",
   "id": "34441e3e",
   "metadata": {},
   "source": [
    "#### Feature Engineering"
   ]
  },
  {
   "attachments": {},
   "cell_type": "markdown",
   "id": "5d61f503",
   "metadata": {},
   "source": [
    "OHE Month as a feature -> basically no change in scores"
   ]
  },
  {
   "cell_type": "code",
   "execution_count": 67,
   "id": "c2b4cd1c",
   "metadata": {},
   "outputs": [
    {
     "data": {
      "text/html": [
       "<div>\n",
       "<style scoped>\n",
       "    .dataframe tbody tr th:only-of-type {\n",
       "        vertical-align: middle;\n",
       "    }\n",
       "\n",
       "    .dataframe tbody tr th {\n",
       "        vertical-align: top;\n",
       "    }\n",
       "\n",
       "    .dataframe thead th {\n",
       "        text-align: right;\n",
       "    }\n",
       "</style>\n",
       "<table border=\"1\" class=\"dataframe\">\n",
       "  <thead>\n",
       "    <tr style=\"text-align: right;\">\n",
       "      <th></th>\n",
       "      <th>Date</th>\n",
       "      <th>Month</th>\n",
       "    </tr>\n",
       "  </thead>\n",
       "  <tbody>\n",
       "    <tr>\n",
       "      <th>1304</th>\n",
       "      <td>2017-04-30</td>\n",
       "      <td>April</td>\n",
       "    </tr>\n",
       "    <tr>\n",
       "      <th>9869</th>\n",
       "      <td>2016-04-17</td>\n",
       "      <td>April</td>\n",
       "    </tr>\n",
       "    <tr>\n",
       "      <th>9025</th>\n",
       "      <td>2016-04-24</td>\n",
       "      <td>April</td>\n",
       "    </tr>\n",
       "    <tr>\n",
       "      <th>3332</th>\n",
       "      <td>2017-04-30</td>\n",
       "      <td>April</td>\n",
       "    </tr>\n",
       "    <tr>\n",
       "      <th>3331</th>\n",
       "      <td>2017-04-23</td>\n",
       "      <td>April</td>\n",
       "    </tr>\n",
       "    <tr>\n",
       "      <th>...</th>\n",
       "      <td>...</td>\n",
       "      <td>...</td>\n",
       "    </tr>\n",
       "    <tr>\n",
       "      <th>11241</th>\n",
       "      <td>2016-09-04</td>\n",
       "      <td>September</td>\n",
       "    </tr>\n",
       "    <tr>\n",
       "      <th>11242</th>\n",
       "      <td>2016-09-11</td>\n",
       "      <td>September</td>\n",
       "    </tr>\n",
       "    <tr>\n",
       "      <th>11243</th>\n",
       "      <td>2016-09-18</td>\n",
       "      <td>September</td>\n",
       "    </tr>\n",
       "    <tr>\n",
       "      <th>11293</th>\n",
       "      <td>2017-09-03</td>\n",
       "      <td>September</td>\n",
       "    </tr>\n",
       "    <tr>\n",
       "      <th>18222</th>\n",
       "      <td>2017-09-24</td>\n",
       "      <td>September</td>\n",
       "    </tr>\n",
       "  </tbody>\n",
       "</table>\n",
       "<p>15441 rows × 2 columns</p>\n",
       "</div>"
      ],
      "text/plain": [
       "            Date      Month\n",
       "1304  2017-04-30  April    \n",
       "9869  2016-04-17  April    \n",
       "9025  2016-04-24  April    \n",
       "3332  2017-04-30  April    \n",
       "3331  2017-04-23  April    \n",
       "...          ...    ...    \n",
       "11241 2016-09-04  September\n",
       "11242 2016-09-11  September\n",
       "11243 2016-09-18  September\n",
       "11293 2017-09-03  September\n",
       "18222 2017-09-24  September\n",
       "\n",
       "[15441 rows x 2 columns]"
      ]
     },
     "execution_count": 67,
     "metadata": {},
     "output_type": "execute_result"
    }
   ],
   "source": [
    "train_df = train_df.assign(\n",
    "    Month=train_df[\"Date\"].apply(lambda x: x.month_name())\n",
    ")  # x.month_name() to get the actual string\n",
    "test_df = test_df.assign(Month=test_df[\"Date\"].apply(lambda x: x.month_name()))\n",
    "train_df[[\"Date\", \"Month\"]].sort_values(by=\"Month\")"
   ]
  },
  {
   "cell_type": "code",
   "execution_count": 68,
   "id": "a0ac8365",
   "metadata": {},
   "outputs": [
    {
     "name": "stdout",
     "output_type": "stream",
     "text": [
      "Train score: 0.85\n",
      "Test score: 0.80\n"
     ]
    },
    {
     "data": {
      "text/html": [
       "<div>\n",
       "<style scoped>\n",
       "    .dataframe tbody tr th:only-of-type {\n",
       "        vertical-align: middle;\n",
       "    }\n",
       "\n",
       "    .dataframe tbody tr th {\n",
       "        vertical-align: top;\n",
       "    }\n",
       "\n",
       "    .dataframe thead th {\n",
       "        text-align: right;\n",
       "    }\n",
       "</style>\n",
       "<table border=\"1\" class=\"dataframe\">\n",
       "  <thead>\n",
       "    <tr style=\"text-align: right;\">\n",
       "      <th></th>\n",
       "      <th>Coef</th>\n",
       "    </tr>\n",
       "  </thead>\n",
       "  <tbody>\n",
       "    <tr>\n",
       "      <th>AveragePrice</th>\n",
       "      <td>0.311424</td>\n",
       "    </tr>\n",
       "    <tr>\n",
       "      <th>region_SanFrancisco</th>\n",
       "      <td>0.106214</td>\n",
       "    </tr>\n",
       "    <tr>\n",
       "      <th>region_HartfordSpringfield</th>\n",
       "      <td>0.103903</td>\n",
       "    </tr>\n",
       "    <tr>\n",
       "      <th>region_NewYork</th>\n",
       "      <td>0.081879</td>\n",
       "    </tr>\n",
       "    <tr>\n",
       "      <th>region_Philadelphia</th>\n",
       "      <td>0.060428</td>\n",
       "    </tr>\n",
       "    <tr>\n",
       "      <th>...</th>\n",
       "      <td>...</td>\n",
       "    </tr>\n",
       "    <tr>\n",
       "      <th>region_Denver</th>\n",
       "      <td>-0.055380</td>\n",
       "    </tr>\n",
       "    <tr>\n",
       "      <th>type_conventional</th>\n",
       "      <td>-0.060229</td>\n",
       "    </tr>\n",
       "    <tr>\n",
       "      <th>region_SouthCentral</th>\n",
       "      <td>-0.077472</td>\n",
       "    </tr>\n",
       "    <tr>\n",
       "      <th>region_DallasFtWorth</th>\n",
       "      <td>-0.079459</td>\n",
       "    </tr>\n",
       "    <tr>\n",
       "      <th>region_Houston</th>\n",
       "      <td>-0.091224</td>\n",
       "    </tr>\n",
       "  </tbody>\n",
       "</table>\n",
       "<p>80 rows × 1 columns</p>\n",
       "</div>"
      ],
      "text/plain": [
       "                                Coef\n",
       "AveragePrice                0.311424\n",
       "region_SanFrancisco         0.106214\n",
       "region_HartfordSpringfield  0.103903\n",
       "region_NewYork              0.081879\n",
       "region_Philadelphia         0.060428\n",
       "...                              ...\n",
       "region_Denver              -0.055380\n",
       "type_conventional          -0.060229\n",
       "region_SouthCentral        -0.077472\n",
       "region_DallasFtWorth       -0.079459\n",
       "region_Houston             -0.091224\n",
       "\n",
       "[80 rows x 1 columns]"
      ]
     },
     "execution_count": 68,
     "metadata": {},
     "output_type": "execute_result"
    }
   ],
   "source": [
    "X_train_enc, y_train, X_test_enc, y_test, preprocessor = preprocess_features(\n",
    "    train_df, test_df, \n",
    "    numeric_features, \n",
    "    categorical_features + [\"Month\"], \n",
    "    drop_features,\n",
    "    target\n",
    ")\n",
    "score_lr_print_coeff(preprocessor, train_df, y_train, test_df, y_test, X_train_enc, results, \"ridge with Months\")"
   ]
  },
  {
   "attachments": {},
   "cell_type": "markdown",
   "id": "a11a0249",
   "metadata": {},
   "source": [
    "OHE Season as a feature -> very little effect, in fact testing score decreases"
   ]
  },
  {
   "cell_type": "code",
   "execution_count": 69,
   "id": "621ae89f",
   "metadata": {},
   "outputs": [],
   "source": [
    "# FROM Time series lecture cpsc330\n",
    "def get_season(month):\n",
    "    # remember this is Australia\n",
    "    SUMMER_MONTHS = [\"June\", \"July\", \"August\"] \n",
    "    SPRING_MONTHS = [\"March\", \"April\", \"May\"]\n",
    "    WINTER_MONTHS = [\"December\", \"January\", \"February\"]\n",
    "    AUTUMN_MONTHS = [\"September\", \"October\", \"November\"]\n",
    "    if month in WINTER_MONTHS:\n",
    "        return \"Winter\"\n",
    "    elif month in AUTUMN_MONTHS:\n",
    "        return \"Autumn\"\n",
    "    elif month in SUMMER_MONTHS:\n",
    "        return \"Summer\"\n",
    "    else:\n",
    "        return \"Spring\""
   ]
  },
  {
   "cell_type": "code",
   "execution_count": 70,
   "id": "e5025f3f",
   "metadata": {},
   "outputs": [],
   "source": [
    "train_df = train_df.assign(Season=train_df[\"Month\"].apply(get_season))\n",
    "test_df = test_df.assign(Season=test_df[\"Month\"].apply(get_season))"
   ]
  },
  {
   "cell_type": "code",
   "execution_count": 71,
   "id": "95d1bef7",
   "metadata": {},
   "outputs": [
    {
     "name": "stdout",
     "output_type": "stream",
     "text": [
      "Train score: 0.85\n",
      "Test score: 0.79\n"
     ]
    },
    {
     "data": {
      "text/html": [
       "<div>\n",
       "<style scoped>\n",
       "    .dataframe tbody tr th:only-of-type {\n",
       "        vertical-align: middle;\n",
       "    }\n",
       "\n",
       "    .dataframe tbody tr th {\n",
       "        vertical-align: top;\n",
       "    }\n",
       "\n",
       "    .dataframe thead th {\n",
       "        text-align: right;\n",
       "    }\n",
       "</style>\n",
       "<table border=\"1\" class=\"dataframe\">\n",
       "  <thead>\n",
       "    <tr style=\"text-align: right;\">\n",
       "      <th></th>\n",
       "      <th>Coef</th>\n",
       "    </tr>\n",
       "  </thead>\n",
       "  <tbody>\n",
       "    <tr>\n",
       "      <th>Season_Spring</th>\n",
       "      <td>-0.009589</td>\n",
       "    </tr>\n",
       "    <tr>\n",
       "      <th>Season_Summer</th>\n",
       "      <td>0.019675</td>\n",
       "    </tr>\n",
       "    <tr>\n",
       "      <th>Season_Winter</th>\n",
       "      <td>-0.033566</td>\n",
       "    </tr>\n",
       "    <tr>\n",
       "      <th>Season_Autumn</th>\n",
       "      <td>0.023480</td>\n",
       "    </tr>\n",
       "  </tbody>\n",
       "</table>\n",
       "</div>"
      ],
      "text/plain": [
       "                   Coef\n",
       "Season_Spring -0.009589\n",
       "Season_Summer  0.019675\n",
       "Season_Winter -0.033566\n",
       "Season_Autumn  0.023480"
      ]
     },
     "execution_count": 71,
     "metadata": {},
     "output_type": "execute_result"
    }
   ],
   "source": [
    "X_train_enc, y_train, X_test_enc, y_test, preprocessor = preprocess_features(\n",
    "    train_df, test_df, \n",
    "    numeric_features, \n",
    "    categorical_features + [\"Season\"], \n",
    "    drop_features + [\"Month\"],\n",
    "    target\n",
    ")\n",
    "coeff_df = score_lr_print_coeff(preprocessor, train_df, y_train, test_df, y_test, X_train_enc, results, \"ridge with Season\")\n",
    "coeff_df.loc[[\"Season_Spring\", \"Season_Summer\", \"Season_Winter\", \"Season_Autumn\"]]"
   ]
  },
  {
   "attachments": {},
   "cell_type": "markdown",
   "id": "675a7b90",
   "metadata": {},
   "source": [
    "#### Feature Engineering Lag Features"
   ]
  },
  {
   "cell_type": "code",
   "execution_count": 72,
   "id": "b6703a60",
   "metadata": {},
   "outputs": [
    {
     "data": {
      "text/html": [
       "<div>\n",
       "<style scoped>\n",
       "    .dataframe tbody tr th:only-of-type {\n",
       "        vertical-align: middle;\n",
       "    }\n",
       "\n",
       "    .dataframe tbody tr th {\n",
       "        vertical-align: top;\n",
       "    }\n",
       "\n",
       "    .dataframe thead th {\n",
       "        text-align: right;\n",
       "    }\n",
       "</style>\n",
       "<table border=\"1\" class=\"dataframe\">\n",
       "  <thead>\n",
       "    <tr style=\"text-align: right;\">\n",
       "      <th></th>\n",
       "      <th>Date</th>\n",
       "      <th>AveragePrice</th>\n",
       "      <th>Total Volume</th>\n",
       "      <th>4046</th>\n",
       "      <th>4225</th>\n",
       "      <th>4770</th>\n",
       "      <th>Total Bags</th>\n",
       "      <th>Small Bags</th>\n",
       "      <th>Large Bags</th>\n",
       "      <th>XLarge Bags</th>\n",
       "      <th>type</th>\n",
       "      <th>year</th>\n",
       "      <th>region</th>\n",
       "      <th>AveragePriceNextWeek</th>\n",
       "      <th>AveragePriceLastWeek</th>\n",
       "    </tr>\n",
       "  </thead>\n",
       "  <tbody>\n",
       "    <tr>\n",
       "      <th>1</th>\n",
       "      <td>2015-01-11</td>\n",
       "      <td>1.24</td>\n",
       "      <td>41195.08</td>\n",
       "      <td>1002.85</td>\n",
       "      <td>31640.34</td>\n",
       "      <td>127.12</td>\n",
       "      <td>8424.77</td>\n",
       "      <td>8036.04</td>\n",
       "      <td>388.73</td>\n",
       "      <td>0.0</td>\n",
       "      <td>conventional</td>\n",
       "      <td>2015</td>\n",
       "      <td>Albany</td>\n",
       "      <td>1.17</td>\n",
       "      <td>1.22</td>\n",
       "    </tr>\n",
       "    <tr>\n",
       "      <th>2</th>\n",
       "      <td>2015-01-18</td>\n",
       "      <td>1.17</td>\n",
       "      <td>44511.28</td>\n",
       "      <td>914.14</td>\n",
       "      <td>31540.32</td>\n",
       "      <td>135.77</td>\n",
       "      <td>11921.05</td>\n",
       "      <td>11651.09</td>\n",
       "      <td>269.96</td>\n",
       "      <td>0.0</td>\n",
       "      <td>conventional</td>\n",
       "      <td>2015</td>\n",
       "      <td>Albany</td>\n",
       "      <td>1.06</td>\n",
       "      <td>1.24</td>\n",
       "    </tr>\n",
       "    <tr>\n",
       "      <th>3</th>\n",
       "      <td>2015-01-25</td>\n",
       "      <td>1.06</td>\n",
       "      <td>45147.50</td>\n",
       "      <td>941.38</td>\n",
       "      <td>33196.16</td>\n",
       "      <td>164.14</td>\n",
       "      <td>10845.82</td>\n",
       "      <td>10103.35</td>\n",
       "      <td>742.47</td>\n",
       "      <td>0.0</td>\n",
       "      <td>conventional</td>\n",
       "      <td>2015</td>\n",
       "      <td>Albany</td>\n",
       "      <td>0.99</td>\n",
       "      <td>1.17</td>\n",
       "    </tr>\n",
       "    <tr>\n",
       "      <th>4</th>\n",
       "      <td>2015-02-01</td>\n",
       "      <td>0.99</td>\n",
       "      <td>70873.60</td>\n",
       "      <td>1353.90</td>\n",
       "      <td>60017.20</td>\n",
       "      <td>179.32</td>\n",
       "      <td>9323.18</td>\n",
       "      <td>9170.82</td>\n",
       "      <td>152.36</td>\n",
       "      <td>0.0</td>\n",
       "      <td>conventional</td>\n",
       "      <td>2015</td>\n",
       "      <td>Albany</td>\n",
       "      <td>0.99</td>\n",
       "      <td>1.06</td>\n",
       "    </tr>\n",
       "    <tr>\n",
       "      <th>5</th>\n",
       "      <td>2015-02-08</td>\n",
       "      <td>0.99</td>\n",
       "      <td>51253.97</td>\n",
       "      <td>1357.37</td>\n",
       "      <td>39111.81</td>\n",
       "      <td>163.25</td>\n",
       "      <td>10621.54</td>\n",
       "      <td>10113.10</td>\n",
       "      <td>508.44</td>\n",
       "      <td>0.0</td>\n",
       "      <td>conventional</td>\n",
       "      <td>2015</td>\n",
       "      <td>Albany</td>\n",
       "      <td>1.06</td>\n",
       "      <td>0.99</td>\n",
       "    </tr>\n",
       "  </tbody>\n",
       "</table>\n",
       "</div>"
      ],
      "text/plain": [
       "        Date  AveragePrice  Total Volume     4046      4225    4770  \\\n",
       "1 2015-01-11  1.24          41195.08      1002.85  31640.34  127.12   \n",
       "2 2015-01-18  1.17          44511.28      914.14   31540.32  135.77   \n",
       "3 2015-01-25  1.06          45147.50      941.38   33196.16  164.14   \n",
       "4 2015-02-01  0.99          70873.60      1353.90  60017.20  179.32   \n",
       "5 2015-02-08  0.99          51253.97      1357.37  39111.81  163.25   \n",
       "\n",
       "   Total Bags  Small Bags  Large Bags  XLarge Bags          type  year  \\\n",
       "1  8424.77     8036.04     388.73      0.0          conventional  2015   \n",
       "2  11921.05    11651.09    269.96      0.0          conventional  2015   \n",
       "3  10845.82    10103.35    742.47      0.0          conventional  2015   \n",
       "4  9323.18     9170.82     152.36      0.0          conventional  2015   \n",
       "5  10621.54    10113.10    508.44      0.0          conventional  2015   \n",
       "\n",
       "   region  AveragePriceNextWeek  AveragePriceLastWeek  \n",
       "1  Albany  1.17                  1.22                  \n",
       "2  Albany  1.06                  1.24                  \n",
       "3  Albany  0.99                  1.17                  \n",
       "4  Albany  0.99                  1.06                  \n",
       "5  Albany  1.06                  0.99                  "
      ]
     },
     "execution_count": 72,
     "metadata": {},
     "output_type": "execute_result"
    }
   ],
   "source": [
    "df_hastarget_modified = create_lag_feature(\n",
    "    df_hastarget, \"AveragePrice\", -1, [\"region\", \"type\"], \"AveragePriceLastWeek\", clip=True\n",
    ")\n",
    "train_df = df_hastarget_modified[df_hastarget_modified[\"Date\"] <= split_date]\n",
    "test_df = df_hastarget_modified[df_hastarget_modified[\"Date\"] > split_date]\n",
    "train_df.head()"
   ]
  },
  {
   "cell_type": "code",
   "execution_count": 73,
   "id": "df59a47c",
   "metadata": {},
   "outputs": [
    {
     "name": "stdout",
     "output_type": "stream",
     "text": [
      "Train score: 0.85\n",
      "Test score: 0.80\n"
     ]
    }
   ],
   "source": [
    "X_train_enc, y_train, X_test_enc, y_test, preprocessor = preprocess_features(\n",
    "    train_df, test_df, \n",
    "    numeric_features + [\"AveragePriceLastWeek\"], \n",
    "    categorical_features, \n",
    "    drop_features,\n",
    "    target\n",
    ")\n",
    "coeff_df = score_lr_print_coeff(preprocessor, train_df, y_train, test_df, y_test, X_train_enc, results, \"ridge with lag\")\n"
   ]
  },
  {
   "attachments": {},
   "cell_type": "markdown",
   "id": "4b568cf1",
   "metadata": {},
   "source": [
    "No change in scores, lets try adding in all the features we engineered (Month, Season, AveragePriceLastWeek)"
   ]
  },
  {
   "cell_type": "code",
   "execution_count": 74,
   "id": "02feb13f",
   "metadata": {},
   "outputs": [
    {
     "name": "stdout",
     "output_type": "stream",
     "text": [
      "Train score: 0.86\n",
      "Test score: 0.81\n"
     ]
    }
   ],
   "source": [
    "train_df = train_df.assign(\n",
    "    Month=train_df[\"Date\"].apply(lambda x: x.month_name())\n",
    ")  # x.month_name() to get the actual string\n",
    "test_df = test_df.assign(Month=test_df[\"Date\"].apply(lambda x: x.month_name()))\n",
    "\n",
    "train_df = train_df.assign(Season=train_df[\"Month\"].apply(get_season))\n",
    "test_df = test_df.assign(Season=test_df[\"Month\"].apply(get_season))\n",
    "\n",
    "X_train_enc, y_train, X_test_enc, y_test, preprocessor = preprocess_features(\n",
    "    train_df, test_df, \n",
    "    numeric_features + [\"AveragePriceLastWeek\"], \n",
    "    categorical_features+ [\"Season\", \"Month\"], \n",
    "    drop_features,\n",
    "    target\n",
    ")\n",
    "coeff_df = score_lr_print_coeff(preprocessor, train_df, y_train, test_df, y_test, X_train_enc, results, \"ridge with lag, Month, Season\")\n"
   ]
  },
  {
   "attachments": {},
   "cell_type": "markdown",
   "id": "cacba3cd",
   "metadata": {},
   "source": [
    "Only a slight increase in both training and testing scores"
   ]
  },
  {
   "attachments": {},
   "cell_type": "markdown",
   "id": "4721a3e7",
   "metadata": {},
   "source": [
    "#### Try some other models"
   ]
  },
  {
   "cell_type": "code",
   "execution_count": 75,
   "id": "589e0dd9",
   "metadata": {},
   "outputs": [],
   "source": [
    "from sklearn import svm\n",
    "from sklearn.tree import DecisionTreeRegressor\n",
    "from sklearn.ensemble import RandomForestRegressor"
   ]
  },
  {
   "cell_type": "code",
   "execution_count": 76,
   "id": "bac551b6",
   "metadata": {},
   "outputs": [],
   "source": [
    "def score_model(preprocessor, train_df, y_train, test_df, y_test, model, results, model_name):\n",
    "    ridge_pipe = make_pipeline(preprocessor, model)\n",
    "    ridge_pipe.fit(train_df, y_train)\n",
    "    print(\"Train score: {:.2f}\".format(ridge_pipe.score(train_df, y_train)))\n",
    "    print(\"Test score: {:.2f}\".format(ridge_pipe.score(test_df, y_test)))\n",
    "    results['model'].append(model_name)\n",
    "    results['train_score'].append(ridge_pipe.score(train_df, y_train))\n",
    "    results['test_score'].append(ridge_pipe.score(test_df, y_test))"
   ]
  },
  {
   "cell_type": "code",
   "execution_count": 77,
   "id": "450ec428",
   "metadata": {},
   "outputs": [],
   "source": [
    "svr = svm.SVR(kernel='rbf')\n",
    "dt = DecisionTreeRegressor()\n",
    "rf = RandomForestRegressor()"
   ]
  },
  {
   "cell_type": "code",
   "execution_count": 78,
   "id": "3b90667c",
   "metadata": {},
   "outputs": [
    {
     "name": "stderr",
     "output_type": "stream",
     "text": [
      "/Users/kennyjhcheng/miniconda3/envs/cpsc330/lib/python3.10/site-packages/sklearn/utils/validation.py:1111: DataConversionWarning: A column-vector y was passed when a 1d array was expected. Please change the shape of y to (n_samples, ), for example using ravel().\n",
      "  y = column_or_1d(y, warn=True)\n"
     ]
    },
    {
     "name": "stdout",
     "output_type": "stream",
     "text": [
      "Train score: 0.89\n",
      "Test score: 0.80\n"
     ]
    }
   ],
   "source": [
    "score_model(preprocessor, train_df, y_train, test_df, y_test, svr, results, \"svr\")"
   ]
  },
  {
   "cell_type": "code",
   "execution_count": 79,
   "id": "ae47651d",
   "metadata": {},
   "outputs": [
    {
     "name": "stdout",
     "output_type": "stream",
     "text": [
      "Train score: 1.00\n",
      "Test score: 0.55\n"
     ]
    }
   ],
   "source": [
    "score_model(preprocessor, train_df, y_train, test_df, y_test, dt, results, \"DecisionTreeRegressor\")"
   ]
  },
  {
   "cell_type": "code",
   "execution_count": 80,
   "id": "848030f2",
   "metadata": {},
   "outputs": [
    {
     "name": "stderr",
     "output_type": "stream",
     "text": [
      "/Users/kennyjhcheng/miniconda3/envs/cpsc330/lib/python3.10/site-packages/sklearn/pipeline.py:382: DataConversionWarning: A column-vector y was passed when a 1d array was expected. Please change the shape of y to (n_samples,), for example using ravel().\n",
      "  self._final_estimator.fit(Xt, y, **fit_params_last_step)\n"
     ]
    },
    {
     "name": "stdout",
     "output_type": "stream",
     "text": [
      "Train score: 0.98\n",
      "Test score: 0.78\n"
     ]
    }
   ],
   "source": [
    "score_model(preprocessor, train_df, y_train, test_df, y_test, rf, results, \"RandomForestRegressor\")"
   ]
  },
  {
   "attachments": {},
   "cell_type": "markdown",
   "id": "da95c800",
   "metadata": {},
   "source": [
    "#### Hyperparameter Optimization for Ridge"
   ]
  },
  {
   "cell_type": "code",
   "execution_count": 81,
   "id": "787d4c44",
   "metadata": {},
   "outputs": [],
   "source": [
    "from sklearn.model_selection import GridSearchCV"
   ]
  },
  {
   "cell_type": "code",
   "execution_count": 82,
   "id": "4879679f",
   "metadata": {},
   "outputs": [
    {
     "data": {
      "text/html": [
       "<div>\n",
       "<style scoped>\n",
       "    .dataframe tbody tr th:only-of-type {\n",
       "        vertical-align: middle;\n",
       "    }\n",
       "\n",
       "    .dataframe tbody tr th {\n",
       "        vertical-align: top;\n",
       "    }\n",
       "\n",
       "    .dataframe thead th {\n",
       "        text-align: right;\n",
       "    }\n",
       "</style>\n",
       "<table border=\"1\" class=\"dataframe\">\n",
       "  <thead>\n",
       "    <tr style=\"text-align: right;\">\n",
       "      <th></th>\n",
       "      <th>rank_test_score</th>\n",
       "      <th>param_ridge__alpha</th>\n",
       "      <th>mean_test_score</th>\n",
       "      <th>std_test_score</th>\n",
       "    </tr>\n",
       "  </thead>\n",
       "  <tbody>\n",
       "    <tr>\n",
       "      <th>5</th>\n",
       "      <td>1</td>\n",
       "      <td>100</td>\n",
       "      <td>0.847713</td>\n",
       "      <td>0.016645</td>\n",
       "    </tr>\n",
       "    <tr>\n",
       "      <th>4</th>\n",
       "      <td>2</td>\n",
       "      <td>10</td>\n",
       "      <td>0.844843</td>\n",
       "      <td>0.017274</td>\n",
       "    </tr>\n",
       "    <tr>\n",
       "      <th>3</th>\n",
       "      <td>3</td>\n",
       "      <td>1.0</td>\n",
       "      <td>0.844026</td>\n",
       "      <td>0.017596</td>\n",
       "    </tr>\n",
       "    <tr>\n",
       "      <th>2</th>\n",
       "      <td>4</td>\n",
       "      <td>0.1</td>\n",
       "      <td>0.843931</td>\n",
       "      <td>0.017636</td>\n",
       "    </tr>\n",
       "    <tr>\n",
       "      <th>1</th>\n",
       "      <td>5</td>\n",
       "      <td>0.01</td>\n",
       "      <td>0.843922</td>\n",
       "      <td>0.017640</td>\n",
       "    </tr>\n",
       "    <tr>\n",
       "      <th>0</th>\n",
       "      <td>6</td>\n",
       "      <td>0.001</td>\n",
       "      <td>0.843921</td>\n",
       "      <td>0.017641</td>\n",
       "    </tr>\n",
       "    <tr>\n",
       "      <th>6</th>\n",
       "      <td>7</td>\n",
       "      <td>1000</td>\n",
       "      <td>0.840003</td>\n",
       "      <td>0.021125</td>\n",
       "    </tr>\n",
       "  </tbody>\n",
       "</table>\n",
       "</div>"
      ],
      "text/plain": [
       "   rank_test_score param_ridge__alpha  mean_test_score  std_test_score\n",
       "5  1                100                0.847713         0.016645      \n",
       "4  2                10                 0.844843         0.017274      \n",
       "3  3                1.0                0.844026         0.017596      \n",
       "2  4                0.1                0.843931         0.017636      \n",
       "1  5                0.01               0.843922         0.017640      \n",
       "0  6                0.001              0.843921         0.017641      \n",
       "6  7                1000               0.840003         0.021125      "
      ]
     },
     "execution_count": 82,
     "metadata": {},
     "output_type": "execute_result"
    }
   ],
   "source": [
    "param_grid = {\n",
    "    \"ridge__alpha\": [0.001, 0.01, 0.1, 1.0, 10, 100, 1000],\n",
    "}\n",
    "ridge_pipe = make_pipeline(preprocessor, Ridge(max_iter=1000))\n",
    "grid_search = GridSearchCV(ridge_pipe, param_grid, cv=5)\n",
    "grid_search.fit(train_df, y_train)\n",
    "grid_search_results = pd.DataFrame(grid_search.cv_results_)\n",
    "grid_search_results[['rank_test_score', 'param_ridge__alpha', 'mean_test_score', 'std_test_score']].sort_values(by=\"rank_test_score\")"
   ]
  },
  {
   "cell_type": "code",
   "execution_count": 83,
   "id": "f0130266",
   "metadata": {},
   "outputs": [
    {
     "name": "stdout",
     "output_type": "stream",
     "text": [
      "Train score: 0.86\n",
      "Test score: 0.81\n"
     ]
    }
   ],
   "source": [
    "print(\"Train score: {:.2f}\".format(grid_search.score(train_df, y_train)))\n",
    "print(\"Test score: {:.2f}\".format(grid_search.score(test_df, y_test)))\n",
    "results['model'].append(\"ridge with alpha=100, lag + feature engineering\")\n",
    "results['train_score'].append(grid_search.score(train_df, y_train))\n",
    "results['test_score'].append(grid_search.score(test_df, y_test))"
   ]
  },
  {
   "attachments": {},
   "cell_type": "markdown",
   "id": "88aa3bd4",
   "metadata": {},
   "source": [
    "#### Conclusion\n",
    "\n",
    "After experimenting with\n",
    "\n",
    "1. Ridge model with default columns\n",
    "2. Ridge model feature engineered `Month` columns\n",
    "3. Ridge model feature engineered `Season` columns\n",
    "4. Ridge model with lag features for `AveragePriceLastWeek`\n",
    "5. Ridge model with lag features and feature engineered features\n",
    "6. Other models such as `SVR`, `DecisionTreeRegressor`, and `RandomForestRegressor`\n",
    "7. Ridge model with lag + feature engineered features + hyperparameter optimization\n",
    "\n",
    "The best model out of the ones trained are the ridge models that used all of feature engineered and lag features, and additionally the one with feature engineering.\n",
    "\n",
    "However, they were only better by a small margin of ~0.01 compared to the other models which may not be significant to generalize them as \"better\"."
   ]
  },
  {
   "cell_type": "code",
   "execution_count": 84,
   "id": "70b16888",
   "metadata": {},
   "outputs": [
    {
     "data": {
      "text/html": [
       "<div>\n",
       "<style scoped>\n",
       "    .dataframe tbody tr th:only-of-type {\n",
       "        vertical-align: middle;\n",
       "    }\n",
       "\n",
       "    .dataframe tbody tr th {\n",
       "        vertical-align: top;\n",
       "    }\n",
       "\n",
       "    .dataframe thead th {\n",
       "        text-align: right;\n",
       "    }\n",
       "</style>\n",
       "<table border=\"1\" class=\"dataframe\">\n",
       "  <thead>\n",
       "    <tr style=\"text-align: right;\">\n",
       "      <th></th>\n",
       "      <th>model</th>\n",
       "      <th>test_score</th>\n",
       "      <th>train_score</th>\n",
       "    </tr>\n",
       "  </thead>\n",
       "  <tbody>\n",
       "    <tr>\n",
       "      <th>7</th>\n",
       "      <td>DecisionTreeRegressor</td>\n",
       "      <td>0.550175</td>\n",
       "      <td>1.000000</td>\n",
       "    </tr>\n",
       "    <tr>\n",
       "      <th>0</th>\n",
       "      <td>dummy</td>\n",
       "      <td>0.763178</td>\n",
       "      <td>0.828580</td>\n",
       "    </tr>\n",
       "    <tr>\n",
       "      <th>8</th>\n",
       "      <td>RandomForestRegressor</td>\n",
       "      <td>0.784717</td>\n",
       "      <td>0.979779</td>\n",
       "    </tr>\n",
       "    <tr>\n",
       "      <th>3</th>\n",
       "      <td>ridge with Season</td>\n",
       "      <td>0.793717</td>\n",
       "      <td>0.848674</td>\n",
       "    </tr>\n",
       "    <tr>\n",
       "      <th>6</th>\n",
       "      <td>svr</td>\n",
       "      <td>0.795096</td>\n",
       "      <td>0.888726</td>\n",
       "    </tr>\n",
       "    <tr>\n",
       "      <th>1</th>\n",
       "      <td>ridge default columns</td>\n",
       "      <td>0.795302</td>\n",
       "      <td>0.845982</td>\n",
       "    </tr>\n",
       "    <tr>\n",
       "      <th>4</th>\n",
       "      <td>ridge with lag</td>\n",
       "      <td>0.801458</td>\n",
       "      <td>0.853079</td>\n",
       "    </tr>\n",
       "    <tr>\n",
       "      <th>2</th>\n",
       "      <td>ridge with Months</td>\n",
       "      <td>0.801826</td>\n",
       "      <td>0.850409</td>\n",
       "    </tr>\n",
       "    <tr>\n",
       "      <th>9</th>\n",
       "      <td>ridge with alpha=100, lag + feature engineering</td>\n",
       "      <td>0.809163</td>\n",
       "      <td>0.856684</td>\n",
       "    </tr>\n",
       "    <tr>\n",
       "      <th>5</th>\n",
       "      <td>ridge with lag, Month, Season</td>\n",
       "      <td>0.809198</td>\n",
       "      <td>0.857239</td>\n",
       "    </tr>\n",
       "  </tbody>\n",
       "</table>\n",
       "</div>"
      ],
      "text/plain": [
       "                                             model  test_score  train_score\n",
       "7  DecisionTreeRegressor                            0.550175    1.000000   \n",
       "0  dummy                                            0.763178    0.828580   \n",
       "8  RandomForestRegressor                            0.784717    0.979779   \n",
       "3  ridge with Season                                0.793717    0.848674   \n",
       "6  svr                                              0.795096    0.888726   \n",
       "1  ridge default columns                            0.795302    0.845982   \n",
       "4  ridge with lag                                   0.801458    0.853079   \n",
       "2  ridge with Months                                0.801826    0.850409   \n",
       "9  ridge with alpha=100, lag + feature engineering  0.809163    0.856684   \n",
       "5  ridge with lag, Month, Season                    0.809198    0.857239   "
      ]
     },
     "execution_count": 84,
     "metadata": {},
     "output_type": "execute_result"
    }
   ],
   "source": [
    "pd.DataFrame(results).sort_values(by=\"test_score\")"
   ]
  },
  {
   "cell_type": "markdown",
   "id": "51fe2285-38d1-409a-9f4c-3f5dfd50622a",
   "metadata": {},
   "source": [
    "<br><br><br><br>"
   ]
  },
  {
   "cell_type": "markdown",
   "id": "15ad9e61-e5f6-4025-8356-f48f651a8e1e",
   "metadata": {},
   "source": [
    "## Exercise 3: Short answer questions <a name=\"3\"></a>\n",
    "\n",
    "Each question is worth 2 points."
   ]
  },
  {
   "cell_type": "markdown",
   "id": "972060d9-742d-47ae-82c5-74b258de16e7",
   "metadata": {},
   "source": [
    "### 3.1\n",
    "rubric={points:4}\n",
    "\n",
    "The following questions pertain to Lecture 18 on time series data:\n",
    "\n",
    "1. Sometimes a time series has missing time points or, worse, time points that are unequally spaced in general. Give an example of a real world situation where the time series data would have unequally spaced time points.\n",
    "2. In class we discussed two approaches to using temporal information: encoding the date as one or more features, and creating lagged versions of features. Which of these (one/other/both/neither) two approaches would struggle with unequally spaced time points? Briefly justify your answer."
   ]
  },
  {
   "attachments": {},
   "cell_type": "markdown",
   "id": "dbdd8f65",
   "metadata": {},
   "source": [
    "**ANSWER:**\n",
    "\n",
    "1. One example of time series data that likely has unequally spaced time points is `medical records`. Time stamped data such as appointments, medical tests, prescriptions, etc. do not necessarily occur at a fixed interval. It could be useful to analyze this data to predict treatment progression.\n",
    "2. Creating lagged versions of features would struggle with unequally spaced time points because the shift between each record/example would be uneven. It would be difficult to, for example, \"Forecast the next week\", if we simply create lag features based on the previous row, since unequally spaced data could be spaced any interval apart. The lag feature would then no longer represent what happens in a consistent forecasted interval.\n",
    "\n",
    "    Feature engineering to encode the date as more features would not suffer as much from unequally spaced times especially if you split the date into features such as seasons, months, days of the week that would not rely on the spacing between examples"
   ]
  },
  {
   "cell_type": "markdown",
   "id": "ef053d93-f20e-417f-81ae-35edb701020c",
   "metadata": {},
   "source": [
    "<br><br>"
   ]
  },
  {
   "attachments": {},
   "cell_type": "markdown",
   "id": "bc3703ae-7d56-4987-b70b-4e222f1d8b15",
   "metadata": {},
   "source": [
    "### 3.2\n",
    "rubric={points:6}\n",
    "\n",
    "The following questions pertain to Lecture 19 on survival analysis. We'll consider the use case of customer churn analysis.\n",
    "\n",
    "1. What is the problem with simply labeling customers are \"churned\" or \"not churned\" and using standard supervised learning techniques, as we did in hw4?\n",
    "2. Consider customer A who just joined last week vs. customer B who has been with the service for a year. Who do you expect will leave the service first: probably customer A, probably customer B, or we don't have enough information to answer?\n",
    "3. If a customer's survival function is almost flat during a certain period, how do we interpret that?"
   ]
  },
  {
   "attachments": {},
   "cell_type": "markdown",
   "id": "87d35a8f",
   "metadata": {},
   "source": [
    "**ANSWER:**\n",
    "\n",
    "1. This method suffers from *right-censoring* in which the method is biased towards the window of data collection. Treating customer churn as a binary classification of whether they \"churned\" does not account for customers who have not yet churned and are/will still be subscribed for some time. \n",
    "\n",
    "    Additionally, this prediction is not very useful because it only predict whether customers will churn in the time window of data collection, it would be more useful to predict the time till customers churn to understand how to retain customers.\n",
    "\n",
    "2. As we don't know what the survival function looks like, we don't have enough information to answer. However, if we assume that the survival function is likely a decreasing function, then customer B who has been with the service for a year is probabilistically more likely to leave the service first. Since customer A just joined, the probability the customer will survive is greater than customer B.\n",
    "\n",
    "3. If a customer's survival function is flat during a certain period, it indicates that the probability the customer survives during that period is unchanging and the risks associated with the customer not surviving are independent of time.\n",
    "\n",
    "    However, this does not mean that the customer will survive definitely, only the probabilbity that they will survive is constant during the period."
   ]
  },
  {
   "cell_type": "markdown",
   "id": "9d8ffdd0-8c1e-4042-8414-ac8e57caf980",
   "metadata": {},
   "source": [
    "<br><br><br><br>"
   ]
  },
  {
   "cell_type": "markdown",
   "id": "ed594c68-91c3-45d9-baec-6ac38a02c971",
   "metadata": {},
   "source": [
    "## Exercise 4: Communication <a name=\"4\"></a>\n",
    "<hr>"
   ]
  },
  {
   "cell_type": "markdown",
   "id": "5767926d-c17d-4a93-b59a-7242a4c76ff0",
   "metadata": {},
   "source": [
    "### Exercise 4.1 Blog post \n",
    "rubric={points:40}\n",
    "\n",
    "Write up your analysis from hw6 or any other assignment or your side machine learning related project in a \"blog post\" or report format. **You can write the post in Markdown in the notebook**, no need to write a real blog post (though you can if you want too!).\n",
    "\n",
    "The target audience for your blog post is someone like yourself right before you took this course. They don't necessarily have ML knowledge, but they have a solid foundation in technical matters. The post should focus on explaining **your results and what you did** in a way that's understandable to such a person, **not** a lesson trying to teach someone about machine learning. Again: focus on the results and why they are interesting; avoid pedagogical content.\n",
    "\n",
    "Your post must include the following elements (not necessarily in this order):\n",
    "\n",
    "- Description of the problem/decision.\n",
    "- Description of the dataset (the raw data and/or some EDA).\n",
    "- Description of the model.\n",
    "- Description your results, both quantitatively and qualitatively. Make sure to refer to the original problem/decision.\n",
    "- A section on caveats, describing at least 3 reasons why your results might be incorrect, misleading, overconfident, or otherwise problematic. Make reference to your specific dataset, model, approach, etc. To check that your reasons are specific enough, make sure they would not make sense, if left unchanged, to most students' submissions; for example, do not just say \"overfitting\" without explaining why you might be worried about overfitting in your specific case.\n",
    "- At least 3 visualizations. These visualizations must be embedded/interwoven into the text, not pasted at the end. The text must refer directly to each visualization. For example \"as shown below\" or \"the figure demonstrates\" or \"take a look at Figure 1\", etc. It is **not** sufficient to put a visualization in without referring to it directly.\n",
    "\n",
    "A reasonable length for your entire post would be **800 words**. The maximum allowed is **1000 words**."
   ]
  },
  {
   "cell_type": "markdown",
   "id": "6169eefb-18a8-4e13-b7ca-1b3539a79215",
   "metadata": {},
   "source": [
    "#### Example blog posts\n",
    "\n",
    "Here are some examples of applied ML blog posts that you may find useful as inspiration. The target audiences of these posts aren't necessarily the same as yours, and these posts are longer than yours, but they are well-structured and engaging. You are **not required to read these** posts as part of this assignment - they are here only as examples if you'd find that useful.\n",
    "\n",
    "From the UBC Master of Data Science blog, written by a past student:\n",
    "\n",
    "- https://ubc-mds.github.io/2019-07-26-predicting-customer-probabilities/\n",
    "\n",
    "This next one uses R instead of Python, but that might be good in a way, as you can see what it's like for a reader that doesn't understand the code itself (the target audience for your post here):\n",
    "\n",
    "- https://rpubs.com/RosieB/taylorswiftlyricanalysis\n",
    "\n",
    "Finally, here are a couple interviews with winners from Kaggle competitions. The format isn't quite the same as a blog post, but you might find them interesting/relevant:\n",
    "\n",
    "- https://medium.com/kaggle-blog/instacart-market-basket-analysis-feda2700cded\n",
    "- https://medium.com/kaggle-blog/winner-interview-with-shivam-bansal-data-science-for-good-challenge-city-of-los-angeles-3294c0ed1fb2\n"
   ]
  },
  {
   "cell_type": "markdown",
   "id": "8bfdd094-eeb6-4f00-a3bc-5a6105eedb12",
   "metadata": {},
   "source": [
    "#### A note on plagiarism\n",
    "\n",
    "You may **NOT** include text or visualizations that were not written/created by you. If you are in any doubt as to what constitutes plagiarism, please just ask. For more information see the [UBC Academic Misconduct policies](http://www.calendar.ubc.ca/vancouver/index.cfm?tree=3,54,111,959). Please don't copy this from somewhere 🙏. If you can't do it."
   ]
  },
  {
   "attachments": {},
   "cell_type": "markdown",
   "id": "68fdaeb4",
   "metadata": {},
   "source": [
    "# Avocadabra! What's the price of Avocados next week\n",
    "\n",
    "I remember my dad telling me when he first immigrated to Canada, avocados were quite a cheap fruit that he didn't find taste very good. These days, avocados can be quite expensive selling for $2-3 CAD each at the grocery store when not on sale. It has started trending as a healthy fruit with many benefits such as the abundance of healthy fats.\n",
    "\n",
    "### Problem\n",
    "\n",
    "The biggest problem in my personal life is how expensive the avocados are. Coincidentally, in my applied machine learning course, I had the opportunity to explore and build a model to **forecast the price of avocados**.\n",
    "\n",
    "### Components of the Project\n",
    "\n",
    "My work was divided into \n",
    "\n",
    "1. Exploratory Data Analysis (EDA)\n",
    "2. Feature engineering\n",
    "3. Preprocessing\n",
    "4. Testing models\n",
    "5. Results\n",
    "6. Limitations\n",
    "\n",
    "#### EDA\n",
    "\n",
    "The dataset I will be using to train and test my model is the [Avocado Prices Dataset](https://www.kaggle.com/datasets/neuromusic/avocado-prices) from Kaggle.\n",
    "\n",
    "This dataset organizes avocado prices by the `region`, which can be a city or a region, and `type`, either `organic` or `conventional`. Every combination of `region` and `price` has an equal set of measurements for each of the weeks measured, seen in the visualization below.\n",
    "\n",
    "Additionaly, the regions are overlapping, including smaller areas such as cities like `Atlanta` and larger regions like `TotalUS`.\n"
   ]
  },
  {
   "cell_type": "code",
   "execution_count": 85,
   "id": "044a0696",
   "metadata": {},
   "outputs": [
    {
     "data": {
      "image/png": "[encoded data removed]",
      "text/plain": [
       "<Figure size 640x480 with 1 Axes>"
      ]
     },
     "metadata": {},
     "output_type": "display_data"
    }
   ],
   "source": [
    "counts = df.groupby(['region', 'type']).size().unstack()\n",
    "\n",
    "# Plot the counts as a bar chart with colored bars\n",
    "counts.plot(kind='bar', color=['red', 'green'])\n",
    "\n",
    "# Set the x-axis label and title\n",
    "plt.xlabel('Region')\n",
    "plt.ylabel('Count')\n",
    "plt.title('Count of Data Grouped by region and type')\n",
    "plt.xticks(rotation=90);"
   ]
  },
  {
   "attachments": {},
   "cell_type": "markdown",
   "id": "31fb9578",
   "metadata": {},
   "source": [
    "This dataset has measurements from `2015-01-04` to `2018-03-25`, approximately 3.25 years of data. With each measurement spaced exactly 1 year apart. The consistent interval of measurements will make forecasting easier which I'll go more into in feature engineering.\n",
    "\n",
    "Because the data is a time series, I will split it so that there's around 6 months of testing data to evaluate models and 2.75 years of training data to train our models as seen below visualizing the split for one region-type combination."
   ]
  },
  {
   "cell_type": "code",
   "execution_count": 86,
   "id": "55d7b906",
   "metadata": {},
   "outputs": [
    {
     "data": {
      "image/png": "[encoded data removed]",
      "text/plain": [
       "<Figure size 1000x300 with 1 Axes>"
      ]
     },
     "metadata": {},
     "output_type": "display_data"
    }
   ],
   "source": [
    "plt.figure(figsize=(10, 3))\n",
    "train_df_viz = train_df.query('region == \"Atlanta\" & type == \"organic\"')[['Date', 'AveragePrice']].set_index('Date').sort_index()\n",
    "test_df_viz = test_df.query('region == \"Atlanta\" & type == \"organic\"')[['Date', 'AveragePrice']].set_index('Date').sort_index()\n",
    "plt.plot(train_df_viz, \"b\", label=\"train\")\n",
    "plt.plot(test_df_viz, \"r\", label=\"test\")\n",
    "plt.xticks(rotation=\"vertical\")\n",
    "plt.legend();"
   ]
  },
  {
   "attachments": {},
   "cell_type": "markdown",
   "id": "8fb6600a",
   "metadata": {},
   "source": [
    "I will be ignoring the the complicated division of data with overlapping regions, and a series of measurements for each `region`, `type` combination and simply using the dataset with some feature engineering and preprocessing.\n",
    "\n",
    "#### Feature Engineering\n",
    "\n",
    "An important part of this project was recognizing that the data is ordered by `Date`, the time of the measurements of avocado price. Because we are trying to predict the future avocado price, the time order and features we can extract from it could be important predictors of future avocado prices.\n",
    "\n",
    "The first thing we engineered was actually the `target`, the true value of what we want to predict. Our goal is to predict the avocado next week which is actually already encoded into our data. Because each measurement is chronologically separated by a week, the real price of avocados next week can be obtained by creating a new column and setting the avocado `AveragePriceNextWeek` to be the next row's value, ordered by `Date`, and grouped by `region` and `type`. This `target` will be used to evaluate whether our model correctly predicts the next value.\n",
    "\n",
    "Additionally, some feature columns created using the time series data that takes the form `yyyy-mm-dd` are:\n",
    "- `Month` -> taken from the time series data, this feature isolates the Month as a feature and predictor of avocado prices\n",
    "- `Season` -> by groupings months into 3-month seasons as a predictor\n",
    "- `AveragePriceLastWeek` -> using the price of the previous week as a predictor to account for past prices\n",
    "\n",
    "#### Preprocessing\n",
    "\n",
    "Before using our data, I needed to transform it so that categorical features are interpretable by the models we will use and numeric values will all have the same scale, so that their impact is based on the patterns identified within them rather than their magnitude.\n",
    "\n",
    "Features that are \n",
    "- numeric include: `AveragePrice`, `Total Volume`, `4046`, `4225`, `477`',`Total Bags`, `Small Bags`, `Large Bags`, `XLarge Bags`, `AveragePriceLastWeek`\n",
    "- categorical: `type`, `year`, `region`, `Season`, `Month`\n",
    "\n",
    "By using `StandardScaler` to normalize numeric features and `OneHotEncoder` to encode categorical features, I defined a preprocessor to be used prior to modelling.\n",
    "\n",
    "#### Testing Models\n",
    "\n"
   ]
  },
  {
   "attachments": {},
   "cell_type": "markdown",
   "id": "ffffbca0",
   "metadata": {},
   "source": [
    "As a baseline, to check that models perform better than a \"simple\" way to forecast avocdo prices, I evaluated a dummy model using a basic pattern that avocado prices next week will be the same as the current week.\n",
    "\n",
    "I primarily used `Ridge`, a common regression model in `sklearn` which produces interpretable coefficients for each of the features to analyze which features are significant to the avocado price forecast. I tested a combination of the features previously engineered to see which ones have an impact on our predictions. \n",
    "\n",
    "Finally, I created a model in which I optimized the hyperparameter of `Ridge`, `alpha` for the best combination of engineered features. `alpha` is a hyperparameter that influences the regularization, and therefore complexity of patterns identified by `Ridge`. This hyperparameter should be optimized because we don't want our model identifying patterns that are too complex (overfitting) which don't reflect real patterns and missing patterns (underfitting) which means we miss important patterns for prediction.\n",
    "\n",
    " Additionally, I also tried some other regression models such as `DecisionTreeRegressor`, a non-linear regression model based on decision trees, `RandomForestRegressor` and ensemble model utilizing a number of decision trees, and Support Vector Regression (`SVR`) which uses a non-linear kernel used to fit the model.\n",
    "\n",
    "For each model, I recorded the training score (blue in the plot) and test score (red in the plot). The training score is obtained by evaluating the models on the data used to train it and the testing score evaluates the model on new \"unseen\" data.\n",
    "\n",
    "My results will be analyzed using the best of these models, `Ridge` that was optimized and using engineered features."
   ]
  },
  {
   "cell_type": "code",
   "execution_count": 87,
   "id": "d5179842",
   "metadata": {},
   "outputs": [
    {
     "data": {
      "text/plain": [
       "<matplotlib.legend.Legend at 0x2a9192020>"
      ]
     },
     "execution_count": 87,
     "metadata": {},
     "output_type": "execute_result"
    },
    {
     "data": {
      "image/png": "[encoded data removed]",
      "text/plain": [
       "<Figure size 640x480 with 1 Axes>"
      ]
     },
     "metadata": {},
     "output_type": "display_data"
    }
   ],
   "source": [
    "models = results['model']\n",
    "train_scores = np.array(results['train_score'])\n",
    "test_scores = np.array(results['test_score'])\n",
    "x = np.arange(len(models))\n",
    "width = 0.35\n",
    "fig, ax = plt.subplots()\n",
    "ax.bar(x - width/2, train_scores, width, color='b', label='Train Score')\n",
    "ax.bar(x + width/2, test_scores, width, color='r', label='Test Score')\n",
    "ax.set_xticks(x)\n",
    "ax.set_xticklabels(models)\n",
    "plt.xticks(rotation=85)\n",
    "plt.xlabel('Models')\n",
    "plt.ylabel('Score')\n",
    "ax.axhline(y=0.81, color='k', linestyle='--')\n",
    "ax.legend()\n"
   ]
  },
  {
   "attachments": {},
   "cell_type": "markdown",
   "id": "e09efcd2",
   "metadata": {},
   "source": [
    "#### Results\n",
    "\n",
    "Althought the performance of the `Ridge` models did not differ much from each other, and only improved from the dummy model by approximately `0.05`, we can see from the plots of the training and testing prediction price versus true price below that the model neither underfits nor overfits. The points over the line are over-predictions and under the lines are under-predictions. There seems to be quite an even amount of over and under-predictions until we reach the higher-prices in which there seems to be more under predictions.\n",
    "\n",
    "Overall, the training and testing score have decent values, with a small gap between them. A testing and training score around 0.8 indicates that we are not underfitting and finding sufficient patterns to forecast avocado prices for the next week.\n",
    "\n",
    "The small gap in testing and training score indicates that our model is not overfitting, since the training score and testing score are similar, the patterns learned in testing generalize decently to new examples.\n",
    "\n",
    "We can also look at the coefficient values obtained by our `Ridge` model to see if they make sense. I've plotted the top 10 coefficients by magnitude, which are the 10 features with the biggest impact, positive or negaitvely on forecasting next week's avocado prices. It makes sense that the previous week and current week's price are good predictors for future prices as there seems to be a good linear relationship between previous and future prices. \n",
    "\n",
    "The other features such as regions, amount sold for types of avocados and sizes of bags, etc. all seem to be weaker predictors for forecasting."
   ]
  },
  {
   "cell_type": "code",
   "execution_count": 88,
   "id": "f88f5428",
   "metadata": {},
   "outputs": [
    {
     "data": {
      "image/png": "[encoded data removed]",
      "text/plain": [
       "<Figure size 640x480 with 1 Axes>"
      ]
     },
     "metadata": {},
     "output_type": "display_data"
    }
   ],
   "source": [
    "plt.scatter(y_train, grid_search.predict(train_df), alpha=0.2)\n",
    "grid = np.linspace(y_train.min(), y_train.max(), 1000)\n",
    "plt.plot(grid, grid, \"--k\")\n",
    "plt.title(\"Optimized Ridge model - Training Deviation from true price\")\n",
    "plt.xlabel(\"true price\")\n",
    "plt.ylabel(\"predicte price\");"
   ]
  },
  {
   "cell_type": "code",
   "execution_count": 89,
   "id": "5950bc65",
   "metadata": {},
   "outputs": [
    {
     "data": {
      "image/png": "[encoded data removed]",
      "text/plain": [
       "<Figure size 640x480 with 1 Axes>"
      ]
     },
     "metadata": {},
     "output_type": "display_data"
    }
   ],
   "source": [
    "plt.scatter(y_test, grid_search.predict(test_df), alpha=0.2)\n",
    "grid = np.linspace(y_test.min(), y_test.max(), 1000)\n",
    "plt.plot(grid, grid, \"--k\")\n",
    "plt.title(\"Optimized Ridge model - Testing Deviation from true price\")\n",
    "plt.xlabel(\"true price\")\n",
    "plt.ylabel(\"predicte price\");"
   ]
  },
  {
   "cell_type": "code",
   "execution_count": 90,
   "id": "68f5ea09",
   "metadata": {},
   "outputs": [
    {
     "data": {
      "image/png": "[encoded data removed]",
      "text/plain": [
       "<Figure size 640x480 with 1 Axes>"
      ]
     },
     "metadata": {},
     "output_type": "display_data"
    }
   ],
   "source": [
    "ridge_coef = pd.DataFrame(\n",
    "        data=grid_search.best_estimator_.named_steps['ridge'].coef_.flatten(),\n",
    "        index=X_train_enc.columns,\n",
    "        columns=[\"Coef\"],\n",
    "    )\n",
    "ridge_coef['Coef_abs'] = ridge_coef['Coef'].abs()\n",
    "ridge_coef = ridge_coef.sort_values(by=\"Coef_abs\", ascending=False)\n",
    "coef = ridge_coef['Coef'][:10]\n",
    "plt.bar(range(len(coef)), coef)\n",
    "plt.xticks(range(len(coef)), ridge_coef.index[:10], rotation=90)\n",
    "plt.ylabel('Coefficient')\n",
    "plt.show()"
   ]
  },
  {
   "attachments": {},
   "cell_type": "markdown",
   "id": "c71a3fdb",
   "metadata": {},
   "source": [
    "#### Limitations\n",
    "Some limitations that influenced my results were\n",
    "1. Insufficient time: If I had more time, I would have tried more features other than common ones for feature engineering and varying combinations. Additionally, possibly by looking at their correlation, I could also use a better combination of features. With more time I would also be able to perform hyperparameter optimization on more models.\n",
    "2. Insufficient computing power: With more computing power (and time), I could conduct hyperparameter optimization on not only `Ridge` but also the other models, including more complicated ensemble models which may be able to produce better scores.\n",
    "3. Splitting of data: Due to external factors that the dataset not captures, it is possible that the testing the model on only 6 months of data ignores some of the features we engineered such as `Month` and `Season`, since our test data only occurs in half the months and seasons. Trying other train-test splits or using a larger dataset to do proper cross-validation would allow me to better verify these results.\n",
    "4. Assumed Linearity: By primarily using `Ridge`, the model can be more interpretable, however it assumes linear patterns in the data. Without sufficiently diving into non-linear models and other linear models, these patterns may not be found. Additionally, ensembles could be a good method of capturing both linear and non-linear patterns in data.\n",
    "\n",
    "#### Conclusion\n",
    "\n",
    "When approaching a new dataset, there are many ways you can approach the problem. By pre-processing, trying different ways of feature engineering, and testing out various models, we can find one(s) that best identify generalizable patterns to accomplish prediction goals through supervised learning. \n",
    "\n",
    "It is important to recognize that although training a model may not take long, the steps in order to explore, optimize, and analyze a model that has good generalizability is extremely time consuming and requires many models to be trained in the process.\n",
    "\n",
    "This project has been a fantastic way of applying many of the concepts learn through CPSC 330: Applied Machine Learning and has provided insight into the complexity but never-ending curiosity that exploring machine learning projects have."
   ]
  },
  {
   "cell_type": "markdown",
   "id": "4052395d-a695-4063-97b6-46c4e13016d8",
   "metadata": {},
   "source": [
    "<br><br>"
   ]
  },
  {
   "cell_type": "markdown",
   "id": "d59667c9-db6a-4c12-a556-5b9815ef3564",
   "metadata": {},
   "source": [
    "### Exercise 4.2\n",
    "rubric={points:6}\n",
    "\n",
    "Describe one effective communication technique that you used in your post, or an aspect of the post that you are particularly satisfied with.\n",
    "\n",
    "Max 3 sentences"
   ]
  },
  {
   "attachments": {},
   "cell_type": "markdown",
   "id": "1180d763",
   "metadata": {},
   "source": [
    "**ANSWER:**\n",
    "One effective communication technique was the structural organization of the blog post. By using ordered and unordered lists separated by paragraph breaks and visualizations, the organization allows users to incrementally learn information from the blogpost necessary to understand and follow along with the blog post."
   ]
  },
  {
   "cell_type": "markdown",
   "id": "87ea9c37-34c9-4b3e-a2df-e00cedd3e8ae",
   "metadata": {},
   "source": [
    "<br><br><br><br>"
   ]
  },
  {
   "cell_type": "markdown",
   "id": "04cefc8e-cf76-4c27-9aa6-c560cbc0fc2b",
   "metadata": {},
   "source": [
    "### (Optional) Exercise 5 <a name=\"5\"></a>\n",
    "rubric={points:1}\n",
    "\n",
    "**Your tasks:**\n",
    "\n",
    "What is your biggest takeaway from this course? \n",
    "\n",
    "> I'm looking forward to read your answers. "
   ]
  },
  {
   "attachments": {},
   "cell_type": "markdown",
   "id": "776efeb8",
   "metadata": {},
   "source": [
    "**ANSWER:**\n",
    "My biggest takeaway into this course is that there are so many tradeoffs, optimizations, and decisions that must be considered when building machine learning models on top of ethics. Additionally, it is important to communicate the learnings from machine learning through statistics, visualizations, and analysis to bring meaning to the results. Exploring and applying these concepts in combination has been a fantastic introduction into the complexity of machine learning."
   ]
  },
  {
   "cell_type": "markdown",
   "id": "a2fb9e2f-a2d2-4f56-9fb4-c91492e4801b",
   "metadata": {},
   "source": [
    "<br><br><br><br>"
   ]
  },
  {
   "cell_type": "markdown",
   "id": "ab723dc5-4ea6-4c44-ace9-bf345bf8c120",
   "metadata": {},
   "source": [
    "## Submission instructions \n",
    "\n",
    "**PLEASE READ:** When you are ready to submit your assignment do the following:\n",
    "\n",
    "1. Run all cells in your notebook to make sure there are no errors by doing `Kernel -> Restart Kernel and Clear All Outputs` and then `Run -> Run All Cells`. \n",
    "2. Notebooks with cell execution numbers out of order or not starting from “1” will have marks deducted. Notebooks without the output displayed may not be graded at all (because we need to see the output in order to grade your work).\n",
    "3. Upload the assignment using Gradescope's drag and drop tool. Check out this [Gradescope Student Guide](https://lthub.ubc.ca/guides/gradescope-student-guide/) if you need help with Gradescope submission. "
   ]
  },
  {
   "cell_type": "markdown",
   "id": "1b4e160c-d947-4123-8e67-fa3c89c9aa8f",
   "metadata": {},
   "source": [
    "### Congratulations on finishing all homework assignments! :clap: :clap: "
   ]
  },
  {
   "cell_type": "code",
   "execution_count": 91,
   "id": "15f3bee4-0171-4465-838f-e5ac8a943e10",
   "metadata": {},
   "outputs": [
    {
     "data": {
      "image/png": "[encoded data removed]",
      "text/plain": [
       "<IPython.core.display.Image object>"
      ]
     },
     "execution_count": 91,
     "metadata": {},
     "output_type": "execute_result"
    }
   ],
   "source": [
    "from IPython.display import Image\n",
    "\n",
    "Image(\"eva-congrats.png\")"
   ]
  }
 ],
 "metadata": {
  "kernelspec": {
   "display_name": "cpsc330",
   "language": "python",
   "name": "python3"
  },
  "language_info": {
   "codemirror_mode": {
    "name": "ipython",
    "version": 3
   },
   "file_extension": ".py",
   "mimetype": "text/x-python",
   "name": "python",
   "nbconvert_exporter": "python",
   "pygments_lexer": "ipython3",
   "version": "3.10.8"
  }
 },
 "nbformat": 4,
 "nbformat_minor": 5
}
